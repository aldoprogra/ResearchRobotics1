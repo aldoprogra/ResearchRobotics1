{
 "cells": [
  {
   "cell_type": "code",
   "execution_count": 9,
   "id": "542594e1",
   "metadata": {
    "ExecuteTime": {
     "end_time": "2022-05-15T12:33:44.881166Z",
     "start_time": "2022-05-15T12:33:44.873470Z"
    }
   },
   "outputs": [],
   "source": [
    "import rospy\n",
    "import os\n",
    "from move_base_msgs.msg import MoveBaseActionFeedback\n",
    "from move_base_msgs.msg import MoveBaseActionGoal\n",
    "from nav_msgs.msg import Odometry\n",
    "from geometry_msgs.msg import Twist\n",
    "from actionlib_msgs.msg import GoalID\n",
    "from actionlib_msgs.msg import GoalStatusArray\n",
    "import sys, tty\n",
    "from sensor_msgs.msg import LaserScan\n",
    "from IPython.core.display import display, HTML\n",
    "from IPython.display import display,clear_output\n",
    "from ipywidgets import AppLayout, Button, Layout, ButtonStyle, GridBox, VBox, HBox , widgets , interact, interactive, fixed, interact_manual, interactive_output\n",
    "import time\n",
    "import matplotlib.pyplot as plt \n",
    "from move_base_msgs.msg import MoveBaseActionResult\n",
    "import jupyros as jr"
   ]
  },
  {
   "cell_type": "markdown",
   "id": "27daa1ef",
   "metadata": {},
   "source": [
    "# JUPYTER ASSIGNMENT!!"
   ]
  },
  {
   "cell_type": "markdown",
   "id": "fd468e25",
   "metadata": {
    "ExecuteTime": {
     "end_time": "2022-05-13T15:25:28.149240Z",
     "start_time": "2022-05-13T15:25:28.140357Z"
    }
   },
   "source": [
    "## Assisted manual modality"
   ]
  },
  {
   "cell_type": "code",
   "execution_count": 12,
   "id": "64bb4e61",
   "metadata": {
    "ExecuteTime": {
     "end_time": "2022-05-15T13:14:10.881091Z",
     "start_time": "2022-05-15T13:14:09.746603Z"
    }
   },
   "outputs": [
    {
     "name": "stderr",
     "output_type": "stream",
     "text": [
      "Removing previous callback, only one redirection possible right now\n"
     ]
    },
    {
     "data": {
      "text/html": [
       "<h1 style = \"position:relative; margin-left:370px;\">Assisted Motion Planner</h1>"
      ],
      "text/plain": [
       "<IPython.core.display.HTML object>"
      ]
     },
     "metadata": {},
     "output_type": "display_data"
    },
    {
     "name": "stdout",
     "output_type": "stream",
     "text": [
      "\n",
      "\n",
      "\n",
      "\n"
     ]
    },
    {
     "data": {
      "application/vnd.jupyter.widget-view+json": {
       "model_id": "b81df42015734691ba72d2040896d624",
       "version_major": 2,
       "version_minor": 0
      },
      "text/plain": [
       "GridBox(children=(Button(description='^', layout=Layout(grid_area='forw', width='auto'), style=ButtonStyle(but…"
      ]
     },
     "metadata": {},
     "output_type": "display_data"
    },
    {
     "name": "stdout",
     "output_type": "stream",
     "text": [
      "\n",
      "\n"
     ]
    },
    {
     "data": {
      "text/html": [
       "<h3 style = \"position:relative; margin-left:0px;\">Closest obstacle distance:</h3>"
      ],
      "text/plain": [
       "<IPython.core.display.HTML object>"
      ]
     },
     "metadata": {},
     "output_type": "display_data"
    },
    {
     "name": "stdout",
     "output_type": "stream",
     "text": [
      "\n",
      "\n"
     ]
    },
    {
     "data": {
      "application/vnd.jupyter.widget-view+json": {
       "model_id": "c7f7d69309c8493a82cbb5ae29a7b7a8",
       "version_major": 2,
       "version_minor": 0
      },
      "text/plain": [
       "Output(layout=Layout(border='1px solid black'))"
      ]
     },
     "metadata": {},
     "output_type": "display_data"
    },
    {
     "data": {
      "text/html": [
       "<h3 style = \"position:relative; margin-left:0px;\">State:</h3>"
      ],
      "text/plain": [
       "<IPython.core.display.HTML object>"
      ]
     },
     "metadata": {},
     "output_type": "display_data"
    },
    {
     "name": "stdout",
     "output_type": "stream",
     "text": [
      "\n",
      "\n"
     ]
    },
    {
     "data": {
      "application/vnd.jupyter.widget-view+json": {
       "model_id": "e3d3fc83d4644fcf80be824d73c3b6ce",
       "version_major": 2,
       "version_minor": 0
      },
      "text/plain": [
       "Output(layout=Layout(border='1px solid black'))"
      ]
     },
     "metadata": {},
     "output_type": "display_data"
    },
    {
     "name": "stdout",
     "output_type": "stream",
     "text": [
      "\n",
      "\n"
     ]
    },
    {
     "data": {
      "application/vnd.jupyter.widget-view+json": {
       "model_id": "88ca9666f31a4841ae94801bc8fbf553",
       "version_major": 2,
       "version_minor": 0
      },
      "text/plain": [
       "Button(description='Plot position', layout=Layout(margin='0px 0px 0px 700px', width='100'), style=ButtonStyle(…"
      ]
     },
     "metadata": {},
     "output_type": "display_data"
    },
    {
     "data": {
      "application/vnd.jupyter.widget-view+json": {
       "model_id": "99223225d9f944c98e378465b7200e5c",
       "version_major": 2,
       "version_minor": 0
      },
      "text/plain": [
       "Button(description='Exit', layout=Layout(margin='0px 0px 0px 700px', width='100'), style=ButtonStyle(button_co…"
      ]
     },
     "metadata": {},
     "output_type": "display_data"
    },
    {
     "data": {
      "application/vnd.jupyter.widget-view+json": {
       "model_id": "2cd5577ceb2a47d997d8bfba0443db44",
       "version_major": 2,
       "version_minor": 0
      },
      "text/plain": [
       "Canvas(toolbar=Toolbar(toolitems=[('Home', 'Reset original view', 'home', 'home'), ('Back', 'Back to previous …"
      ]
     },
     "metadata": {},
     "output_type": "display_data"
    }
   ],
   "source": [
    "\n",
    "################### assisted manual\n",
    "\n",
    "%matplotlib widget\n",
    "\n",
    "def take_action(min_fright,min_front, min_fleft):\n",
    "        global my_vel, vel_pub,state\n",
    "        linear_x = 0\n",
    "        angular_z = 0\n",
    "\n",
    "        laser = rospy.wait_for_message(\"/scan\", LaserScan)\n",
    "        [min_fright, min_front, min_fleft] = clbk_laser(laser)\n",
    "        \n",
    "        #print(min_fright,min_front, min_fleft)\n",
    "        my_vel.linear.y = 0\n",
    "        my_vel.linear.z = 0\n",
    "        my_vel.angular.x = 0\n",
    "        my_vel.angular.y= 0\n",
    "   \n",
    " \n",
    "        state_description = 'SWITCH ASSISTED DRIVE'\n",
    "        \n",
    "        \n",
    "\n",
    "        \n",
    "        if min_front > 1 and min_fleft > 1 and min_fright > 1:\n",
    "            state_description = 'case 1 - nothing'\n",
    "            linear_x = 0.6\n",
    "            angular_z = 0\n",
    "        elif min_front < 1 and min_fleft > 1 and min_fright > 1:\n",
    "            state_description = 'case 2 - front'\n",
    "            linear_x = -2\n",
    "            angular_z = 0\n",
    "        elif min_front > 1 and min_fleft > 1 and min_fright < 1:\n",
    "            state_description = 'case 3 - fright'\n",
    "            linear_x = 0\n",
    "            angular_z = 1\n",
    "        elif min_front > 1 and min_fleft < 1 and min_fright > 1:\n",
    "            state_description = 'case 4 - fleft'\n",
    "            linear_x = 0\n",
    "            angular_z = -1\n",
    "        elif min_front < 1 and min_fleft > 1 and min_fright < 1:\n",
    "            state_description = 'case 5 - front and fright'\n",
    "            linear_x = 0\n",
    "            angular_z = 1\n",
    "        elif min_front < 1 and min_fleft < 1 and min_fright > 1:\n",
    "            state_description = 'case 6 - front and fleft'\n",
    "            linear_x = 0\n",
    "            angular_z = -1\n",
    "        elif min_front < 1 and min_fleft < 1 and min_fright < 1:\n",
    "            state_description = 'case 7 - front and fleft and fright'\n",
    "            linear_x = 0\n",
    "            angular_z = 2\n",
    "        elif min_front > 1 and min_fleft < 1 and min_fright < 1:\n",
    "            state_description = 'case 8 - fleft and fright'\n",
    "            linear_x = 0.3\n",
    "            angular_z = 0\n",
    "            \n",
    "\n",
    "        my_vel.linear.x = linear_x\n",
    "        my_vel.angular.z = angular_z\n",
    "        vel_pub.publish(my_vel)\n",
    "        \n",
    "        with state:\n",
    "            print('\\r                           ', end='', flush=True)\n",
    "            print(f'\\r{state_description}', end='', flush=True)\n",
    "\n",
    "        \n",
    "\n",
    "\n",
    "def clbk_laser(msg):\n",
    "        min_fright = min(min(msg.ranges[144:287]), 5)\n",
    "        min_front =  min(min(msg.ranges[288:431]), 5)\n",
    "        min_fleft =  min(min(msg.ranges[432:575]), 5)\n",
    "        global vel_pub, my_vel, min_assfront\n",
    "        if(min_front < 1):\n",
    "            [my_vel.linear.x, my_vel.angular.z] =[0 , 0]\n",
    "            vel_pub.publish(my_vel)\n",
    "            \n",
    "\n",
    "        with min_assfront: \n",
    "            print('\\r                                          ', end='', flush=True)\n",
    "            print(f'\\r{min_front}', end='', flush=True)\n",
    "            \n",
    "        return min_fright, min_front, min_fleft\n",
    "\n",
    "def plt_(a):\n",
    "    %matplotlib widget\n",
    "\n",
    "    global x_data, y_data\n",
    "\n",
    "    fig = plt.figure()\n",
    "    axo = fig.add_axes([0,0,1,1])\n",
    "    line, = axo.plot([], [], 'ro')\n",
    "    axo.set_xlim(( -20, 20))\n",
    "    axo.set_ylim((-20, 20))\n",
    "    axo.set_title(\"my_robot\")\n",
    "    axo.set_xlabel(\"x\")\n",
    "    axo.set_ylabel(\"y\") \n",
    "    \n",
    "    np1_x_plot = np.array(x_data)\n",
    "    np1_y_plot = np.array(y_data)\n",
    "    fig = plt.cla()\n",
    "    axo.set_xlim(( -20, 20))\n",
    "    axo.set_ylim((-20, 20))\n",
    "   \n",
    "    axo.plot(np1_x_plot,np1_y_plot)\n",
    "\n",
    "    \n",
    "    \n",
    "    \n",
    "def frw(a):\n",
    "    global my_vel, vel_pub,state\n",
    "    laser = rospy.wait_for_message(\"/scan\", LaserScan)\n",
    "    [min_fright, min_front, min_fleft] = clbk_laser(laser)\n",
    "    [my_vel.linear.x, my_vel.angular.z] =[1 , 0]\n",
    "    vel_pub.publish(my_vel)\n",
    "    if min_front < 1:\n",
    "        [my_vel.linear.x, my_vel.angular.z] =[0 , 0]\n",
    "        vel_pub.publish(my_vel)\n",
    "        with state:\n",
    "            print('\\r                           ', end='', flush=True)\n",
    "            print(f'\\rAssisted modality', end='', flush=True)\n",
    "        take_action(min_fright, min_front, min_fleft)\n",
    "                        \n",
    "    else:    \n",
    "        with state:\n",
    "            print('\\r                                                ', end='', flush=True)\n",
    "            print(f'\\rManual modality', end='', flush=True)\n",
    "        [my_vel.linear.x, my_vel.angular.z] =[1 , 0]\n",
    "        vel_pub.publish(my_vel)\n",
    "    \n",
    "def be(a):\n",
    "    global my_vel, vel_pub,state\n",
    "    laser = rospy.wait_for_message(\"/scan\", LaserScan)\n",
    "    [min_fright, min_front, min_fleft] = clbk_laser(laser)\n",
    "\n",
    "    if min_front < 1 or min_fleft < 1 or min_fright < 1:\n",
    "        with state:\n",
    "            print('\\r                                                      ', end='', flush=True)\n",
    "            print(f'\\rAssisted modality', end='', flush=True)\n",
    "        take_action(min_fright, min_front, min_fleft)\n",
    "\n",
    "                        \n",
    "    else:    \n",
    "        [my_vel.linear.x, my_vel.angular.z] =[-1 , 0]\n",
    "        vel_pub.publish(my_vel)\n",
    "        with state:\n",
    "            print('\\r                                            ', end='', flush=True)\n",
    "            print(f'\\rManual modality', end='', flush=True)\n",
    "\n",
    "    \n",
    "def le(a):\n",
    "    global my_vel, vel_pub,state\n",
    "    laser = rospy.wait_for_message(\"/scan\", LaserScan)\n",
    "    [min_fright, min_front, min_fleft] = clbk_laser(laser)\n",
    "\n",
    "    if min_front < 1 or min_fleft < 1 or min_fright < 1:\n",
    "        with state:\n",
    "            print('\\r                                              ', end='', flush=True)\n",
    "            print(f'\\rAssisted modality', end='', flush=True)\n",
    "        take_action(min_fright, min_front, min_fleft)\n",
    "                        \n",
    "    else:    \n",
    "        with state:\n",
    "            print('\\r                                           ', end='', flush=True)\n",
    "            print(f'\\rManual modality', end='', flush=True)\n",
    "        [my_vel.linear.x, my_vel.angular.z] =[0 , 2]\n",
    "        vel_pub.publish(my_vel)\n",
    "    \n",
    "    \n",
    "def ri(a):\n",
    "    global my_vel,vel_pub,state\n",
    "    laser = rospy.wait_for_message(\"/scan\", LaserScan)\n",
    "    [min_fright, min_front, min_fleft] = clbk_laser(laser)\n",
    " \n",
    "    if min_front < 1 or min_fleft < 1 or min_fright < 1:\n",
    "        with state:\n",
    "            print('\\r                                       ', end='', flush=True)\n",
    "            print(f'\\rAssisted modality', end='', flush=True)\n",
    "        take_action(min_fright, min_front, min_fleft)\n",
    "        \n",
    "                        \n",
    "    else:    \n",
    "        with state:\n",
    "            print('\\r                                       ', end='', flush=True)\n",
    "            print(f'\\rManual modality', end='', flush=True)\n",
    "        [my_vel.linear.x, my_vel.angular.z] =[0, -2]\n",
    "        vel_pub.publish(my_vel)\n",
    "\n",
    "        \n",
    "def exm(a):\n",
    "    global exit,amm_bol \n",
    "    amm_bol = False\n",
    "    exit = False\n",
    "    [my_vel.linear.x, my_vel.angular.z] =[0 , 0]\n",
    "    vel_pub.publish(my_vel)\n",
    "    into()\n",
    "    \n",
    "    \n",
    "    \n",
    "def assisted_manual_show():\n",
    "    \n",
    "        global vel_pub,my_vel,y_data,x_data, position\n",
    "        x_data = []\n",
    "        y_data = []\n",
    "        clear_output(wait = True)\n",
    "        vel_pub = rospy.Publisher(\"cmd_vel\", Twist, queue_size= 50)\n",
    "        #laser = rospy.wait_for_message(\"/scan\", LaserScan)\n",
    "        \n",
    "        my_vel = Twist()\n",
    "        my_vel.linear.y = 0\n",
    "        my_vel.linear.z = 0\n",
    "        my_vel.angular.x = 0\n",
    "        my_vel.angular.y= 0\n",
    "        \n",
    "        global axo\n",
    "        laser = rospy.wait_for_message(\"/scan\", LaserScan)\n",
    "         #333333333333333333333333333333333333333333333333333333333333   \n",
    "        jr.subscribe('/odom', Odometry, odom_callback)\n",
    "        position = rospy.wait_for_message(\"/odom\",Odometry)\n",
    "\n",
    "        #3333333333333333333333333333333333333333333333333333333333333333\n",
    "        global min_assfront\n",
    "        min_assfront = widgets.Output(layout={'border': '1px solid black'},style = \"position:relative; margin-left:2000px;\") \n",
    "\n",
    "    \n",
    "        \n",
    "        global min_fright, min_front, min_fleft\n",
    "        [min_fright, min_front, min_fleft] = clbk_laser(laser)\n",
    "        \n",
    "    \n",
    "\n",
    "        \n",
    "        \n",
    "        #------------------------------------------------------------\n",
    "        display(HTML('<h1 style = \"position:relative; margin-left:370px;\">Assisted Motion Planner</h1>'))\n",
    "        print('\\n')\n",
    "        print('\\n')\n",
    "        state_description = ''\n",
    "\n",
    "        forw = Button(description='^',layout=Layout(width='auto', grid_area='forw'), style=ButtonStyle(button_color='lightblue'))\n",
    "        lef = Button(description='<', layout=Layout(width='auto', grid_area='lef'), style=ButtonStyle(button_color='lightblue'))\n",
    "        rig = Button(description='>', layout=Layout(width='auto', grid_area='rig'), style=ButtonStyle(button_color='lightblue'))\n",
    "        beh = Button(description='v', layout=Layout(width='auto', grid_area='beh'), style=ButtonStyle(button_color='lightblue'))\n",
    "\n",
    "        field = GridBox(children=[forw,lef,rig,beh], layout=Layout(width='auto',grid_template_rows='auto auto auto', grid_template_columns='auto auto auto', grid_template_areas='''\n",
    "        \" . forw . \" \n",
    "        \"lef . rig \"\n",
    "        \" . beh . \"\n",
    "        ''')\n",
    "        )\n",
    "        #------------------------------------------------------------\n",
    "        display(field)\n",
    "        print('\\n')\n",
    "        display(HTML('<h3 style = \"position:relative; margin-left:0px;\">Closest obstacle distance:</h3>'))\n",
    "        print('\\n')\n",
    "        \n",
    "        display(min_assfront)\n",
    "        display(HTML('<h3 style = \"position:relative; margin-left:0px;\">State:</h3>'))\n",
    "        print('\\n')\n",
    "        global state\n",
    "        state = widgets.Output(layout={'border': '1px solid black'},style = \"position:relative; margin-left:2000px;\") \n",
    "        display(state)\n",
    "        print('\\n')\n",
    "        \n",
    "        plt_pos = Button(description='Plot position', layout=Layout(width='100', margin= '0px 0px 0px 700px'), style=ButtonStyle(button_color='orange'))\n",
    "        display(plt_pos)\n",
    "        \n",
    "        exitm = Button(description='Exit', layout=Layout(width='100', margin= '0px 0px 0px 700px'), style=ButtonStyle(button_color='red'))\n",
    "        display(exitm)\n",
    "        state_description = ''\n",
    "       \n",
    "        \n",
    "\n",
    "        #------------------------------------------------------------\n",
    "        \n",
    "        \n",
    "        exitm.on_click(exm)\n",
    "        plt_pos.on_click(plt_)\n",
    "        forw.on_click(frw)\n",
    "        lef.on_click(le)\n",
    "        rig.on_click(ri)\n",
    "        beh.on_click(be)\n",
    "        \n",
    "\n",
    "assisted_manual_show()\n",
    "    "
   ]
  },
  {
   "cell_type": "markdown",
   "id": "cb9eefa8",
   "metadata": {
    "ExecuteTime": {
     "end_time": "2022-05-13T15:26:05.474718Z",
     "start_time": "2022-05-13T15:26:05.467709Z"
    }
   },
   "source": [
    "## Manual modality"
   ]
  },
  {
   "cell_type": "code",
   "execution_count": 10,
   "id": "40e54a86",
   "metadata": {
    "ExecuteTime": {
     "end_time": "2022-05-15T13:12:32.356629Z",
     "start_time": "2022-05-15T13:12:31.493639Z"
    }
   },
   "outputs": [
    {
     "name": "stderr",
     "output_type": "stream",
     "text": [
      "Removing previous callback, only one redirection possible right now\n"
     ]
    },
    {
     "data": {
      "text/html": [
       "<h1 style = \"position:relative; margin-left:340px;\">Motion Planner Interface</h1>"
      ],
      "text/plain": [
       "<IPython.core.display.HTML object>"
      ]
     },
     "metadata": {},
     "output_type": "display_data"
    },
    {
     "name": "stdout",
     "output_type": "stream",
     "text": [
      "\n",
      "\n",
      "\n",
      "\n"
     ]
    },
    {
     "data": {
      "application/vnd.jupyter.widget-view+json": {
       "model_id": "3cee3c944076463e80f749df8b474448",
       "version_major": 2,
       "version_minor": 0
      },
      "text/plain": [
       "GridBox(children=(Button(description='^', layout=Layout(grid_area='forward', width='auto'), style=ButtonStyle(…"
      ]
     },
     "metadata": {},
     "output_type": "display_data"
    },
    {
     "data": {
      "application/vnd.jupyter.widget-view+json": {
       "model_id": "7b93a55f26cb452aa41b73e4bbad42dd",
       "version_major": 2,
       "version_minor": 0
      },
      "text/plain": [
       "Button(description='Plot position', layout=Layout(margin='0px 0px 0px 800px', width='600'), style=ButtonStyle(…"
      ]
     },
     "metadata": {},
     "output_type": "display_data"
    },
    {
     "data": {
      "application/vnd.jupyter.widget-view+json": {
       "model_id": "5d3efc4547c44764aab46ff76955a798",
       "version_major": 2,
       "version_minor": 0
      },
      "text/plain": [
       "Canvas(toolbar=Toolbar(toolitems=[('Home', 'Reset original view', 'home', 'home'), ('Back', 'Back to previous …"
      ]
     },
     "metadata": {},
     "output_type": "display_data"
    },
    {
     "data": {
      "application/vnd.jupyter.widget-view+json": {
       "model_id": "85f10899cdda4b9692586e436af3ba74",
       "version_major": 2,
       "version_minor": 0
      },
      "text/plain": [
       "Canvas(toolbar=Toolbar(toolitems=[('Home', 'Reset original view', 'home', 'home'), ('Back', 'Back to previous …"
      ]
     },
     "metadata": {},
     "output_type": "display_data"
    },
    {
     "data": {
      "application/vnd.jupyter.widget-view+json": {
       "model_id": "e6133dcda30141b7a302524e5e6fea7c",
       "version_major": 2,
       "version_minor": 0
      },
      "text/plain": [
       "Canvas(toolbar=Toolbar(toolitems=[('Home', 'Reset original view', 'home', 'home'), ('Back', 'Back to previous …"
      ]
     },
     "metadata": {},
     "output_type": "display_data"
    }
   ],
   "source": [
    "def odom_callback(msg):\n",
    "    global x_data, y_data, x1_data, y1_data\n",
    "    if(len(x_data) == len(y_data)):\n",
    "        y_data.append(msg.pose.pose.position.y)\n",
    "        x_data.append(msg.pose.pose.position.x)\n",
    "    \n",
    "def fforward(forward):\n",
    "\n",
    "    [my_vel.linear.x, my_vel.angular.z] =[1 , 0] \n",
    "    vel_pub.publish(my_vel)\n",
    "\n",
    "def fleft(left):\n",
    "\n",
    "    [my_vel.linear.x, my_vel.angular.z] =[0 , 2]\n",
    "    vel_pub.publish(my_vel)\n",
    "    \n",
    "def fright(right):\n",
    "\n",
    "    [my_vel.linear.x, my_vel.angular.z] =[0, -2]\n",
    "    vel_pub.publish(my_vel)\n",
    "    \n",
    "def fbehind(behind):\n",
    "\n",
    "    [my_vel.linear.x, my_vel.angular.z] =[-1 , 0]\n",
    "    vel_pub.publish(my_vel)\n",
    "\n",
    "def fquit(quit):\n",
    "    global exit,position \n",
    "    exit = False\n",
    "    [my_vel.linear.x, my_vel.angular.z] =[0 , 0]\n",
    "    vel_pub.publish(my_vel)\n",
    "    into()\n",
    "    \n",
    "    \n",
    "def pot(b):\n",
    "    global x_data, y_data\n",
    "    #plt.close()\n",
    "    plt.ion()\n",
    "    fig = plt.figure()\n",
    "    ax = fig.add_axes([0,0,1,1])\n",
    "    line, = ax.plot([], [], 'ro')\n",
    "    ax.set_xlim(( -20, 20))\n",
    "    ax.set_ylim((-20, 20))\n",
    "    ax.set_title(\"my_robot\")\n",
    "    ax.set_xlabel(\"x\")\n",
    "    ax.set_ylabel(\"y\") \n",
    "    \n",
    "    np_x_plot = np.array(x_data)\n",
    "    np_y_plot = np.array(y_data)\n",
    "    #fig = plt.cla()\n",
    "    ax.set_xlim(( -20, 20))\n",
    "    ax.set_ylim((-20, 20))\n",
    "    ax.plot(np_x_plot,np_y_plot)\n",
    "    fig.canvas.draw()\n",
    "    fig.canvas.flush_events()\n",
    "\n",
    "    \n",
    "def manual():\n",
    "    \n",
    "    clear_output(wait = True)\n",
    "    manual_bol = False\n",
    "    exit = True\n",
    "    manual_show()\n",
    "    \n",
    "    \n",
    "    \n",
    "\n",
    "def manual_show():\n",
    "        clear_output(wait = True)\n",
    "        global x_data, y_data\n",
    "        x_data=[]\n",
    "        y_data=[]\n",
    "        global my_vel,vel_pub,exit, manual_bol, position, popo \n",
    "\n",
    "        vel_pub = rospy.Publisher('/cmd_vel', Twist, queue_size = 50)\n",
    "        my_vel = Twist()\n",
    "        \n",
    "        jr.subscribe('/odom', Odometry, odom_callback)\n",
    "        position = rospy.wait_for_message(\"/odom\",Odometry)\n",
    "   \n",
    "        display(HTML('<h1 style = \"position:relative; margin-left:340px;\">Motion Planner Interface</h1>'))\n",
    "        print('\\n')\n",
    "        print('\\n')\n",
    "\n",
    "\n",
    "        forward = Button(description='^',layout=Layout(width='auto', grid_area='forward'), style=ButtonStyle(button_color='lightblue'))\n",
    "        left = Button(description='<', layout=Layout(width='auto', grid_area='left'), style=ButtonStyle(button_color='lightblue'))\n",
    "        right = Button(description='>', layout=Layout(width='auto', grid_area='right'), style=ButtonStyle(button_color='lightblue'))\n",
    "        behind = Button(description='v', layout=Layout(width='auto', grid_area='behind'), style=ButtonStyle(button_color='lightblue'))\n",
    "        quit = Button(description='quit', layout=Layout(width='auto', grid_area='quit'), style=ButtonStyle(button_color='red'))\n",
    "\n",
    "        box = GridBox(children=[forward,left,right,behind,quit], layout=Layout(width='auto',grid_template_rows='auto auto auto', grid_template_columns='auto auto auto', grid_template_areas='''\n",
    "        \" . forward . . .\" \n",
    "        \"left . right . .\"\n",
    "        \" . behind . . quit \"\n",
    "        ''')\n",
    "        )   \n",
    "        display(box)\n",
    "        potto = Button(description='Plot position', layout=Layout(width='600', margin= '0px 0px 0px 800px'), style=ButtonStyle(button_color='orange'))\n",
    "        \n",
    "        display(potto)\n",
    "        \n",
    "        potto.on_click(pot)\n",
    "        forward.on_click(fforward)\n",
    "        left.on_click(fleft)\n",
    "        right.on_click(fright)\n",
    "        behind.on_click(fbehind)\n",
    "        quit.on_click(fquit)\n",
    "\n",
    "\n",
    "manual()\n",
    "        \n",
    "\n"
   ]
  },
  {
   "cell_type": "markdown",
   "id": "84a18447",
   "metadata": {},
   "source": [
    "## Planning mode"
   ]
  },
  {
   "cell_type": "code",
   "execution_count": 11,
   "id": "aba0e0e6",
   "metadata": {
    "ExecuteTime": {
     "end_time": "2022-05-15T12:33:56.505496Z",
     "start_time": "2022-05-15T12:33:56.312461Z"
    }
   },
   "outputs": [
    {
     "data": {
      "text/html": [
       "<h1 style = \"position:relative; margin-left:300px;\">      PLANNING MOTION INTERFACE</h1>"
      ],
      "text/plain": [
       "<IPython.core.display.HTML object>"
      ]
     },
     "metadata": {},
     "output_type": "display_data"
    },
    {
     "name": "stdout",
     "output_type": "stream",
     "text": [
      "\n",
      "\n",
      "\n",
      "\n"
     ]
    },
    {
     "data": {
      "text/html": [
       "<h3 style = \"position:relative; margin-left:0px;\"> Insert coordinates, enter and then submit</h3>"
      ],
      "text/plain": [
       "<IPython.core.display.HTML object>"
      ]
     },
     "metadata": {},
     "output_type": "display_data"
    },
    {
     "data": {
      "application/vnd.jupyter.widget-view+json": {
       "model_id": "41aa26faf858446e926322f39ef4a72f",
       "version_major": 2,
       "version_minor": 0
      },
      "text/plain": [
       "HBox(children=(VBox(children=(Text(value='', description='x'), Text(value='', description='y'))),))"
      ]
     },
     "metadata": {},
     "output_type": "display_data"
    },
    {
     "data": {
      "application/vnd.jupyter.widget-view+json": {
       "model_id": "4daa82649c404f4599712fada217af3b",
       "version_major": 2,
       "version_minor": 0
      },
      "text/plain": [
       "Button(description='Submit', layout=Layout(margin='0px 0px 0px 700px', width='100'), style=ButtonStyle(button_…"
      ]
     },
     "metadata": {},
     "output_type": "display_data"
    },
    {
     "data": {
      "application/vnd.jupyter.widget-view+json": {
       "model_id": "d46ed49f399a4dd59014d1a29dcdce99",
       "version_major": 2,
       "version_minor": 0
      },
      "text/plain": [
       "Button(description='Plot Target', layout=Layout(margin='0px 0px 0px 700px', width='100'), style=ButtonStyle(bu…"
      ]
     },
     "metadata": {},
     "output_type": "display_data"
    },
    {
     "data": {
      "application/vnd.jupyter.widget-view+json": {
       "model_id": "eb6476100e8c4d00af2599020b310f50",
       "version_major": 2,
       "version_minor": 0
      },
      "text/plain": [
       "Button(description='Exit', layout=Layout(margin='0px 0px 50px 700px', width='100'), style=ButtonStyle(button_c…"
      ]
     },
     "metadata": {},
     "output_type": "display_data"
    }
   ],
   "source": [
    "def plt_t(a):\n",
    "    global count_target\n",
    "    if(count_target == None):\n",
    "        plt.ion()\n",
    "        plt.plot(0)\n",
    "    else: \n",
    "        plt.ion()\n",
    "        plt.plot(count_target)\n",
    "    \n",
    "def f(a):\n",
    "    global x\n",
    "    try:\n",
    "        x = float(a.value)\n",
    "    except:\n",
    "        print(\"Please try again\")\n",
    "        \n",
    "    \n",
    "def c(a):\n",
    "    global y\n",
    "    try:\n",
    "        y = float(a.value)\n",
    "    except:\n",
    "        print(\"Please try again\")\n",
    "        \n",
    "def ex(a):\n",
    "    global exit\n",
    "    exit = False\n",
    "    print(\"Exiting\")\n",
    "    time.sleep(1)\n",
    "    into()\n",
    "    \n",
    "def sub(a):\n",
    "    global x,y,plan_bol\n",
    "    try:\n",
    "        float(x)\n",
    "        float(y)\n",
    "        print(\"Perfect, starting the plan\")\n",
    "        time.sleep(1)\n",
    "        clear_output(wait=True)\n",
    "  \n",
    "        \n",
    "    except:\n",
    "        print(\"Please try again\")\n",
    "    else:\n",
    "        move_base()\n",
    "    \n",
    "        \n",
    "    \n",
    "def move_base_show():\n",
    "         \n",
    "       global x,y\n",
    "       x = \"\"\n",
    "       y= \"\"\n",
    "       count_target = []\n",
    "       status = None\n",
    "       result = None\n",
    "       clear_output(wait=True)\n",
    "       display(HTML('<h1 style = \"position:relative; margin-left:300px;\">      PLANNING MOTION INTERFACE</h1>'))\n",
    "       print('\\n')\n",
    "       print('\\n')\n",
    "       display(HTML('<h3 style = \"position:relative; margin-left:0px;\"> Insert coordinates, enter and then submit</h3>'))\n",
    "       \n",
    "       a = widgets.Text(description='x') \n",
    "       b = widgets.Text(description='y') \n",
    "\n",
    "\n",
    "    \n",
    "       coo_box = HBox([widgets.VBox([a, b])])\n",
    "       display(coo_box)\n",
    "\n",
    "       a.on_submit(f)\n",
    "       b.on_submit(c)\n",
    "        \n",
    "       submit = Button(description='Submit', layout=Layout(width='100', margin= '0px 0px 0px 700px'), style=ButtonStyle(button_color='lightblue'))\n",
    "       display(submit)\n",
    "       exit = Button(description='Exit', layout=Layout(width='100', margin= '0px 0px 50px 700px'), style=ButtonStyle(button_color='red'))\n",
    "       \n",
    "       submit.on_click(sub)\n",
    "       exit.on_click(ex)\n",
    "       plt_target = Button(description='Plot Target', layout=Layout(width='100', margin= '0px 0px 0px 700px'), style=ButtonStyle(button_color='orange'))\n",
    "       display(plt_target)\n",
    "       display(exit)\n",
    "        \n",
    "       plt_target.on_click(plt_t)\n",
    "       \n",
    "def todist(x,y,x_pos,y_pos):\n",
    "    return ((x-x_pos)**2-(y-y_pos)**2)**0.5\n",
    "\n",
    "def move_base():\n",
    "\n",
    "        pub_movebase = rospy.Publisher(\"/move_base/goal\", MoveBaseActionGoal, queue_size = 50)\n",
    "        rate = rospy.Rate(10)\n",
    "        move = MoveBaseActionGoal()\n",
    "        move.goal.target_pose.header.frame_id = \"map\"\n",
    "        move.goal.target_pose.pose.orientation.w = 1\n",
    "        position = rospy.wait_for_message(\"/odom\",Odometry)\n",
    "        \n",
    "        \n",
    "        #-------------------------------------\n",
    "        \n",
    "\n",
    "        \n",
    "        \n",
    "        while(True):\n",
    "            \n",
    "                # headings\n",
    "                clear_output(wait = True)\n",
    "                display(HTML('<h3 style = \"position:relative; margin-left:0px;\"> Feedback</h3>'))\n",
    "                feedbackk = widgets.Output(layout={'border': '1px solid black'},style = \"position:relative; margin-left:2000px;\") \n",
    "                display(feedbackk)\n",
    "                display(HTML('<h3 style = \"position:relative; margin-left:0px;\"> Distance to goal</h3>'))\n",
    "                dtg = widgets.Output(layout={'border': '1px solid black'},style = \"position:relative; margin-left:2000px;\") \n",
    "                display(dtg)\n",
    "                \n",
    "                #coordinates\n",
    "                \n",
    "                display(HTML('<h3 style = \"position:relative; margin-left:0px;\">Coordinates:</h3>'))\n",
    "                \n",
    "\n",
    "                global x,y\n",
    "                \n",
    "                \n",
    "                \n",
    "                move.goal.target_pose.pose.position.x = x\n",
    "                move.goal.target_pose.pose.position.y = y\n",
    "                print(x,y)\n",
    "                \n",
    "                \n",
    "                pub_movebase.publish(move)\n",
    "                rate.sleep()\n",
    "                \n",
    "                goal_info = None\n",
    "                \n",
    "                while(goal_info is None):\n",
    "                        goal_info = rospy.wait_for_message(\"move_base/status\",GoalStatusArray)\n",
    "                        rate.sleep()\n",
    "                status = int(goal_info.status_list[-1].status)  \n",
    "                print(\"status = \",status)\n",
    "                            \n",
    "                while(True):\n",
    "                    \n",
    "                        \n",
    "                        goal_info = rospy.wait_for_message(\"move_base/status\",GoalStatusArray)\n",
    "                        status = int(goal_info.status_list[-1].status)\n",
    "                        #_id = goal_info.status_list[0].goal_id.id\n",
    "                        #print(_id)\n",
    "                                        \n",
    "                    \n",
    "                        position = rospy.wait_for_message(\"/odom\",Odometry)\n",
    "                        x_pos = position.twist.twist.linear.x \n",
    "                        y_pos = position.twist.twist.linear.y \n",
    "                        \n",
    "                        \n",
    "                        \n",
    "                        #----------------------------------------------\n",
    "                        if(status == 1):\n",
    "                            \n",
    "                            #add Feedback distance, handle it , and print in text box\n",
    "                        \n",
    "                            dist = todist(x,y,x_pos,y_pos)\n",
    "                            \n",
    "                            #print in the text boxes\n",
    "                            with feedbackk:\n",
    "                                print('\\r                   ', end='', flush=True)\n",
    "                                print(f'\\rGoal Accepted', end='', flush=True)\n",
    "                            with dtg:\n",
    "                                print('\\r                   ', end='', flush=True)\n",
    "                                print(f'\\r{dist}', end='', flush=True)\n",
    "                            pass\n",
    "                        #----------------------------------------------\n",
    "                        elif(status == 2):\n",
    "                            \n",
    "                            #add 0 to count due target failed\n",
    "                            count_target.append(0)\n",
    "                            \n",
    "                            #print in the text boxes\n",
    "                            with feedbackk:\n",
    "                                print('\\r                   ', end='', flush=True)\n",
    "                                print(f'\\rGoal not reachable', end='', flush=True)\n",
    "                            continue\n",
    "                            \n",
    "                        \n",
    "                        #----------------------------------------------                       \n",
    "                                                \n",
    "                        elif(status == 3):\n",
    "                            \n",
    "                            #add 1 due target reached\n",
    "                            count_target.append(1)\n",
    "                            \n",
    "                            #print in the text boxes\n",
    "                            with feedbackk:\n",
    "                                print('\\r                   ', end='', flush=True)\n",
    "                                print(f'\\rGoal reached', end='', flush=True)\n",
    "                            \n",
    "                             \n",
    "                             \n",
    "                            print('Exiting')\n",
    "                            print(*count_target, sep = \", \") \n",
    "                            \n",
    "                            time.sleep(4)\n",
    "                            # planning again\n",
    "                            move_base_show()\n",
    "                        \n",
    "                            return 1\n",
    "                            \n",
    "                             #----------------------------------------------\n",
    "\n",
    "                                \n",
    "                        \n",
    "                        elif(status == 4):\n",
    "                            \n",
    "                            #add 0 due target aborted\n",
    "                            \n",
    "                            count_target.append(0)\n",
    "                            \n",
    "                            #print in the text boxes\n",
    "                            with feedbackk:\n",
    "                                print('\\r                   ', end='', flush=True)\n",
    "                                print(f'\\rGoal Cancelled - No plan avaible', end='', flush=True)\n",
    "                            \n",
    "                            \n",
    "                            print('Exiting')\n",
    "                            \n",
    "                            \n",
    "                            # planning again\n",
    "                            move_base_show()\n",
    "                            publisher_cancel = rospy.Publisher(\"/move_base/cancel\", GoalID, queue_size = 1)\n",
    "                            cancel = GoalID()\n",
    "                            publisher_cancel.publish(cancel)\n",
    "                            \n",
    "                            time.sleep(4)\n",
    "                            return 1\n",
    "                            \n",
    "                            #-----------------------------------------------------------------\n",
    "                        \n",
    "                            rate.sleep()\n",
    "\n",
    "move_base_show()"
   ]
  },
  {
   "cell_type": "markdown",
   "id": "5845c423",
   "metadata": {},
   "source": [
    "## Main"
   ]
  },
  {
   "cell_type": "code",
   "execution_count": 8,
   "id": "46385a69",
   "metadata": {
    "ExecuteTime": {
     "end_time": "2022-05-15T12:33:32.638787Z",
     "start_time": "2022-05-15T12:33:32.459955Z"
    }
   },
   "outputs": [
    {
     "data": {
      "text/html": [
       "<h1 style = \"position:relative; margin-left:460px;\">      MENU</h1>"
      ],
      "text/plain": [
       "<IPython.core.display.HTML object>"
      ]
     },
     "metadata": {},
     "output_type": "display_data"
    },
    {
     "name": "stdout",
     "output_type": "stream",
     "text": [
      "\n",
      "\n",
      "\n",
      "\n"
     ]
    },
    {
     "data": {
      "application/vnd.jupyter.widget-view+json": {
       "model_id": "7b811591f46f47678aeee72f3a9cb040",
       "version_major": 2,
       "version_minor": 0
      },
      "text/plain": [
       "VBox(children=(Button(description='Planning', layout=Layout(grid_area='forward', height='100px', width='1000px…"
      ]
     },
     "metadata": {},
     "output_type": "display_data"
    },
    {
     "ename": "NameError",
     "evalue": "name 'move_base_show' is not defined",
     "output_type": "error",
     "traceback": [
      "\u001b[0;31m---------------------------------------------------------------------------\u001b[0m",
      "\u001b[0;31mNameError\u001b[0m                                 Traceback (most recent call last)",
      "\u001b[0;32m/tmp/ipykernel_1453/1771649867.py\u001b[0m in \u001b[0;36mpla\u001b[0;34m(b)\u001b[0m\n\u001b[1;32m      7\u001b[0m     \u001b[0;32mglobal\u001b[0m \u001b[0mplan_bol\u001b[0m\u001b[0;34m\u001b[0m\u001b[0;34m\u001b[0m\u001b[0m\n\u001b[1;32m      8\u001b[0m     \u001b[0mplan_bol\u001b[0m \u001b[0;34m=\u001b[0m \u001b[0;32mTrue\u001b[0m\u001b[0;34m\u001b[0m\u001b[0;34m\u001b[0m\u001b[0m\n\u001b[0;32m----> 9\u001b[0;31m     \u001b[0minto\u001b[0m\u001b[0;34m(\u001b[0m\u001b[0;34m)\u001b[0m\u001b[0;34m\u001b[0m\u001b[0;34m\u001b[0m\u001b[0m\n\u001b[0m\u001b[1;32m     10\u001b[0m \u001b[0;34m\u001b[0m\u001b[0m\n\u001b[1;32m     11\u001b[0m \u001b[0;32mdef\u001b[0m \u001b[0mamm\u001b[0m\u001b[0;34m(\u001b[0m\u001b[0mb\u001b[0m\u001b[0;34m)\u001b[0m\u001b[0;34m:\u001b[0m\u001b[0;34m\u001b[0m\u001b[0;34m\u001b[0m\u001b[0m\n",
      "\u001b[0;32m/tmp/ipykernel_1453/1771649867.py\u001b[0m in \u001b[0;36minto\u001b[0;34m()\u001b[0m\n\u001b[1;32m     45\u001b[0m         \u001b[0;32melif\u001b[0m\u001b[0;34m(\u001b[0m\u001b[0mplan_bol\u001b[0m\u001b[0;34m)\u001b[0m\u001b[0;34m:\u001b[0m\u001b[0;34m\u001b[0m\u001b[0;34m\u001b[0m\u001b[0m\n\u001b[1;32m     46\u001b[0m             \u001b[0mplan_bol\u001b[0m \u001b[0;34m=\u001b[0m \u001b[0;32mFalse\u001b[0m\u001b[0;34m\u001b[0m\u001b[0;34m\u001b[0m\u001b[0m\n\u001b[0;32m---> 47\u001b[0;31m             \u001b[0mmove_base_show\u001b[0m\u001b[0;34m(\u001b[0m\u001b[0;34m)\u001b[0m\u001b[0;34m\u001b[0m\u001b[0;34m\u001b[0m\u001b[0m\n\u001b[0m\u001b[1;32m     48\u001b[0m \u001b[0;34m\u001b[0m\u001b[0m\n\u001b[1;32m     49\u001b[0m         \u001b[0;32melif\u001b[0m\u001b[0;34m(\u001b[0m\u001b[0mamm_bol\u001b[0m\u001b[0;34m)\u001b[0m\u001b[0;34m:\u001b[0m\u001b[0;34m\u001b[0m\u001b[0;34m\u001b[0m\u001b[0m\n",
      "\u001b[0;31mNameError\u001b[0m: name 'move_base_show' is not defined"
     ]
    },
    {
     "ename": "NameError",
     "evalue": "name 'manual_show' is not defined",
     "output_type": "error",
     "traceback": [
      "\u001b[0;31m---------------------------------------------------------------------------\u001b[0m",
      "\u001b[0;31mNameError\u001b[0m                                 Traceback (most recent call last)",
      "\u001b[0;32m/tmp/ipykernel_1453/1771649867.py\u001b[0m in \u001b[0;36mman\u001b[0;34m(b)\u001b[0m\n\u001b[1;32m      2\u001b[0m     \u001b[0;32mglobal\u001b[0m \u001b[0mmanual_bol\u001b[0m\u001b[0;34m,\u001b[0m\u001b[0mexit\u001b[0m\u001b[0;34m\u001b[0m\u001b[0;34m\u001b[0m\u001b[0m\n\u001b[1;32m      3\u001b[0m     \u001b[0mmanual_bol\u001b[0m \u001b[0;34m=\u001b[0m \u001b[0;32mTrue\u001b[0m\u001b[0;34m\u001b[0m\u001b[0;34m\u001b[0m\u001b[0m\n\u001b[0;32m----> 4\u001b[0;31m     \u001b[0minto\u001b[0m\u001b[0;34m(\u001b[0m\u001b[0;34m)\u001b[0m\u001b[0;34m\u001b[0m\u001b[0;34m\u001b[0m\u001b[0m\n\u001b[0m\u001b[1;32m      5\u001b[0m \u001b[0;34m\u001b[0m\u001b[0m\n\u001b[1;32m      6\u001b[0m \u001b[0;32mdef\u001b[0m \u001b[0mpla\u001b[0m\u001b[0;34m(\u001b[0m\u001b[0mb\u001b[0m\u001b[0;34m)\u001b[0m\u001b[0;34m:\u001b[0m\u001b[0;34m\u001b[0m\u001b[0;34m\u001b[0m\u001b[0m\n",
      "\u001b[0;32m/tmp/ipykernel_1453/1771649867.py\u001b[0m in \u001b[0;36minto\u001b[0;34m()\u001b[0m\n\u001b[1;32m     41\u001b[0m         \u001b[0;32mif\u001b[0m\u001b[0;34m(\u001b[0m\u001b[0mmanual_bol\u001b[0m\u001b[0;34m)\u001b[0m\u001b[0;34m:\u001b[0m\u001b[0;34m\u001b[0m\u001b[0;34m\u001b[0m\u001b[0m\n\u001b[1;32m     42\u001b[0m             \u001b[0mmanual_bol\u001b[0m \u001b[0;34m=\u001b[0m \u001b[0;32mFalse\u001b[0m\u001b[0;34m\u001b[0m\u001b[0;34m\u001b[0m\u001b[0m\n\u001b[0;32m---> 43\u001b[0;31m             \u001b[0mmanual_show\u001b[0m\u001b[0;34m(\u001b[0m\u001b[0;34m)\u001b[0m\u001b[0;34m\u001b[0m\u001b[0;34m\u001b[0m\u001b[0m\n\u001b[0m\u001b[1;32m     44\u001b[0m \u001b[0;34m\u001b[0m\u001b[0m\n\u001b[1;32m     45\u001b[0m         \u001b[0;32melif\u001b[0m\u001b[0;34m(\u001b[0m\u001b[0mplan_bol\u001b[0m\u001b[0;34m)\u001b[0m\u001b[0;34m:\u001b[0m\u001b[0;34m\u001b[0m\u001b[0;34m\u001b[0m\u001b[0m\n",
      "\u001b[0;31mNameError\u001b[0m: name 'manual_show' is not defined"
     ]
    },
    {
     "ename": "NameError",
     "evalue": "name 'move_base_show' is not defined",
     "output_type": "error",
     "traceback": [
      "\u001b[0;31m---------------------------------------------------------------------------\u001b[0m",
      "\u001b[0;31mNameError\u001b[0m                                 Traceback (most recent call last)",
      "\u001b[0;32m/tmp/ipykernel_1453/1771649867.py\u001b[0m in \u001b[0;36mpla\u001b[0;34m(b)\u001b[0m\n\u001b[1;32m      7\u001b[0m     \u001b[0;32mglobal\u001b[0m \u001b[0mplan_bol\u001b[0m\u001b[0;34m\u001b[0m\u001b[0;34m\u001b[0m\u001b[0m\n\u001b[1;32m      8\u001b[0m     \u001b[0mplan_bol\u001b[0m \u001b[0;34m=\u001b[0m \u001b[0;32mTrue\u001b[0m\u001b[0;34m\u001b[0m\u001b[0;34m\u001b[0m\u001b[0m\n\u001b[0;32m----> 9\u001b[0;31m     \u001b[0minto\u001b[0m\u001b[0;34m(\u001b[0m\u001b[0;34m)\u001b[0m\u001b[0;34m\u001b[0m\u001b[0;34m\u001b[0m\u001b[0m\n\u001b[0m\u001b[1;32m     10\u001b[0m \u001b[0;34m\u001b[0m\u001b[0m\n\u001b[1;32m     11\u001b[0m \u001b[0;32mdef\u001b[0m \u001b[0mamm\u001b[0m\u001b[0;34m(\u001b[0m\u001b[0mb\u001b[0m\u001b[0;34m)\u001b[0m\u001b[0;34m:\u001b[0m\u001b[0;34m\u001b[0m\u001b[0;34m\u001b[0m\u001b[0m\n",
      "\u001b[0;32m/tmp/ipykernel_1453/1771649867.py\u001b[0m in \u001b[0;36minto\u001b[0;34m()\u001b[0m\n\u001b[1;32m     45\u001b[0m         \u001b[0;32melif\u001b[0m\u001b[0;34m(\u001b[0m\u001b[0mplan_bol\u001b[0m\u001b[0;34m)\u001b[0m\u001b[0;34m:\u001b[0m\u001b[0;34m\u001b[0m\u001b[0;34m\u001b[0m\u001b[0m\n\u001b[1;32m     46\u001b[0m             \u001b[0mplan_bol\u001b[0m \u001b[0;34m=\u001b[0m \u001b[0;32mFalse\u001b[0m\u001b[0;34m\u001b[0m\u001b[0;34m\u001b[0m\u001b[0m\n\u001b[0;32m---> 47\u001b[0;31m             \u001b[0mmove_base_show\u001b[0m\u001b[0;34m(\u001b[0m\u001b[0;34m)\u001b[0m\u001b[0;34m\u001b[0m\u001b[0;34m\u001b[0m\u001b[0m\n\u001b[0m\u001b[1;32m     48\u001b[0m \u001b[0;34m\u001b[0m\u001b[0m\n\u001b[1;32m     49\u001b[0m         \u001b[0;32melif\u001b[0m\u001b[0;34m(\u001b[0m\u001b[0mamm_bol\u001b[0m\u001b[0;34m)\u001b[0m\u001b[0;34m:\u001b[0m\u001b[0;34m\u001b[0m\u001b[0;34m\u001b[0m\u001b[0m\n",
      "\u001b[0;31mNameError\u001b[0m: name 'move_base_show' is not defined"
     ]
    }
   ],
   "source": [
    "def man(b):\n",
    "    global manual_bol,exit\n",
    "    manual_bol = True\n",
    "    into()\n",
    "    \n",
    "def pla(b):\n",
    "    global plan_bol\n",
    "    plan_bol = True\n",
    "    into()\n",
    "    \n",
    "def amm(b):\n",
    "    global amm_bol\n",
    "    amm_bol=True\n",
    "    into()\n",
    "    \n",
    "def intro():\n",
    "        \n",
    "        clear_output(wait = True)\n",
    "        display(HTML('<h1 style = \"position:relative; margin-left:460px;\">      MENU</h1>'))\n",
    "        \n",
    "        print('\\n')\n",
    "        print('\\n')\n",
    "        \n",
    "        plan = Button(description='Planning',layout=Layout(width=\"1000px\",height= \"100px\", grid_area='forward'), style=ButtonStyle(button_color='lightblue'))\n",
    "        manual_motion = Button(description='Manual Motion',layout=Layout(width=\"1000px\",height= \"100px\", grid_area='forward'), style=ButtonStyle(button_color='lightblue'))\n",
    "        assisted_manual_motion = Button(description=' Assisted Manual Motion',layout=Layout(width=\"1000px\",height= \"100px\", grid_area='forward'), style=ButtonStyle(button_color='lightblue'))\n",
    "\n",
    "        boxI = VBox([plan,manual_motion, assisted_manual_motion])\n",
    "        \n",
    "        manual_motion.on_click(man)\n",
    "        plan.on_click(pla)\n",
    "        assisted_manual_motion.on_click(amm)\n",
    "        \n",
    "        display (boxI)\n",
    "        \n",
    "def into():\n",
    "        %matplotlib widget\n",
    "        global manual_bol, exit, plan_bol,amm_bol\n",
    "\n",
    "             \n",
    "        if(manual_bol):\n",
    "            manual_bol = False\n",
    "            manual_show()\n",
    "\n",
    "        elif(plan_bol):\n",
    "            plan_bol = False\n",
    "            move_base_show()\n",
    "        \n",
    "        elif(amm_bol):\n",
    "            amm_bol = False\n",
    "            assisted_manual_show()\n",
    "            \n",
    "        elif(not exit):\n",
    "            exit = True\n",
    "            main()\n",
    "        else:\n",
    "            print(\"No bool True\")\n",
    "\n",
    "####################################\n",
    "\n",
    "def main():\n",
    "        global exit, plan_bol,manual_bol,amm_bol\n",
    "        global count_target\n",
    "        \n",
    "        manual_bol = False\n",
    "        amm_bol = False\n",
    "        plan_bol = False\n",
    "        exit = True\n",
    "        \n",
    "        count_target = []\n",
    "        rospy.init_node('controller')\n",
    "        intro()\n",
    "\n",
    "main()"
   ]
  },
  {
   "cell_type": "code",
   "execution_count": null,
   "id": "38643d16",
   "metadata": {},
   "outputs": [],
   "source": []
  }
 ],
 "metadata": {
  "hide_input": false,
  "kernelspec": {
   "display_name": "Python 3 (ipykernel)",
   "language": "python",
   "name": "python3"
  },
  "language_info": {
   "codemirror_mode": {
    "name": "ipython",
    "version": 3
   },
   "file_extension": ".py",
   "mimetype": "text/x-python",
   "name": "python",
   "nbconvert_exporter": "python",
   "pygments_lexer": "ipython3",
   "version": "3.8.10"
  },
  "toc": {
   "base_numbering": 1,
   "nav_menu": {},
   "number_sections": true,
   "sideBar": true,
   "skip_h1_title": false,
   "title_cell": "Table of Contents",
   "title_sidebar": "Contents",
   "toc_cell": false,
   "toc_position": {},
   "toc_section_display": true,
   "toc_window_display": false
  },
  "varInspector": {
   "cols": {
    "lenName": 16,
    "lenType": 16,
    "lenVar": 40
   },
   "kernels_config": {
    "python": {
     "delete_cmd_postfix": "",
     "delete_cmd_prefix": "del ",
     "library": "var_list.py",
     "varRefreshCmd": "print(var_dic_list())"
    },
    "r": {
     "delete_cmd_postfix": ") ",
     "delete_cmd_prefix": "rm(",
     "library": "var_list.r",
     "varRefreshCmd": "cat(var_dic_list()) "
    }
   },
   "types_to_exclude": [
    "module",
    "function",
    "builtin_function_or_method",
    "instance",
    "_Feature"
   ],
   "window_display": false
  }
 },
 "nbformat": 4,
 "nbformat_minor": 5
}
