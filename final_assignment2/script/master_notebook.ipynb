{
 "cells": [
  {
   "cell_type": "code",
   "execution_count": 3,
   "id": "80be8558",
   "metadata": {
    "ExecuteTime": {
     "end_time": "2022-05-09T12:22:54.740163Z",
     "start_time": "2022-05-09T12:22:53.834634Z"
    }
   },
   "outputs": [],
   "source": [
    "import rospy\n",
    "import os\n",
    "from move_base_msgs.msg import MoveBaseActionFeedback\n",
    "from move_base_msgs.msg import MoveBaseActionGoal\n",
    "from nav_msgs.msg import Odometry\n",
    "from geometry_msgs.msg import Twist\n",
    "from actionlib_msgs.msg import GoalID\n",
    "from actionlib_msgs.msg import GoalStatusArray\n",
    "import sys, tty\n",
    "from sensor_msgs.msg import LaserScan\n",
    "from IPython.core.display import display, HTML\n",
    "from IPython.display import display,clear_output\n",
    "from ipywidgets import AppLayout, Button, Layout, ButtonStyle, GridBox, VBox, HBox , widgets , interact, interactive, fixed, interact_manual, interactive_output\n",
    "import time\n",
    "import matplotlib.pyplot as plt \n",
    "from move_base_msgs.msg import MoveBaseActionResult\n",
    "\n",
    "#from jupyros import ros3d"
   ]
  },
  {
   "cell_type": "code",
   "execution_count": null,
   "id": "387ba088",
   "metadata": {
    "ExecuteTime": {
     "end_time": "2022-05-09T11:59:24.875155Z",
     "start_time": "2022-05-09T11:59:24.861868Z"
    }
   },
   "outputs": [],
   "source": []
  },
  {
   "cell_type": "code",
   "execution_count": null,
   "id": "638d189a",
   "metadata": {
    "ExecuteTime": {
     "start_time": "2022-05-09T13:02:59.561Z"
    }
   },
   "outputs": [
    {
     "name": "stderr",
     "output_type": "stream",
     "text": [
      "Exception ignored in: <function WeakSet.__init__.<locals>._remove at 0x7f2be3935d30>\n",
      "Traceback (most recent call last):\n",
      "  File \"/usr/lib/python3.8/_weakrefset.py\", line 38, in _remove\n",
      "    def _remove(item, selfref=ref(self)):\n",
      "KeyboardInterrupt: \n"
     ]
    }
   ],
   "source": [
    "%matplotlib widget\n",
    "def clbk_laser(msg):\n",
    "        min_fright = min(min(msg.ranges[144:287]), 5)\n",
    "        min_front =  min(min(msg.ranges[288:431]), 5)\n",
    "        min_fleft =  min(min(msg.ranges[432:575]), 5)\n",
    "        global vel_pub, my_vel, min_assfront\n",
    "        if(min_front < 1):\n",
    "            [my_vel.linear.x, my_vel.angular.z] =[0 , 0]\n",
    "            vel_pub.publish(my_vel)\n",
    "            \n",
    "\n",
    "        with min_assfront: \n",
    "            print('\\r                                          ', end='', flush=True)\n",
    "            print(f'\\r{min_front}', end='', flush=True)\n",
    "            \n",
    "        return min_fright, min_front, min_fleft\n",
    "\n",
    "def plt_(a):\n",
    "    %matplotlib widget\n",
    "    global plot_laser\n",
    "    if(plot_laser == None):\n",
    "        plt.ion()\n",
    "        plt.plot(0)\n",
    "    else: \n",
    "        plt.ion()\n",
    "        plt.plot(plot_laser)\n",
    "    \n",
    "\n",
    "    \n",
    "    \n",
    "    \n",
    "def frw(a):\n",
    "    global my_vel, vel_pub,state\n",
    "    laser = rospy.wait_for_message(\"/scan\", LaserScan)\n",
    "    [min_fright, min_front, min_fleft] = clbk_laser(laser)\n",
    "    [my_vel.linear.x, my_vel.angular.z] =[1 , 0]\n",
    "    vel_pub.publish(my_vel)\n",
    "    if min_front < 1:\n",
    "        [my_vel.linear.x, my_vel.angular.z] =[0 , 0]\n",
    "        vel_pub.publish(my_vel)\n",
    "        with state:\n",
    "            print('\\r                           ', end='', flush=True)\n",
    "            print(f'\\rAssisted modality', end='', flush=True)\n",
    "        take_action(min_fright, min_front, min_fleft)\n",
    "                        \n",
    "    else:    \n",
    "        with state:\n",
    "            print('\\r                                                ', end='', flush=True)\n",
    "            print(f'\\rManual modality', end='', flush=True)\n",
    "        [my_vel.linear.x, my_vel.angular.z] =[1 , 0]\n",
    "        vel_pub.publish(my_vel)\n",
    "    \n",
    "def be(a):\n",
    "    global my_vel, vel_pub,state\n",
    "    laser = rospy.wait_for_message(\"/scan\", LaserScan)\n",
    "    [min_fright, min_front, min_fleft] = clbk_laser(laser)\n",
    "\n",
    "    if min_front < 1 or min_fleft < 1 or min_fright < 1:\n",
    "        with state:\n",
    "            print('\\r                                                      ', end='', flush=True)\n",
    "            print(f'\\rAssisted modality', end='', flush=True)\n",
    "        take_action(min_fright, min_front, min_fleft)\n",
    "\n",
    "                        \n",
    "    else:    \n",
    "        [my_vel.linear.x, my_vel.angular.z] =[-1 , 0]\n",
    "        vel_pub.publish(my_vel)\n",
    "        with state:\n",
    "            print('\\r                                            ', end='', flush=True)\n",
    "            print(f'\\rManual modality', end='', flush=True)\n",
    "\n",
    "    \n",
    "def le(a):\n",
    "    global my_vel, vel_pub,state\n",
    "    laser = rospy.wait_for_message(\"/scan\", LaserScan)\n",
    "    [min_fright, min_front, min_fleft] = clbk_laser(laser)\n",
    "\n",
    "    if min_front < 1 or min_fleft < 1 or min_fright < 1:\n",
    "        with state:\n",
    "            print('\\r                                              ', end='', flush=True)\n",
    "            print(f'\\rAssisted modality', end='', flush=True)\n",
    "        take_action(min_fright, min_front, min_fleft)\n",
    "                        \n",
    "    else:    \n",
    "        with state:\n",
    "            print('\\r                                           ', end='', flush=True)\n",
    "            print(f'\\rManual modality', end='', flush=True)\n",
    "        [my_vel.linear.x, my_vel.angular.z] =[0 , 2]\n",
    "        vel_pub.publish(my_vel)\n",
    "    \n",
    "    \n",
    "def ri(a):\n",
    "    global my_vel,vel_pub,state\n",
    "    laser = rospy.wait_for_message(\"/scan\", LaserScan)\n",
    "    [min_fright, min_front, min_fleft] = clbk_laser(laser)\n",
    " \n",
    "    if min_front < 1 or min_fleft < 1 or min_fright < 1:\n",
    "        with state:\n",
    "            print('\\r                                       ', end='', flush=True)\n",
    "            print(f'\\rAssisted modality', end='', flush=True)\n",
    "        take_action(min_fright, min_front, min_fleft)\n",
    "        \n",
    "                        \n",
    "    else:    \n",
    "        with state:\n",
    "            print('\\r                                       ', end='', flush=True)\n",
    "            print(f'\\rManual modality', end='', flush=True)\n",
    "        [my_vel.linear.x, my_vel.angular.z] =[0, -2]\n",
    "        vel_pub.publish(my_vel)\n",
    "\n",
    "        \n",
    "def exm(a):\n",
    "    global exit,amm_bol \n",
    "    amm_bol = False\n",
    "    exit = False\n",
    "    [my_vel.linear.x, my_vel.angular.z] =[0 , 0]\n",
    "    vel_pub.publish(my_vel)\n",
    "    into()\n",
    "    \n",
    "    \n",
    "    \n",
    "def assisted_manual_show():\n",
    "    \n",
    "        global vel_pub,my_vel, plot_laser\n",
    "        clear_output(wait = True)\n",
    "        plot_laser = []\n",
    "        vel_pub = rospy.Publisher(\"cmd_vel\", Twist, queue_size= 50)\n",
    "        #laser = rospy.wait_for_message(\"/scan\", LaserScan)\n",
    "        \n",
    "        my_vel = Twist()\n",
    "        my_vel.linear.y = 0\n",
    "        my_vel.linear.z = 0\n",
    "        my_vel.angular.x = 0\n",
    "        my_vel.angular.y= 0\n",
    "        \n",
    "        laser = rospy.wait_for_message(\"/scan\", LaserScan)\n",
    "            \n",
    "        plot_laser.append(laser.ranges[435:440])\n",
    "\n",
    "        if (len(plot_laser) > 100):\n",
    "            for i in range(20):\n",
    "                plot_laser.pop(i)\n",
    "        global min_assfront\n",
    "        min_assfront = widgets.Output(layout={'border': '1px solid black'},style = \"position:relative; margin-left:2000px;\") \n",
    "\n",
    "    \n",
    "        \n",
    "        global min_fright, min_front, min_fleft\n",
    "        [min_fright, min_front, min_fleft] = clbk_laser(laser)\n",
    "        \n",
    "    \n",
    "\n",
    "        \n",
    "        \n",
    "        #------------------------------------------------------------\n",
    "        display(HTML('<h1 style = \"position:relative; margin-left:370px;\">Assisted Motion Planner</h1>'))\n",
    "        print('\\n')\n",
    "        print('\\n')\n",
    "        state_description = ''\n",
    "\n",
    "        forw = Button(description='^',layout=Layout(width='auto', grid_area='forw'), style=ButtonStyle(button_color='lightblue'))\n",
    "        lef = Button(description='<', layout=Layout(width='auto', grid_area='lef'), style=ButtonStyle(button_color='lightblue'))\n",
    "        rig = Button(description='>', layout=Layout(width='auto', grid_area='rig'), style=ButtonStyle(button_color='lightblue'))\n",
    "        beh = Button(description='v', layout=Layout(width='auto', grid_area='beh'), style=ButtonStyle(button_color='lightblue'))\n",
    "\n",
    "        field = GridBox(children=[forw,lef,rig,beh], layout=Layout(width='auto',grid_template_rows='auto auto auto', grid_template_columns='auto auto auto', grid_template_areas='''\n",
    "        \" . forw . \" \n",
    "        \"lef . rig \"\n",
    "        \" . beh . \"\n",
    "        ''')\n",
    "        )\n",
    "        #------------------------------------------------------------\n",
    "        display(field)\n",
    "        print('\\n')\n",
    "        display(HTML('<h3 style = \"position:relative; margin-left:0px;\">Closest obstacle distance:</h3>'))\n",
    "        print('\\n')\n",
    "        \n",
    "        display(min_assfront)\n",
    "        display(HTML('<h3 style = \"position:relative; margin-left:0px;\">State:</h3>'))\n",
    "        print('\\n')\n",
    "        global state\n",
    "        state = widgets.Output(layout={'border': '1px solid black'},style = \"position:relative; margin-left:2000px;\") \n",
    "        display(state)\n",
    "        print('\\n')\n",
    "        \n",
    "        plt_pos = Button(description='Plot position', layout=Layout(width='100', margin= '0px 0px 0px 700px'), style=ButtonStyle(button_color='orange'))\n",
    "        display(plt_pos)\n",
    "        \n",
    "        exitm = Button(description='Exit', layout=Layout(width='100', margin= '0px 0px 0px 700px'), style=ButtonStyle(button_color='red'))\n",
    "        display(exitm)\n",
    "        state_description = ''\n",
    "       \n",
    "        \n",
    "\n",
    "        #------------------------------------------------------------\n",
    "        \n",
    "        \n",
    "        exitm.on_click(exm)\n",
    "        plt_pos.on_click(plt_)\n",
    "        forw.on_click(frw)\n",
    "        lef.on_click(le)\n",
    "        rig.on_click(ri)\n",
    "        beh.on_click(be)\n",
    "        \n",
    "        #------------------------------------------------------------\n",
    "        \n",
    "\n",
    "assisted_manual_show()\n",
    "    \n"
   ]
  },
  {
   "cell_type": "code",
   "execution_count": null,
   "id": "4f50a575",
   "metadata": {
    "ExecuteTime": {
     "start_time": "2022-05-09T13:03:02.369Z"
    }
   },
   "outputs": [],
   "source": [
    "def take_action(min_fright,min_front, min_fleft):\n",
    "        global my_vel, vel_pub,state\n",
    "        linear_x = 0\n",
    "        angular_z = 0\n",
    "\n",
    "        laser = rospy.wait_for_message(\"/scan\", LaserScan)\n",
    "        [min_fright, min_front, min_fleft] = clbk_laser(laser)\n",
    "        \n",
    "        #print(min_fright,min_front, min_fleft)\n",
    "        my_vel.linear.y = 0\n",
    "        my_vel.linear.z = 0\n",
    "        my_vel.angular.x = 0\n",
    "        my_vel.angular.y= 0\n",
    "   \n",
    " \n",
    "        state_description = 'SWITCH ASSISTED DRIVE'\n",
    "        \n",
    "        \n",
    "\n",
    "        \n",
    "        if min_front > 1 and min_fleft > 1 and min_fright > 1:\n",
    "            state_description = 'case 1 - nothing'\n",
    "            linear_x = 0.6\n",
    "            angular_z = 0\n",
    "        elif min_front < 1 and min_fleft > 1 and min_fright > 1:\n",
    "            state_description = 'case 2 - front'\n",
    "            linear_x = -2\n",
    "            angular_z = 0\n",
    "        elif min_front > 1 and min_fleft > 1 and min_fright < 1:\n",
    "            state_description = 'case 3 - fright'\n",
    "            linear_x = 0\n",
    "            angular_z = 1\n",
    "        elif min_front > 1 and min_fleft < 1 and min_fright > 1:\n",
    "            state_description = 'case 4 - fleft'\n",
    "            linear_x = 0\n",
    "            angular_z = -1\n",
    "        elif min_front < 1 and min_fleft > 1 and min_fright < 1:\n",
    "            state_description = 'case 5 - front and fright'\n",
    "            linear_x = 0\n",
    "            angular_z = 1\n",
    "        elif min_front < 1 and min_fleft < 1 and min_fright > 1:\n",
    "            state_description = 'case 6 - front and fleft'\n",
    "            linear_x = 0\n",
    "            angular_z = -1\n",
    "        elif min_front < 1 and min_fleft < 1 and min_fright < 1:\n",
    "            state_description = 'case 7 - front and fleft and fright'\n",
    "            linear_x = 0\n",
    "            angular_z = 2\n",
    "        elif min_front > 1 and min_fleft < 1 and min_fright < 1:\n",
    "            state_description = 'case 8 - fleft and fright'\n",
    "            linear_x = 0.3\n",
    "            angular_z = 0\n",
    "            \n",
    "\n",
    "        my_vel.linear.x = linear_x\n",
    "        my_vel.angular.z = angular_z\n",
    "        vel_pub.publish(my_vel)\n",
    "        \n",
    "        with state:\n",
    "            print('\\r                           ', end='', flush=True)\n",
    "            print(f'\\r{state_description}', end='', flush=True)\n",
    "\n",
    "        \n",
    "\n",
    "take_action(0,0,0)"
   ]
  },
  {
   "cell_type": "code",
   "execution_count": 6,
   "id": "c4309bc4",
   "metadata": {
    "ExecuteTime": {
     "end_time": "2022-05-09T12:23:20.145462Z",
     "start_time": "2022-05-09T12:23:19.934921Z"
    }
   },
   "outputs": [
    {
     "data": {
      "text/html": [
       "<h3 style = \"position:relative; margin-left:0px;\"> Feedback</h3>"
      ],
      "text/plain": [
       "<IPython.core.display.HTML object>"
      ]
     },
     "metadata": {},
     "output_type": "display_data"
    },
    {
     "data": {
      "application/vnd.jupyter.widget-view+json": {
       "model_id": "c53af1dcf4ce4f54b63f03fe84182b75",
       "version_major": 2,
       "version_minor": 0
      },
      "text/plain": [
       "Output(layout=Layout(border='1px solid black'))"
      ]
     },
     "metadata": {},
     "output_type": "display_data"
    },
    {
     "data": {
      "text/html": [
       "<h3 style = \"position:relative; margin-left:0px;\"> Distance to goal</h3>"
      ],
      "text/plain": [
       "<IPython.core.display.HTML object>"
      ]
     },
     "metadata": {},
     "output_type": "display_data"
    },
    {
     "data": {
      "application/vnd.jupyter.widget-view+json": {
       "model_id": "50b71ccdbdbf47b09d2d941aa78c0f30",
       "version_major": 2,
       "version_minor": 0
      },
      "text/plain": [
       "Output(layout=Layout(border='1px solid black'))"
      ]
     },
     "metadata": {},
     "output_type": "display_data"
    },
    {
     "data": {
      "text/html": [
       "<h3 style = \"position:relative; margin-left:0px;\">Coordinates:</h3>"
      ],
      "text/plain": [
       "<IPython.core.display.HTML object>"
      ]
     },
     "metadata": {},
     "output_type": "display_data"
    },
    {
     "name": "stdout",
     "output_type": "stream",
     "text": [
      "0.0 1.0\n"
     ]
    },
    {
     "ename": "IndexError",
     "evalue": "list index out of range",
     "output_type": "error",
     "traceback": [
      "\u001b[0;31m---------------------------------------------------------------------------\u001b[0m",
      "\u001b[0;31mIndexError\u001b[0m                                Traceback (most recent call last)",
      "\u001b[0;32m/tmp/ipykernel_3262/3491057397.py\u001b[0m in \u001b[0;36msub\u001b[0;34m(a)\u001b[0m\n\u001b[1;32m     44\u001b[0m         \u001b[0mprint\u001b[0m\u001b[0;34m(\u001b[0m\u001b[0;34m\"Please try again\"\u001b[0m\u001b[0;34m)\u001b[0m\u001b[0;34m\u001b[0m\u001b[0;34m\u001b[0m\u001b[0m\n\u001b[1;32m     45\u001b[0m     \u001b[0;32melse\u001b[0m\u001b[0;34m:\u001b[0m\u001b[0;34m\u001b[0m\u001b[0;34m\u001b[0m\u001b[0m\n\u001b[0;32m---> 46\u001b[0;31m         \u001b[0mmove_base\u001b[0m\u001b[0;34m(\u001b[0m\u001b[0;34m)\u001b[0m\u001b[0;34m\u001b[0m\u001b[0;34m\u001b[0m\u001b[0m\n\u001b[0m\u001b[1;32m     47\u001b[0m \u001b[0;34m\u001b[0m\u001b[0m\n\u001b[1;32m     48\u001b[0m \u001b[0;34m\u001b[0m\u001b[0m\n",
      "\u001b[0;32m/tmp/ipykernel_3262/4195893310.py\u001b[0m in \u001b[0;36mmove_base\u001b[0;34m()\u001b[0m\n\u001b[1;32m     50\u001b[0m                         \u001b[0mgoal_info\u001b[0m \u001b[0;34m=\u001b[0m \u001b[0mrospy\u001b[0m\u001b[0;34m.\u001b[0m\u001b[0mwait_for_message\u001b[0m\u001b[0;34m(\u001b[0m\u001b[0;34m\"move_base/status\"\u001b[0m\u001b[0;34m,\u001b[0m\u001b[0mGoalStatusArray\u001b[0m\u001b[0;34m)\u001b[0m\u001b[0;34m\u001b[0m\u001b[0;34m\u001b[0m\u001b[0m\n\u001b[1;32m     51\u001b[0m                         \u001b[0mrate\u001b[0m\u001b[0;34m.\u001b[0m\u001b[0msleep\u001b[0m\u001b[0;34m(\u001b[0m\u001b[0;34m)\u001b[0m\u001b[0;34m\u001b[0m\u001b[0;34m\u001b[0m\u001b[0m\n\u001b[0;32m---> 52\u001b[0;31m                 \u001b[0mstatus\u001b[0m \u001b[0;34m=\u001b[0m \u001b[0mint\u001b[0m\u001b[0;34m(\u001b[0m\u001b[0mgoal_info\u001b[0m\u001b[0;34m.\u001b[0m\u001b[0mstatus_list\u001b[0m\u001b[0;34m[\u001b[0m\u001b[0;34m-\u001b[0m\u001b[0;36m1\u001b[0m\u001b[0;34m]\u001b[0m\u001b[0;34m.\u001b[0m\u001b[0mstatus\u001b[0m\u001b[0;34m)\u001b[0m\u001b[0;34m\u001b[0m\u001b[0;34m\u001b[0m\u001b[0m\n\u001b[0m\u001b[1;32m     53\u001b[0m                 \u001b[0;31m#print(\"status = \",status)\u001b[0m\u001b[0;34m\u001b[0m\u001b[0;34m\u001b[0m\u001b[0;34m\u001b[0m\u001b[0m\n\u001b[1;32m     54\u001b[0m \u001b[0;34m\u001b[0m\u001b[0m\n",
      "\u001b[0;31mIndexError\u001b[0m: list index out of range"
     ]
    }
   ],
   "source": [
    "def man(b):\n",
    "    global manual_bol,exit\n",
    "    manual_bol = True\n",
    "    into()\n",
    "    \n",
    "def pla(b):\n",
    "    global plan_bol\n",
    "    plan_bol = True\n",
    "    into()\n",
    "    \n",
    "def amm(b):\n",
    "    global amm_bol\n",
    "    amm_bol=True\n",
    "    into()\n",
    "    \n",
    "def intro():\n",
    "        \n",
    "        clear_output(wait = True)\n",
    "        display(HTML('<h1 style = \"position:relative; margin-left:460px;\">      MENU</h1>'))\n",
    "        \n",
    "        print('\\n')\n",
    "        print('\\n')\n",
    "        \n",
    "        plan = Button(description='Planning',layout=Layout(width=\"1000px\",height= \"100px\", grid_area='forward'), style=ButtonStyle(button_color='lightblue'))\n",
    "        manual_motion = Button(description='Manual Motion',layout=Layout(width=\"1000px\",height= \"100px\", grid_area='forward'), style=ButtonStyle(button_color='lightblue'))\n",
    "        assisted_manual_motion = Button(description=' Assisted Manual Motion',layout=Layout(width=\"1000px\",height= \"100px\", grid_area='forward'), style=ButtonStyle(button_color='lightblue'))\n",
    "\n",
    "        boxI = VBox([plan,manual_motion, assisted_manual_motion])\n",
    "        \n",
    "        manual_motion.on_click(man)\n",
    "        plan.on_click(pla)\n",
    "        assisted_manual_motion.on_click(amm)\n",
    "        \n",
    "        display (boxI)\n",
    "\n",
    "\n",
    "intro()"
   ]
  },
  {
   "cell_type": "code",
   "execution_count": 7,
   "id": "4d2763b8",
   "metadata": {
    "ExecuteTime": {
     "end_time": "2022-05-09T12:23:26.468409Z",
     "start_time": "2022-05-09T12:23:24.980322Z"
    }
   },
   "outputs": [
    {
     "data": {
      "text/html": [
       "<h3 style = \"position:relative; margin-left:0px;\"> Feedback</h3>"
      ],
      "text/plain": [
       "<IPython.core.display.HTML object>"
      ]
     },
     "metadata": {},
     "output_type": "display_data"
    },
    {
     "data": {
      "application/vnd.jupyter.widget-view+json": {
       "model_id": "bd1c37c9f74c484ebd27f0ca009a498f",
       "version_major": 2,
       "version_minor": 0
      },
      "text/plain": [
       "Output(layout=Layout(border='1px solid black'))"
      ]
     },
     "metadata": {},
     "output_type": "display_data"
    },
    {
     "data": {
      "text/html": [
       "<h3 style = \"position:relative; margin-left:0px;\"> Distance to goal</h3>"
      ],
      "text/plain": [
       "<IPython.core.display.HTML object>"
      ]
     },
     "metadata": {},
     "output_type": "display_data"
    },
    {
     "data": {
      "application/vnd.jupyter.widget-view+json": {
       "model_id": "13acc38c1d744fd09e4afb1ff5083739",
       "version_major": 2,
       "version_minor": 0
      },
      "text/plain": [
       "Output(layout=Layout(border='1px solid black'))"
      ]
     },
     "metadata": {},
     "output_type": "display_data"
    },
    {
     "data": {
      "text/html": [
       "<h3 style = \"position:relative; margin-left:0px;\">Coordinates:</h3>"
      ],
      "text/plain": [
       "<IPython.core.display.HTML object>"
      ]
     },
     "metadata": {},
     "output_type": "display_data"
    },
    {
     "name": "stdout",
     "output_type": "stream",
     "text": [
      "1.0 1.0\n"
     ]
    }
   ],
   "source": [
    "%matplotlib widget\n",
    "def into():\n",
    "        %matplotlib widget\n",
    "        global manual_bol, exit, plan_bol,amm_bol\n",
    "\n",
    "             \n",
    "        if(manual_bol):\n",
    "            manual_bol = False\n",
    "            manual_show()\n",
    "\n",
    "        elif(plan_bol):\n",
    "            plan_bol = False\n",
    "            move_base_show()\n",
    "        \n",
    "        elif(amm_bol):\n",
    "            amm_bol = False\n",
    "            assisted_manual_show()\n",
    "            \n",
    "        elif(not exit):\n",
    "            exit = True\n",
    "            main()\n",
    "        else:\n",
    "            print(\"No bool True\")\n",
    "\n",
    "    \n",
    "def main():\n",
    "        global exit, plan_bol,manual_bol,amm_bol\n",
    "        global count_target\n",
    "        \n",
    "        manual_bol = False\n",
    "        amm_bol = False\n",
    "        plan_bol = False\n",
    "        exit = True\n",
    "        \n",
    "        count_target = []\n",
    "        rospy.init_node('controller')\n",
    "        intro()\n",
    "        \n",
    " \n",
    "main()"
   ]
  },
  {
   "cell_type": "code",
   "execution_count": 8,
   "id": "a4f1e95b",
   "metadata": {
    "ExecuteTime": {
     "end_time": "2022-05-09T12:23:30.425782Z",
     "start_time": "2022-05-09T12:23:30.121990Z"
    }
   },
   "outputs": [
    {
     "data": {
      "text/html": [
       "<h1 style = \"position:relative; margin-left:340px;\">Motion Planner Interface</h1>"
      ],
      "text/plain": [
       "<IPython.core.display.HTML object>"
      ]
     },
     "metadata": {},
     "output_type": "display_data"
    },
    {
     "name": "stdout",
     "output_type": "stream",
     "text": [
      "\n",
      "\n",
      "\n",
      "\n"
     ]
    },
    {
     "data": {
      "application/vnd.jupyter.widget-view+json": {
       "model_id": "0fccea8060fc456c96f588e860909d8c",
       "version_major": 2,
       "version_minor": 0
      },
      "text/plain": [
       "GridBox(children=(Button(description='^', layout=Layout(grid_area='forward', width='auto'), style=ButtonStyle(…"
      ]
     },
     "metadata": {},
     "output_type": "display_data"
    }
   ],
   "source": [
    "def fforward(forward):\n",
    "    \n",
    "    [my_vel.linear.x, my_vel.angular.z] =[1 , 0] \n",
    "    vel_pub.publish(my_vel)\n",
    "\n",
    "def fleft(left):\n",
    "    [my_vel.linear.x, my_vel.angular.z] =[0 , 2]\n",
    "    vel_pub.publish(my_vel)\n",
    "    \n",
    "def fright(right):\n",
    "    [my_vel.linear.x, my_vel.angular.z] =[0, -2]\n",
    "    vel_pub.publish(my_vel)\n",
    "    \n",
    "def fbehind(behind):\n",
    "    [my_vel.linear.x, my_vel.angular.z] =[-1 , 0]\n",
    "    vel_pub.publish(my_vel)\n",
    "\n",
    "def fquit(quit):\n",
    "    global exit\n",
    "    exit = False\n",
    "    [my_vel.linear.x, my_vel.angular.z] =[0 , 0]\n",
    "    vel_pub.publish(my_vel)\n",
    "    into()\n",
    "\n",
    "    \n",
    "    \n",
    "\n",
    "def manual_show():\n",
    "        \n",
    "        global my_vel,vel_pub,exit, manual_bol\n",
    "        vel_pub = rospy.Publisher('/cmd_vel', Twist, queue_size = 50)\n",
    "        my_vel = Twist()\n",
    "        \n",
    "        display(HTML('<h1 style = \"position:relative; margin-left:340px;\">Motion Planner Interface</h1>'))\n",
    "        print('\\n')\n",
    "        print('\\n')\n",
    "\n",
    "\n",
    "        forward = Button(description='^',layout=Layout(width='auto', grid_area='forward'), style=ButtonStyle(button_color='lightblue'))\n",
    "        left = Button(description='<', layout=Layout(width='auto', grid_area='left'), style=ButtonStyle(button_color='lightblue'))\n",
    "        right = Button(description='>', layout=Layout(width='auto', grid_area='right'), style=ButtonStyle(button_color='lightblue'))\n",
    "        behind = Button(description='v', layout=Layout(width='auto', grid_area='behind'), style=ButtonStyle(button_color='lightblue'))\n",
    "        quit = Button(description='quit', layout=Layout(width='auto', grid_area='quit'), style=ButtonStyle(button_color='red'))\n",
    "\n",
    "        box = GridBox(children=[forward,left,right,behind,quit], layout=Layout(width='auto',grid_template_rows='auto auto auto', grid_template_columns='auto auto auto', grid_template_areas='''\n",
    "        \" . forward . . .\" \n",
    "        \"left . right . .\"\n",
    "        \" . behind . . quit \"\n",
    "        ''')\n",
    "        )   \n",
    "        display(box)\n",
    "        forward.on_click(fforward)\n",
    "        left.on_click(fleft)\n",
    "        right.on_click(fright)\n",
    "        behind.on_click(fbehind)\n",
    "        quit.on_click(fquit)\n",
    "\n",
    "\n",
    "\n",
    "\n",
    "\n",
    "\n",
    "manual_show()\n",
    "\n"
   ]
  },
  {
   "cell_type": "code",
   "execution_count": 9,
   "id": "d57c0b0b",
   "metadata": {
    "ExecuteTime": {
     "end_time": "2022-05-09T12:23:32.149079Z",
     "start_time": "2022-05-09T12:23:32.135745Z"
    }
   },
   "outputs": [],
   "source": [
    "#Come uscire fuori?\n",
    "\n",
    "def manual():\n",
    "    \n",
    "\n",
    "    manual_bol = False\n",
    "    exit = True\n",
    "    manual_show()\n",
    "    "
   ]
  },
  {
   "cell_type": "code",
   "execution_count": 10,
   "id": "ecffc546",
   "metadata": {
    "ExecuteTime": {
     "end_time": "2022-05-09T12:23:36.761861Z",
     "start_time": "2022-05-09T12:23:36.409208Z"
    }
   },
   "outputs": [
    {
     "data": {
      "text/html": [
       "<h1 style = \"position:relative; margin-left:300px;\">      PLANNING MOTION INTERFACE</h1>"
      ],
      "text/plain": [
       "<IPython.core.display.HTML object>"
      ]
     },
     "metadata": {},
     "output_type": "display_data"
    },
    {
     "name": "stdout",
     "output_type": "stream",
     "text": [
      "\n",
      "\n",
      "\n",
      "\n"
     ]
    },
    {
     "data": {
      "text/html": [
       "<h3 style = \"position:relative; margin-left:0px;\"> Insert coordinates, enter and then submit</h3>"
      ],
      "text/plain": [
       "<IPython.core.display.HTML object>"
      ]
     },
     "metadata": {},
     "output_type": "display_data"
    },
    {
     "data": {
      "application/vnd.jupyter.widget-view+json": {
       "model_id": "72a5927d065042dd9a5f0e8baac9d667",
       "version_major": 2,
       "version_minor": 0
      },
      "text/plain": [
       "HBox(children=(VBox(children=(Text(value='', description='x'), Text(value='', description='y'))),))"
      ]
     },
     "metadata": {},
     "output_type": "display_data"
    },
    {
     "data": {
      "application/vnd.jupyter.widget-view+json": {
       "model_id": "f12d5dacbbef4147971b70f32a70440a",
       "version_major": 2,
       "version_minor": 0
      },
      "text/plain": [
       "Button(description='Submit', layout=Layout(margin='0px 0px 0px 700px', width='100'), style=ButtonStyle(button_…"
      ]
     },
     "metadata": {},
     "output_type": "display_data"
    },
    {
     "data": {
      "application/vnd.jupyter.widget-view+json": {
       "model_id": "409105efd47f4f5facf45990c5383982",
       "version_major": 2,
       "version_minor": 0
      },
      "text/plain": [
       "Button(description='Plot Target', layout=Layout(margin='0px 0px 0px 700px', width='100'), style=ButtonStyle(bu…"
      ]
     },
     "metadata": {},
     "output_type": "display_data"
    },
    {
     "data": {
      "application/vnd.jupyter.widget-view+json": {
       "model_id": "3646368e3369411da93bb93241dbfb14",
       "version_major": 2,
       "version_minor": 0
      },
      "text/plain": [
       "Button(description='Exit', layout=Layout(margin='0px 0px 50px 700px', width='100'), style=ButtonStyle(button_c…"
      ]
     },
     "metadata": {},
     "output_type": "display_data"
    },
    {
     "ename": "AttributeError",
     "evalue": "'function' object has no attribute 'ion'",
     "output_type": "error",
     "traceback": [
      "\u001b[0;31m---------------------------------------------------------------------------\u001b[0m",
      "\u001b[0;31mAttributeError\u001b[0m                            Traceback (most recent call last)",
      "\u001b[0;32m/tmp/ipykernel_3262/3491057397.py\u001b[0m in \u001b[0;36mplt_t\u001b[0;34m(a)\u001b[0m\n\u001b[1;32m      6\u001b[0m         \u001b[0mplt\u001b[0m\u001b[0;34m.\u001b[0m\u001b[0mplot\u001b[0m\u001b[0;34m(\u001b[0m\u001b[0;36m0\u001b[0m\u001b[0;34m)\u001b[0m\u001b[0;34m\u001b[0m\u001b[0;34m\u001b[0m\u001b[0m\n\u001b[1;32m      7\u001b[0m     \u001b[0;32melse\u001b[0m\u001b[0;34m:\u001b[0m\u001b[0;34m\u001b[0m\u001b[0;34m\u001b[0m\u001b[0m\n\u001b[0;32m----> 8\u001b[0;31m         \u001b[0mplt\u001b[0m\u001b[0;34m.\u001b[0m\u001b[0mion\u001b[0m\u001b[0;34m(\u001b[0m\u001b[0;34m)\u001b[0m\u001b[0;34m\u001b[0m\u001b[0;34m\u001b[0m\u001b[0m\n\u001b[0m\u001b[1;32m      9\u001b[0m         \u001b[0mplt\u001b[0m\u001b[0;34m.\u001b[0m\u001b[0mplot\u001b[0m\u001b[0;34m(\u001b[0m\u001b[0mcount_target\u001b[0m\u001b[0;34m)\u001b[0m\u001b[0;34m\u001b[0m\u001b[0;34m\u001b[0m\u001b[0m\n\u001b[1;32m     10\u001b[0m \u001b[0;34m\u001b[0m\u001b[0m\n",
      "\u001b[0;31mAttributeError\u001b[0m: 'function' object has no attribute 'ion'"
     ]
    }
   ],
   "source": [
    "%matplotlib widget\n",
    "def plt_t(a):\n",
    "    global count_target\n",
    "    if(count_target == None):\n",
    "        plt.ion()\n",
    "        plt.plot(0)\n",
    "    else: \n",
    "        plt.ion()\n",
    "        plt.plot(count_target)\n",
    "    \n",
    "def f(a):\n",
    "    global x\n",
    "    try:\n",
    "        x = float(a.value)\n",
    "    except:\n",
    "        print(\"Please try again\")\n",
    "        \n",
    "    \n",
    "def c(a):\n",
    "    global y\n",
    "    try:\n",
    "        y = float(a.value)\n",
    "    except:\n",
    "        print(\"Please try again\")\n",
    "        \n",
    "def ex(a):\n",
    "    global exit\n",
    "    exit = False\n",
    "    print(\"Exiting\")\n",
    "    time.sleep(1)\n",
    "    into()\n",
    "    \n",
    "def sub(a):\n",
    "    global x,y,plan_bol\n",
    "    try:\n",
    "        float(x)\n",
    "        float(y)\n",
    "        print(\"Perfect, starting the plan\")\n",
    "        time.sleep(1)\n",
    "        clear_output(wait=True)\n",
    "  \n",
    "        \n",
    "    except:\n",
    "        print(\"Please try again\")\n",
    "    else:\n",
    "        move_base()\n",
    "    \n",
    "        \n",
    "    \n",
    "def move_base_show():\n",
    "         \n",
    "       global x,y\n",
    "       x = \"\"\n",
    "       y= \"\"\n",
    "       count_target = []\n",
    "       status = None\n",
    "       result = None\n",
    "       clear_output(wait=True)\n",
    "       display(HTML('<h1 style = \"position:relative; margin-left:300px;\">      PLANNING MOTION INTERFACE</h1>'))\n",
    "       print('\\n')\n",
    "       print('\\n')\n",
    "       display(HTML('<h3 style = \"position:relative; margin-left:0px;\"> Insert coordinates, enter and then submit</h3>'))\n",
    "       \n",
    "       a = widgets.Text(description='x') \n",
    "       b = widgets.Text(description='y') \n",
    "\n",
    "\n",
    "    \n",
    "       coo_box = HBox([widgets.VBox([a, b])])\n",
    "       display(coo_box)\n",
    "\n",
    "       a.on_submit(f)\n",
    "       b.on_submit(c)\n",
    "        \n",
    "       submit = Button(description='Submit', layout=Layout(width='100', margin= '0px 0px 0px 700px'), style=ButtonStyle(button_color='lightblue'))\n",
    "       display(submit)\n",
    "       exit = Button(description='Exit', layout=Layout(width='100', margin= '0px 0px 50px 700px'), style=ButtonStyle(button_color='red'))\n",
    "       \n",
    "       submit.on_click(sub)\n",
    "       exit.on_click(ex)\n",
    "       plt_target = Button(description='Plot Target', layout=Layout(width='100', margin= '0px 0px 0px 700px'), style=ButtonStyle(button_color='orange'))\n",
    "       display(plt_target)\n",
    "       display(exit)\n",
    "        \n",
    "       plt_target.on_click(plt_t)\n",
    "       \n",
    "move_base_show()"
   ]
  },
  {
   "cell_type": "code",
   "execution_count": null,
   "id": "fe4f400c",
   "metadata": {
    "ExecuteTime": {
     "end_time": "2022-04-29T13:29:31.987954Z",
     "start_time": "2022-04-29T13:29:31.987939Z"
    }
   },
   "outputs": [],
   "source": []
  },
  {
   "cell_type": "code",
   "execution_count": 12,
   "id": "29411118",
   "metadata": {
    "ExecuteTime": {
     "end_time": "2022-05-09T12:23:58.426122Z",
     "start_time": "2022-05-09T12:23:57.997310Z"
    },
    "scrolled": true
   },
   "outputs": [
    {
     "data": {
      "text/html": [
       "<h3 style = \"position:relative; margin-left:0px;\"> Feedback</h3>"
      ],
      "text/plain": [
       "<IPython.core.display.HTML object>"
      ]
     },
     "metadata": {},
     "output_type": "display_data"
    },
    {
     "data": {
      "application/vnd.jupyter.widget-view+json": {
       "model_id": "b06a65ef27004799b07865155f090c70",
       "version_major": 2,
       "version_minor": 0
      },
      "text/plain": [
       "Output(layout=Layout(border='1px solid black'))"
      ]
     },
     "metadata": {},
     "output_type": "display_data"
    },
    {
     "data": {
      "text/html": [
       "<h3 style = \"position:relative; margin-left:0px;\"> Distance to goal</h3>"
      ],
      "text/plain": [
       "<IPython.core.display.HTML object>"
      ]
     },
     "metadata": {},
     "output_type": "display_data"
    },
    {
     "data": {
      "application/vnd.jupyter.widget-view+json": {
       "model_id": "8a1f5f936c5446feb32c447c96631bff",
       "version_major": 2,
       "version_minor": 0
      },
      "text/plain": [
       "Output(layout=Layout(border='1px solid black'))"
      ]
     },
     "metadata": {},
     "output_type": "display_data"
    },
    {
     "data": {
      "text/html": [
       "<h3 style = \"position:relative; margin-left:0px;\">Coordinates:</h3>"
      ],
      "text/plain": [
       "<IPython.core.display.HTML object>"
      ]
     },
     "metadata": {},
     "output_type": "display_data"
    },
    {
     "name": "stdout",
     "output_type": "stream",
     "text": [
      " \n"
     ]
    },
    {
     "ename": "ROSSerializationException",
     "evalue": "<class 'struct.error'>: 'required argument is not a float' when writing 'header: \n  seq: 1\n  stamp: \n    secs: 0\n    nsecs:         0\n  frame_id: ''\ngoal_id: \n  stamp: \n    secs: 0\n    nsecs:         0\n  id: ''\ngoal: \n  target_pose: \n    header: \n      seq: 0\n      stamp: \n        secs: 0\n        nsecs:         0\n      frame_id: \"map\"\n    pose: \n      position: \n        x: ''\n        y: ''\n        z: 0.0\n      orientation: \n        x: 0.0\n        y: 0.0\n        z: 0.0\n        w: 1'",
     "output_type": "error",
     "traceback": [
      "\u001b[0;31m---------------------------------------------------------------------------\u001b[0m",
      "\u001b[0;31merror\u001b[0m                                     Traceback (most recent call last)",
      "\u001b[0;32m/opt/ros/noetic/lib/python3/dist-packages/move_base_msgs/msg/_MoveBaseActionGoal.py\u001b[0m in \u001b[0;36mserialize\u001b[0;34m(self, buff)\u001b[0m\n\u001b[1;32m    154\u001b[0m       \u001b[0m_x\u001b[0m \u001b[0;34m=\u001b[0m \u001b[0mself\u001b[0m\u001b[0;34m\u001b[0m\u001b[0;34m\u001b[0m\u001b[0m\n\u001b[0;32m--> 155\u001b[0;31m       \u001b[0mbuff\u001b[0m\u001b[0;34m.\u001b[0m\u001b[0mwrite\u001b[0m\u001b[0;34m(\u001b[0m\u001b[0m_get_struct_7d\u001b[0m\u001b[0;34m(\u001b[0m\u001b[0;34m)\u001b[0m\u001b[0;34m.\u001b[0m\u001b[0mpack\u001b[0m\u001b[0;34m(\u001b[0m\u001b[0m_x\u001b[0m\u001b[0;34m.\u001b[0m\u001b[0mgoal\u001b[0m\u001b[0;34m.\u001b[0m\u001b[0mtarget_pose\u001b[0m\u001b[0;34m.\u001b[0m\u001b[0mpose\u001b[0m\u001b[0;34m.\u001b[0m\u001b[0mposition\u001b[0m\u001b[0;34m.\u001b[0m\u001b[0mx\u001b[0m\u001b[0;34m,\u001b[0m \u001b[0m_x\u001b[0m\u001b[0;34m.\u001b[0m\u001b[0mgoal\u001b[0m\u001b[0;34m.\u001b[0m\u001b[0mtarget_pose\u001b[0m\u001b[0;34m.\u001b[0m\u001b[0mpose\u001b[0m\u001b[0;34m.\u001b[0m\u001b[0mposition\u001b[0m\u001b[0;34m.\u001b[0m\u001b[0my\u001b[0m\u001b[0;34m,\u001b[0m \u001b[0m_x\u001b[0m\u001b[0;34m.\u001b[0m\u001b[0mgoal\u001b[0m\u001b[0;34m.\u001b[0m\u001b[0mtarget_pose\u001b[0m\u001b[0;34m.\u001b[0m\u001b[0mpose\u001b[0m\u001b[0;34m.\u001b[0m\u001b[0mposition\u001b[0m\u001b[0;34m.\u001b[0m\u001b[0mz\u001b[0m\u001b[0;34m,\u001b[0m \u001b[0m_x\u001b[0m\u001b[0;34m.\u001b[0m\u001b[0mgoal\u001b[0m\u001b[0;34m.\u001b[0m\u001b[0mtarget_pose\u001b[0m\u001b[0;34m.\u001b[0m\u001b[0mpose\u001b[0m\u001b[0;34m.\u001b[0m\u001b[0morientation\u001b[0m\u001b[0;34m.\u001b[0m\u001b[0mx\u001b[0m\u001b[0;34m,\u001b[0m \u001b[0m_x\u001b[0m\u001b[0;34m.\u001b[0m\u001b[0mgoal\u001b[0m\u001b[0;34m.\u001b[0m\u001b[0mtarget_pose\u001b[0m\u001b[0;34m.\u001b[0m\u001b[0mpose\u001b[0m\u001b[0;34m.\u001b[0m\u001b[0morientation\u001b[0m\u001b[0;34m.\u001b[0m\u001b[0my\u001b[0m\u001b[0;34m,\u001b[0m \u001b[0m_x\u001b[0m\u001b[0;34m.\u001b[0m\u001b[0mgoal\u001b[0m\u001b[0;34m.\u001b[0m\u001b[0mtarget_pose\u001b[0m\u001b[0;34m.\u001b[0m\u001b[0mpose\u001b[0m\u001b[0;34m.\u001b[0m\u001b[0morientation\u001b[0m\u001b[0;34m.\u001b[0m\u001b[0mz\u001b[0m\u001b[0;34m,\u001b[0m \u001b[0m_x\u001b[0m\u001b[0;34m.\u001b[0m\u001b[0mgoal\u001b[0m\u001b[0;34m.\u001b[0m\u001b[0mtarget_pose\u001b[0m\u001b[0;34m.\u001b[0m\u001b[0mpose\u001b[0m\u001b[0;34m.\u001b[0m\u001b[0morientation\u001b[0m\u001b[0;34m.\u001b[0m\u001b[0mw\u001b[0m\u001b[0;34m)\u001b[0m\u001b[0;34m)\u001b[0m\u001b[0;34m\u001b[0m\u001b[0;34m\u001b[0m\u001b[0m\n\u001b[0m\u001b[1;32m    156\u001b[0m     \u001b[0;32mexcept\u001b[0m \u001b[0mstruct\u001b[0m\u001b[0;34m.\u001b[0m\u001b[0merror\u001b[0m \u001b[0;32mas\u001b[0m \u001b[0mse\u001b[0m\u001b[0;34m:\u001b[0m \u001b[0mself\u001b[0m\u001b[0;34m.\u001b[0m\u001b[0m_check_types\u001b[0m\u001b[0;34m(\u001b[0m\u001b[0mstruct\u001b[0m\u001b[0;34m.\u001b[0m\u001b[0merror\u001b[0m\u001b[0;34m(\u001b[0m\u001b[0;34m\"%s: '%s' when writing '%s'\"\u001b[0m \u001b[0;34m%\u001b[0m \u001b[0;34m(\u001b[0m\u001b[0mtype\u001b[0m\u001b[0;34m(\u001b[0m\u001b[0mse\u001b[0m\u001b[0;34m)\u001b[0m\u001b[0;34m,\u001b[0m \u001b[0mstr\u001b[0m\u001b[0;34m(\u001b[0m\u001b[0mse\u001b[0m\u001b[0;34m)\u001b[0m\u001b[0;34m,\u001b[0m \u001b[0mstr\u001b[0m\u001b[0;34m(\u001b[0m\u001b[0mlocals\u001b[0m\u001b[0;34m(\u001b[0m\u001b[0;34m)\u001b[0m\u001b[0;34m.\u001b[0m\u001b[0mget\u001b[0m\u001b[0;34m(\u001b[0m\u001b[0;34m'_x'\u001b[0m\u001b[0;34m,\u001b[0m \u001b[0mself\u001b[0m\u001b[0;34m)\u001b[0m\u001b[0;34m)\u001b[0m\u001b[0;34m)\u001b[0m\u001b[0;34m)\u001b[0m\u001b[0;34m)\u001b[0m\u001b[0;34m\u001b[0m\u001b[0;34m\u001b[0m\u001b[0m\n",
      "\u001b[0;31merror\u001b[0m: required argument is not a float",
      "\nDuring handling of the above exception, another exception occurred:\n",
      "\u001b[0;31mSerializationError\u001b[0m                        Traceback (most recent call last)",
      "\u001b[0;32m/opt/ros/noetic/lib/python3/dist-packages/rospy/topics.py\u001b[0m in \u001b[0;36mpublish\u001b[0;34m(self, *args, **kwds)\u001b[0m\n\u001b[1;32m    881\u001b[0m             \u001b[0mself\u001b[0m\u001b[0;34m.\u001b[0m\u001b[0mimpl\u001b[0m\u001b[0;34m.\u001b[0m\u001b[0macquire\u001b[0m\u001b[0;34m(\u001b[0m\u001b[0;34m)\u001b[0m\u001b[0;34m\u001b[0m\u001b[0;34m\u001b[0m\u001b[0m\n\u001b[0;32m--> 882\u001b[0;31m             \u001b[0mself\u001b[0m\u001b[0;34m.\u001b[0m\u001b[0mimpl\u001b[0m\u001b[0;34m.\u001b[0m\u001b[0mpublish\u001b[0m\u001b[0;34m(\u001b[0m\u001b[0mdata\u001b[0m\u001b[0;34m)\u001b[0m\u001b[0;34m\u001b[0m\u001b[0;34m\u001b[0m\u001b[0m\n\u001b[0m\u001b[1;32m    883\u001b[0m         \u001b[0;32mexcept\u001b[0m \u001b[0mgenpy\u001b[0m\u001b[0;34m.\u001b[0m\u001b[0mSerializationError\u001b[0m \u001b[0;32mas\u001b[0m \u001b[0me\u001b[0m\u001b[0;34m:\u001b[0m\u001b[0;34m\u001b[0m\u001b[0;34m\u001b[0m\u001b[0m\n",
      "\u001b[0;32m/opt/ros/noetic/lib/python3/dist-packages/rospy/topics.py\u001b[0m in \u001b[0;36mpublish\u001b[0;34m(self, message, connection_override)\u001b[0m\n\u001b[1;32m   1065\u001b[0m             \u001b[0mself\u001b[0m\u001b[0;34m.\u001b[0m\u001b[0mseq\u001b[0m \u001b[0;34m+=\u001b[0m \u001b[0;36m1\u001b[0m \u001b[0;31m#count messages published to the topic\u001b[0m\u001b[0;34m\u001b[0m\u001b[0;34m\u001b[0m\u001b[0m\n\u001b[0;32m-> 1066\u001b[0;31m             \u001b[0mserialize_message\u001b[0m\u001b[0;34m(\u001b[0m\u001b[0mb\u001b[0m\u001b[0;34m,\u001b[0m \u001b[0mself\u001b[0m\u001b[0;34m.\u001b[0m\u001b[0mseq\u001b[0m\u001b[0;34m,\u001b[0m \u001b[0mmessage\u001b[0m\u001b[0;34m)\u001b[0m\u001b[0;34m\u001b[0m\u001b[0;34m\u001b[0m\u001b[0m\n\u001b[0m\u001b[1;32m   1067\u001b[0m \u001b[0;34m\u001b[0m\u001b[0m\n",
      "\u001b[0;32m/opt/ros/noetic/lib/python3/dist-packages/rospy/msg.py\u001b[0m in \u001b[0;36mserialize_message\u001b[0;34m(b, seq, msg)\u001b[0m\n\u001b[1;32m    151\u001b[0m     \u001b[0;32mtry\u001b[0m\u001b[0;34m:\u001b[0m\u001b[0;34m\u001b[0m\u001b[0;34m\u001b[0m\u001b[0m\n\u001b[0;32m--> 152\u001b[0;31m         \u001b[0mmsg\u001b[0m\u001b[0;34m.\u001b[0m\u001b[0mserialize\u001b[0m\u001b[0;34m(\u001b[0m\u001b[0mb\u001b[0m\u001b[0;34m)\u001b[0m\u001b[0;34m\u001b[0m\u001b[0;34m\u001b[0m\u001b[0m\n\u001b[0m\u001b[1;32m    153\u001b[0m     \u001b[0;32mexcept\u001b[0m \u001b[0mstruct\u001b[0m\u001b[0;34m.\u001b[0m\u001b[0merror\u001b[0m \u001b[0;32mas\u001b[0m \u001b[0me\u001b[0m\u001b[0;34m:\u001b[0m\u001b[0;34m\u001b[0m\u001b[0;34m\u001b[0m\u001b[0m\n",
      "\u001b[0;32m/opt/ros/noetic/lib/python3/dist-packages/move_base_msgs/msg/_MoveBaseActionGoal.py\u001b[0m in \u001b[0;36mserialize\u001b[0;34m(self, buff)\u001b[0m\n\u001b[1;32m    155\u001b[0m       \u001b[0mbuff\u001b[0m\u001b[0;34m.\u001b[0m\u001b[0mwrite\u001b[0m\u001b[0;34m(\u001b[0m\u001b[0m_get_struct_7d\u001b[0m\u001b[0;34m(\u001b[0m\u001b[0;34m)\u001b[0m\u001b[0;34m.\u001b[0m\u001b[0mpack\u001b[0m\u001b[0;34m(\u001b[0m\u001b[0m_x\u001b[0m\u001b[0;34m.\u001b[0m\u001b[0mgoal\u001b[0m\u001b[0;34m.\u001b[0m\u001b[0mtarget_pose\u001b[0m\u001b[0;34m.\u001b[0m\u001b[0mpose\u001b[0m\u001b[0;34m.\u001b[0m\u001b[0mposition\u001b[0m\u001b[0;34m.\u001b[0m\u001b[0mx\u001b[0m\u001b[0;34m,\u001b[0m \u001b[0m_x\u001b[0m\u001b[0;34m.\u001b[0m\u001b[0mgoal\u001b[0m\u001b[0;34m.\u001b[0m\u001b[0mtarget_pose\u001b[0m\u001b[0;34m.\u001b[0m\u001b[0mpose\u001b[0m\u001b[0;34m.\u001b[0m\u001b[0mposition\u001b[0m\u001b[0;34m.\u001b[0m\u001b[0my\u001b[0m\u001b[0;34m,\u001b[0m \u001b[0m_x\u001b[0m\u001b[0;34m.\u001b[0m\u001b[0mgoal\u001b[0m\u001b[0;34m.\u001b[0m\u001b[0mtarget_pose\u001b[0m\u001b[0;34m.\u001b[0m\u001b[0mpose\u001b[0m\u001b[0;34m.\u001b[0m\u001b[0mposition\u001b[0m\u001b[0;34m.\u001b[0m\u001b[0mz\u001b[0m\u001b[0;34m,\u001b[0m \u001b[0m_x\u001b[0m\u001b[0;34m.\u001b[0m\u001b[0mgoal\u001b[0m\u001b[0;34m.\u001b[0m\u001b[0mtarget_pose\u001b[0m\u001b[0;34m.\u001b[0m\u001b[0mpose\u001b[0m\u001b[0;34m.\u001b[0m\u001b[0morientation\u001b[0m\u001b[0;34m.\u001b[0m\u001b[0mx\u001b[0m\u001b[0;34m,\u001b[0m \u001b[0m_x\u001b[0m\u001b[0;34m.\u001b[0m\u001b[0mgoal\u001b[0m\u001b[0;34m.\u001b[0m\u001b[0mtarget_pose\u001b[0m\u001b[0;34m.\u001b[0m\u001b[0mpose\u001b[0m\u001b[0;34m.\u001b[0m\u001b[0morientation\u001b[0m\u001b[0;34m.\u001b[0m\u001b[0my\u001b[0m\u001b[0;34m,\u001b[0m \u001b[0m_x\u001b[0m\u001b[0;34m.\u001b[0m\u001b[0mgoal\u001b[0m\u001b[0;34m.\u001b[0m\u001b[0mtarget_pose\u001b[0m\u001b[0;34m.\u001b[0m\u001b[0mpose\u001b[0m\u001b[0;34m.\u001b[0m\u001b[0morientation\u001b[0m\u001b[0;34m.\u001b[0m\u001b[0mz\u001b[0m\u001b[0;34m,\u001b[0m \u001b[0m_x\u001b[0m\u001b[0;34m.\u001b[0m\u001b[0mgoal\u001b[0m\u001b[0;34m.\u001b[0m\u001b[0mtarget_pose\u001b[0m\u001b[0;34m.\u001b[0m\u001b[0mpose\u001b[0m\u001b[0;34m.\u001b[0m\u001b[0morientation\u001b[0m\u001b[0;34m.\u001b[0m\u001b[0mw\u001b[0m\u001b[0;34m)\u001b[0m\u001b[0;34m)\u001b[0m\u001b[0;34m\u001b[0m\u001b[0;34m\u001b[0m\u001b[0m\n\u001b[0;32m--> 156\u001b[0;31m     \u001b[0;32mexcept\u001b[0m \u001b[0mstruct\u001b[0m\u001b[0;34m.\u001b[0m\u001b[0merror\u001b[0m \u001b[0;32mas\u001b[0m \u001b[0mse\u001b[0m\u001b[0;34m:\u001b[0m \u001b[0mself\u001b[0m\u001b[0;34m.\u001b[0m\u001b[0m_check_types\u001b[0m\u001b[0;34m(\u001b[0m\u001b[0mstruct\u001b[0m\u001b[0;34m.\u001b[0m\u001b[0merror\u001b[0m\u001b[0;34m(\u001b[0m\u001b[0;34m\"%s: '%s' when writing '%s'\"\u001b[0m \u001b[0;34m%\u001b[0m \u001b[0;34m(\u001b[0m\u001b[0mtype\u001b[0m\u001b[0;34m(\u001b[0m\u001b[0mse\u001b[0m\u001b[0;34m)\u001b[0m\u001b[0;34m,\u001b[0m \u001b[0mstr\u001b[0m\u001b[0;34m(\u001b[0m\u001b[0mse\u001b[0m\u001b[0;34m)\u001b[0m\u001b[0;34m,\u001b[0m \u001b[0mstr\u001b[0m\u001b[0;34m(\u001b[0m\u001b[0mlocals\u001b[0m\u001b[0;34m(\u001b[0m\u001b[0;34m)\u001b[0m\u001b[0;34m.\u001b[0m\u001b[0mget\u001b[0m\u001b[0;34m(\u001b[0m\u001b[0;34m'_x'\u001b[0m\u001b[0;34m,\u001b[0m \u001b[0mself\u001b[0m\u001b[0;34m)\u001b[0m\u001b[0;34m)\u001b[0m\u001b[0;34m)\u001b[0m\u001b[0;34m)\u001b[0m\u001b[0;34m)\u001b[0m\u001b[0;34m\u001b[0m\u001b[0;34m\u001b[0m\u001b[0m\n\u001b[0m\u001b[1;32m    157\u001b[0m     \u001b[0;32mexcept\u001b[0m \u001b[0mTypeError\u001b[0m \u001b[0;32mas\u001b[0m \u001b[0mte\u001b[0m\u001b[0;34m:\u001b[0m \u001b[0mself\u001b[0m\u001b[0;34m.\u001b[0m\u001b[0m_check_types\u001b[0m\u001b[0;34m(\u001b[0m\u001b[0mValueError\u001b[0m\u001b[0;34m(\u001b[0m\u001b[0;34m\"%s: '%s' when writing '%s'\"\u001b[0m \u001b[0;34m%\u001b[0m \u001b[0;34m(\u001b[0m\u001b[0mtype\u001b[0m\u001b[0;34m(\u001b[0m\u001b[0mte\u001b[0m\u001b[0;34m)\u001b[0m\u001b[0;34m,\u001b[0m \u001b[0mstr\u001b[0m\u001b[0;34m(\u001b[0m\u001b[0mte\u001b[0m\u001b[0;34m)\u001b[0m\u001b[0;34m,\u001b[0m \u001b[0mstr\u001b[0m\u001b[0;34m(\u001b[0m\u001b[0mlocals\u001b[0m\u001b[0;34m(\u001b[0m\u001b[0;34m)\u001b[0m\u001b[0;34m.\u001b[0m\u001b[0mget\u001b[0m\u001b[0;34m(\u001b[0m\u001b[0;34m'_x'\u001b[0m\u001b[0;34m,\u001b[0m \u001b[0mself\u001b[0m\u001b[0;34m)\u001b[0m\u001b[0;34m)\u001b[0m\u001b[0;34m)\u001b[0m\u001b[0;34m)\u001b[0m\u001b[0;34m)\u001b[0m\u001b[0;34m\u001b[0m\u001b[0;34m\u001b[0m\u001b[0m\n",
      "\u001b[0;32m/opt/ros/noetic/lib/python3/dist-packages/genpy/message.py\u001b[0m in \u001b[0;36m_check_types\u001b[0;34m(self, exc)\u001b[0m\n\u001b[1;32m    384\u001b[0m         \u001b[0;32mif\u001b[0m \u001b[0mexc\u001b[0m\u001b[0;34m:\u001b[0m  \u001b[0;31m# if exc is set and check_type could not diagnose, raise wrapped error\u001b[0m\u001b[0;34m\u001b[0m\u001b[0;34m\u001b[0m\u001b[0m\n\u001b[0;32m--> 385\u001b[0;31m             \u001b[0;32mraise\u001b[0m \u001b[0mSerializationError\u001b[0m\u001b[0;34m(\u001b[0m\u001b[0mstr\u001b[0m\u001b[0;34m(\u001b[0m\u001b[0mexc\u001b[0m\u001b[0;34m)\u001b[0m\u001b[0;34m)\u001b[0m\u001b[0;34m\u001b[0m\u001b[0;34m\u001b[0m\u001b[0m\n\u001b[0m\u001b[1;32m    386\u001b[0m \u001b[0;34m\u001b[0m\u001b[0m\n",
      "\u001b[0;31mSerializationError\u001b[0m: <class 'struct.error'>: 'required argument is not a float' when writing 'header: \n  seq: 1\n  stamp: \n    secs: 0\n    nsecs:         0\n  frame_id: ''\ngoal_id: \n  stamp: \n    secs: 0\n    nsecs:         0\n  id: ''\ngoal: \n  target_pose: \n    header: \n      seq: 0\n      stamp: \n        secs: 0\n        nsecs:         0\n      frame_id: \"map\"\n    pose: \n      position: \n        x: ''\n        y: ''\n        z: 0.0\n      orientation: \n        x: 0.0\n        y: 0.0\n        z: 0.0\n        w: 1'",
      "\nDuring handling of the above exception, another exception occurred:\n",
      "\u001b[0;31mROSSerializationException\u001b[0m                 Traceback (most recent call last)",
      "\u001b[0;32m/tmp/ipykernel_3262/4195893310.py\u001b[0m in \u001b[0;36m<module>\u001b[0;34m\u001b[0m\n\u001b[1;32m    152\u001b[0m \u001b[0;34m\u001b[0m\u001b[0m\n\u001b[1;32m    153\u001b[0m \u001b[0;34m\u001b[0m\u001b[0m\n\u001b[0;32m--> 154\u001b[0;31m \u001b[0mmove_base\u001b[0m\u001b[0;34m(\u001b[0m\u001b[0;34m)\u001b[0m\u001b[0;34m\u001b[0m\u001b[0;34m\u001b[0m\u001b[0m\n\u001b[0m",
      "\u001b[0;32m/tmp/ipykernel_3262/4195893310.py\u001b[0m in \u001b[0;36mmove_base\u001b[0;34m()\u001b[0m\n\u001b[1;32m     42\u001b[0m \u001b[0;34m\u001b[0m\u001b[0m\n\u001b[1;32m     43\u001b[0m \u001b[0;34m\u001b[0m\u001b[0m\n\u001b[0;32m---> 44\u001b[0;31m                 \u001b[0mpub_movebase\u001b[0m\u001b[0;34m.\u001b[0m\u001b[0mpublish\u001b[0m\u001b[0;34m(\u001b[0m\u001b[0mmove\u001b[0m\u001b[0;34m)\u001b[0m\u001b[0;34m\u001b[0m\u001b[0;34m\u001b[0m\u001b[0m\n\u001b[0m\u001b[1;32m     45\u001b[0m                 \u001b[0mrate\u001b[0m\u001b[0;34m.\u001b[0m\u001b[0msleep\u001b[0m\u001b[0;34m(\u001b[0m\u001b[0;34m)\u001b[0m\u001b[0;34m\u001b[0m\u001b[0;34m\u001b[0m\u001b[0m\n\u001b[1;32m     46\u001b[0m \u001b[0;34m\u001b[0m\u001b[0m\n",
      "\u001b[0;32m/opt/ros/noetic/lib/python3/dist-packages/rospy/topics.py\u001b[0m in \u001b[0;36mpublish\u001b[0;34m(self, *args, **kwds)\u001b[0m\n\u001b[1;32m    884\u001b[0m             \u001b[0;31m# can't go to rospy.logerr(), b/c this could potentially recurse\u001b[0m\u001b[0;34m\u001b[0m\u001b[0;34m\u001b[0m\u001b[0;34m\u001b[0m\u001b[0m\n\u001b[1;32m    885\u001b[0m             \u001b[0m_logger\u001b[0m\u001b[0;34m.\u001b[0m\u001b[0merror\u001b[0m\u001b[0;34m(\u001b[0m\u001b[0mtraceback\u001b[0m\u001b[0;34m.\u001b[0m\u001b[0mformat_exc\u001b[0m\u001b[0;34m(\u001b[0m\u001b[0;34m)\u001b[0m\u001b[0;34m)\u001b[0m\u001b[0;34m\u001b[0m\u001b[0;34m\u001b[0m\u001b[0m\n\u001b[0;32m--> 886\u001b[0;31m             \u001b[0;32mraise\u001b[0m \u001b[0mROSSerializationException\u001b[0m\u001b[0;34m(\u001b[0m\u001b[0mstr\u001b[0m\u001b[0;34m(\u001b[0m\u001b[0me\u001b[0m\u001b[0;34m)\u001b[0m\u001b[0;34m)\u001b[0m\u001b[0;34m\u001b[0m\u001b[0;34m\u001b[0m\u001b[0m\n\u001b[0m\u001b[1;32m    887\u001b[0m         \u001b[0;32mfinally\u001b[0m\u001b[0;34m:\u001b[0m\u001b[0;34m\u001b[0m\u001b[0;34m\u001b[0m\u001b[0m\n\u001b[1;32m    888\u001b[0m             \u001b[0mself\u001b[0m\u001b[0;34m.\u001b[0m\u001b[0mimpl\u001b[0m\u001b[0;34m.\u001b[0m\u001b[0mrelease\u001b[0m\u001b[0;34m(\u001b[0m\u001b[0;34m)\u001b[0m\u001b[0;34m\u001b[0m\u001b[0;34m\u001b[0m\u001b[0m\n",
      "\u001b[0;31mROSSerializationException\u001b[0m: <class 'struct.error'>: 'required argument is not a float' when writing 'header: \n  seq: 1\n  stamp: \n    secs: 0\n    nsecs:         0\n  frame_id: ''\ngoal_id: \n  stamp: \n    secs: 0\n    nsecs:         0\n  id: ''\ngoal: \n  target_pose: \n    header: \n      seq: 0\n      stamp: \n        secs: 0\n        nsecs:         0\n      frame_id: \"map\"\n    pose: \n      position: \n        x: ''\n        y: ''\n        z: 0.0\n      orientation: \n        x: 0.0\n        y: 0.0\n        z: 0.0\n        w: 1'"
     ]
    }
   ],
   "source": [
    "\n",
    "def todist(x,y,x_pos,y_pos):\n",
    "    return ((x-x_pos)**2-(y-y_pos)**2)**0.5\n",
    "\n",
    "def move_base():\n",
    "\n",
    "        pub_movebase = rospy.Publisher(\"/move_base/goal\", MoveBaseActionGoal, queue_size = 50)\n",
    "        rate = rospy.Rate(10)\n",
    "        move = MoveBaseActionGoal()\n",
    "        move.goal.target_pose.header.frame_id = \"map\"\n",
    "        move.goal.target_pose.pose.orientation.w = 1\n",
    "        position = rospy.wait_for_message(\"/odom\",Odometry)\n",
    "        \n",
    "        \n",
    "        #-------------------------------------\n",
    "        \n",
    "\n",
    "        \n",
    "        \n",
    "        while(True):\n",
    "            \n",
    "                # headings\n",
    "                clear_output(wait = True)\n",
    "                display(HTML('<h3 style = \"position:relative; margin-left:0px;\"> Feedback</h3>'))\n",
    "                feedbackk = widgets.Output(layout={'border': '1px solid black'},style = \"position:relative; margin-left:2000px;\") \n",
    "                display(feedbackk)\n",
    "                display(HTML('<h3 style = \"position:relative; margin-left:0px;\"> Distance to goal</h3>'))\n",
    "                dtg = widgets.Output(layout={'border': '1px solid black'},style = \"position:relative; margin-left:2000px;\") \n",
    "                display(dtg)\n",
    "                \n",
    "                #coordinates\n",
    "                \n",
    "                display(HTML('<h3 style = \"position:relative; margin-left:0px;\">Coordinates:</h3>'))\n",
    "                \n",
    "\n",
    "                global x,y\n",
    "                \n",
    "                \n",
    "                \n",
    "                move.goal.target_pose.pose.position.x = x\n",
    "                move.goal.target_pose.pose.position.y = y\n",
    "                print(x,y)\n",
    "                \n",
    "                \n",
    "                pub_movebase.publish(move)\n",
    "                rate.sleep()\n",
    "                \n",
    "                goal_info = None\n",
    "                \n",
    "                while(goal_info is None):\n",
    "                        goal_info = rospy.wait_for_message(\"move_base/status\",GoalStatusArray)\n",
    "                        rate.sleep()\n",
    "                status = int(goal_info.status_list[-1].status)  \n",
    "                #print(\"status = \",status)\n",
    "                            \n",
    "                while(True):\n",
    "                    \n",
    "                        \n",
    "                        goal_info = rospy.wait_for_message(\"move_base/status\",GoalStatusArray)\n",
    "                        status = int(goal_info.status_list[-1].status)\n",
    "                        #_id = goal_info.status_list[0].goal_id.id\n",
    "                        #print(_id)\n",
    "                                        \n",
    "                    \n",
    "                        position = rospy.wait_for_message(\"/odom\",Odometry)\n",
    "                        x_pos = position.twist.twist.linear.x \n",
    "                        y_pos = position.twist.twist.linear.y \n",
    "                        \n",
    "                        \n",
    "                        \n",
    "                        #----------------------------------------------\n",
    "                        if(status == 1):\n",
    "                            \n",
    "                            #add Feedback distance, handle it , and print in text box\n",
    "                        \n",
    "                            dist = todist(x,y,x_pos,y_pos)\n",
    "                            \n",
    "                            #print in the text boxes\n",
    "                            with feedbackk:\n",
    "                                print('\\r                   ', end='', flush=True)\n",
    "                                print(f'\\rGoal Accepted', end='', flush=True)\n",
    "                            with dtg:\n",
    "                                print('\\r                   ', end='', flush=True)\n",
    "                                print(f'\\r{dist}', end='', flush=True)\n",
    "                            pass\n",
    "                        #----------------------------------------------\n",
    "                        elif(status == 2):\n",
    "                            \n",
    "                            #add 0 to count due target failed\n",
    "                            count_target.append(0)\n",
    "                            \n",
    "                            #print in the text boxes\n",
    "                            with feedbackk:\n",
    "                                print('\\r                   ', end='', flush=True)\n",
    "                                print(f'\\rGoal not reachable', end='', flush=True)\n",
    "                            continue\n",
    "                            \n",
    "                        \n",
    "                        #----------------------------------------------                       \n",
    "                                                \n",
    "                        elif(status == 3):\n",
    "                            \n",
    "                            #add 1 due target reached\n",
    "                            count_target.append(1)\n",
    "                            \n",
    "                            #print in the text boxes\n",
    "                            with feedbackk:\n",
    "                                print('\\r                   ', end='', flush=True)\n",
    "                                print(f'\\rGoal reached', end='', flush=True)\n",
    "                            \n",
    "                             \n",
    "                             \n",
    "                            print('Exiting')\n",
    "                            print(*count_target, sep = \", \") \n",
    "                            \n",
    "                            time.sleep(4)\n",
    "                            # planning again\n",
    "                            move_base_show()\n",
    "                        \n",
    "                            return 1\n",
    "                            \n",
    "                             #----------------------------------------------\n",
    "\n",
    "                                \n",
    "                        \n",
    "                        elif(status == 4):\n",
    "                            \n",
    "                            #add 0 due target aborted\n",
    "                            \n",
    "                            count_target.append(0)\n",
    "                            \n",
    "                            #print in the text boxes\n",
    "                            with feedbackk:\n",
    "                                print('\\r                   ', end='', flush=True)\n",
    "                                print(f'\\rGoal Cancelled - No plan avaible', end='', flush=True)\n",
    "                            \n",
    "                            \n",
    "                            print('Exiting')\n",
    "                            \n",
    "                            \n",
    "                            # planning again\n",
    "                            move_base_show()\n",
    "                            publisher_cancel = rospy.Publisher(\"/move_base/cancel\", GoalID, queue_size = 1)\n",
    "                            cancel = GoalID()\n",
    "                            publisher_cancel.publish(cancel)\n",
    "                            \n",
    "                            time.sleep(4)\n",
    "                            return 1\n",
    "                            \n",
    "                            #-----------------------------------------------------------------\n",
    "                        \n",
    "                        rate.sleep()\n",
    "\n",
    " \n",
    "move_base()"
   ]
  },
  {
   "cell_type": "code",
   "execution_count": null,
   "id": "120665e1",
   "metadata": {},
   "outputs": [],
   "source": []
  },
  {
   "cell_type": "code",
   "execution_count": null,
   "id": "19a6cede",
   "metadata": {},
   "outputs": [],
   "source": []
  },
  {
   "cell_type": "code",
   "execution_count": null,
   "id": "a7665d34",
   "metadata": {},
   "outputs": [],
   "source": []
  },
  {
   "cell_type": "code",
   "execution_count": null,
   "id": "6443e4ef",
   "metadata": {},
   "outputs": [],
   "source": []
  },
  {
   "cell_type": "code",
   "execution_count": null,
   "id": "adbef0b2",
   "metadata": {},
   "outputs": [],
   "source": []
  }
 ],
 "metadata": {
  "hide_input": false,
  "kernelspec": {
   "display_name": "Python 3 (ipykernel)",
   "language": "python",
   "name": "python3"
  },
  "language_info": {
   "codemirror_mode": {
    "name": "ipython",
    "version": 3
   },
   "file_extension": ".py",
   "mimetype": "text/x-python",
   "name": "python",
   "nbconvert_exporter": "python",
   "pygments_lexer": "ipython3",
   "version": "3.8.5"
  },
  "toc": {
   "base_numbering": 1,
   "nav_menu": {},
   "number_sections": true,
   "sideBar": true,
   "skip_h1_title": false,
   "title_cell": "Table of Contents",
   "title_sidebar": "Contents",
   "toc_cell": false,
   "toc_position": {},
   "toc_section_display": true,
   "toc_window_display": false
  },
  "varInspector": {
   "cols": {
    "lenName": 16,
    "lenType": 16,
    "lenVar": 40
   },
   "kernels_config": {
    "python": {
     "delete_cmd_postfix": "",
     "delete_cmd_prefix": "del ",
     "library": "var_list.py",
     "varRefreshCmd": "print(var_dic_list())"
    },
    "r": {
     "delete_cmd_postfix": ") ",
     "delete_cmd_prefix": "rm(",
     "library": "var_list.r",
     "varRefreshCmd": "cat(var_dic_list()) "
    }
   },
   "types_to_exclude": [
    "module",
    "function",
    "builtin_function_or_method",
    "instance",
    "_Feature"
   ],
   "window_display": false
  }
 },
 "nbformat": 4,
 "nbformat_minor": 5
}
