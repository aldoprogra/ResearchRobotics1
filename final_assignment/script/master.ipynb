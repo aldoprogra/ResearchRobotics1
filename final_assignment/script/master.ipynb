{
 "cells": [
  {
   "cell_type": "code",
   "execution_count": 1,
   "metadata": {
    "ExecuteTime": {
     "end_time": "2022-05-03T00:02:16.372545Z",
     "start_time": "2022-05-03T00:02:16.066777Z"
    }
   },
   "outputs": [],
   "source": [
    "#! /usr/bin/env python"
   ]
  },
  {
   "cell_type": "code",
   "execution_count": 1,
   "metadata": {
    "ExecuteTime": {
     "end_time": "2022-05-04T19:21:26.856558Z",
     "start_time": "2022-05-04T19:21:25.774049Z"
    }
   },
   "outputs": [],
   "source": [
    "import jupyros\n",
    "import rospy\n",
    "import os\n",
    "from move_base_msgs.msg import MoveBaseActionFeedback\n",
    "from move_base_msgs.msg import MoveBaseActionGoal\n",
    "from nav_msgs.msg import Odometry\n",
    "from geometry_msgs.msg import Twist\n",
    "from actionlib_msgs.msg import GoalID\n",
    "from actionlib_msgs.msg import GoalStatusArray\n",
    "import sys, tty\n",
    "from sensor_msgs.msg import LaserScan\n",
    "from IPython.core.display import display, HTML\n",
    "from IPython.display import display,clear_output\n",
    "from ipywidgets import AppLayout, Button, Layout, ButtonStyle, GridBox, VBox, HBox , widgets , interact, interactive, fixed, interact_manual, interactive_output\n",
    "import time\n",
    "from jupyros import ros3d"
   ]
  },
  {
   "cell_type": "code",
   "execution_count": 2,
   "metadata": {
    "ExecuteTime": {
     "end_time": "2022-05-04T19:21:38.438765Z",
     "start_time": "2022-05-04T19:21:38.376152Z"
    },
    "scrolled": false
   },
   "outputs": [
    {
     "data": {
      "text/html": [
       "<h1 style = \"position:relative; margin-left:300px;\">      PLANNING MOTION INTERFACE</h1>"
      ],
      "text/plain": [
       "<IPython.core.display.HTML object>"
      ]
     },
     "metadata": {},
     "output_type": "display_data"
    },
    {
     "name": "stdout",
     "output_type": "stream",
     "text": [
      "\n",
      "\n",
      "\n",
      "\n"
     ]
    },
    {
     "data": {
      "text/html": [
       "<h3 style = \"position:relative; margin-left:0px;\"> Insert coordinates, enter and then submit</h3>"
      ],
      "text/plain": [
       "<IPython.core.display.HTML object>"
      ]
     },
     "metadata": {},
     "output_type": "display_data"
    },
    {
     "data": {
      "application/vnd.jupyter.widget-view+json": {
       "model_id": "45f9c50b8a7644a181c3172b67d01be4",
       "version_major": 2,
       "version_minor": 0
      },
      "text/plain": [
       "HBox(children=(VBox(children=(Text(value='', description='x'), Text(value='', description='y'))),))"
      ]
     },
     "metadata": {},
     "output_type": "display_data"
    },
    {
     "data": {
      "application/vnd.jupyter.widget-view+json": {
       "model_id": "7b20745d232c4d6381d039eafcc59abc",
       "version_major": 2,
       "version_minor": 0
      },
      "text/plain": [
       "Button(description='Submit', layout=Layout(margin='0px 0px 0px 700px', width='100'), style=ButtonStyle(button_…"
      ]
     },
     "metadata": {},
     "output_type": "display_data"
    },
    {
     "data": {
      "application/vnd.jupyter.widget-view+json": {
       "model_id": "377b905013d0431887e59065a729a22c",
       "version_major": 2,
       "version_minor": 0
      },
      "text/plain": [
       "Button(description='Exit', layout=Layout(margin='0px 0px 50px 700px', width='100'), style=ButtonStyle(button_c…"
      ]
     },
     "metadata": {},
     "output_type": "display_data"
    }
   ],
   "source": [
    "def f(a):\n",
    "    global x\n",
    "    try:\n",
    "        x = float(a.value)\n",
    "    except:\n",
    "        print(\"Please try again\")\n",
    "        \n",
    "    \n",
    "def c(a):\n",
    "    global y\n",
    "    try:\n",
    "        y = float(a.value)\n",
    "    except:\n",
    "        print(\"Please try again\")\n",
    "        \n",
    "def ex(a):\n",
    "    global exit\n",
    "    exit = False\n",
    "    print(\"Exiting\")\n",
    "    time.sleep(1)\n",
    "    into()\n",
    "    \n",
    "def sub(a):\n",
    "    global x,y,plan_bol\n",
    "    try:\n",
    "        float(x)\n",
    "        float(y)\n",
    "        print(\"Perfect, starting the plan\")\n",
    "        time.sleep(1)\n",
    "        clear_output(wait=True)\n",
    "        plan_bol = True\n",
    "        \n",
    "    except:\n",
    "        print(\"Please try again\")\n",
    "    else:\n",
    "        into()\n",
    "\n",
    "    \n",
    "        \n",
    "    \n",
    "def move_base_show():\n",
    "         \n",
    "       global x,y\n",
    "       x = \"\"\n",
    "       y= \"\"\n",
    "       count_target = []\n",
    "       #clear_output(wait=True)\n",
    "       display(HTML('<h1 style = \"position:relative; margin-left:300px;\">      PLANNING MOTION INTERFACE</h1>'))\n",
    "       print('\\n')\n",
    "       print('\\n')\n",
    "       display(HTML('<h3 style = \"position:relative; margin-left:0px;\"> Insert coordinates, enter and then submit</h3>'))\n",
    "       \n",
    "       a = widgets.Text(description='x') \n",
    "       b = widgets.Text(description='y') \n",
    "\n",
    "\n",
    "    \n",
    "       coo_box = HBox([widgets.VBox([a, b])])\n",
    "       display(coo_box)\n",
    "\n",
    "       a.on_submit(f)\n",
    "       b.on_submit(c)\n",
    "        \n",
    "       submit = Button(description='Submit', layout=Layout(width='100', margin= '0px 0px 0px 700px'), style=ButtonStyle(button_color='lightblue'))\n",
    "       display(submit)\n",
    "       exit = Button(description='Exit', layout=Layout(width='100', margin= '0px 0px 50px 700px'), style=ButtonStyle(button_color='red'))\n",
    "       display(exit)\n",
    "       submit.on_click(sub)\n",
    "       exit.on_click(ex)\n",
    "       \n",
    "move_base_show()"
   ]
  },
  {
   "cell_type": "code",
   "execution_count": 7,
   "metadata": {
    "ExecuteTime": {
     "end_time": "2022-05-04T19:23:07.969675Z",
     "start_time": "2022-05-04T19:23:03.737447Z"
    },
    "scrolled": true
   },
   "outputs": [
    {
     "ename": "KeyboardInterrupt",
     "evalue": "",
     "output_type": "error",
     "traceback": [
      "\u001b[0;31m---------------------------------------------------------------------------\u001b[0m",
      "\u001b[0;31mKeyboardInterrupt\u001b[0m                         Traceback (most recent call last)",
      "\u001b[0;32m/tmp/ipykernel_745/3824337150.py\u001b[0m in \u001b[0;36m<module>\u001b[0;34m\u001b[0m\n\u001b[1;32m    177\u001b[0m                                   \u001b[0;34m-\u001b[0m \u001b[0minsert\u001b[0m \u001b[0mplot\u001b[0m \u001b[0mwhen\u001b[0m \u001b[0muser\u001b[0m \u001b[0mdecide\u001b[0m \u001b[0mto\u001b[0m \u001b[0mno\u001b[0m \u001b[0mplan\u001b[0m \u001b[0magain\u001b[0m \u001b[0;34m(\u001b[0m\u001b[0mmaybe\u001b[0m \u001b[0;32mwith\u001b[0m \u001b[0ma\u001b[0m \u001b[0mfunction\u001b[0m \u001b[0;32mand\u001b[0m \u001b[0mthree\u001b[0m \u001b[0mbuttons\u001b[0m\u001b[0;34m)\u001b[0m\u001b[0;34m\u001b[0m\u001b[0;34m\u001b[0m\u001b[0m\n\u001b[1;32m    178\u001b[0m                         \"\"\"\n\u001b[0;32m--> 179\u001b[0;31m \u001b[0mmove_base\u001b[0m\u001b[0;34m(\u001b[0m\u001b[0;34m)\u001b[0m\u001b[0;34m\u001b[0m\u001b[0;34m\u001b[0m\u001b[0m\n\u001b[0m",
      "\u001b[0;32m/tmp/ipykernel_745/3824337150.py\u001b[0m in \u001b[0;36mmove_base\u001b[0;34m()\u001b[0m\n\u001b[1;32m      9\u001b[0m         \u001b[0mmove\u001b[0m\u001b[0;34m.\u001b[0m\u001b[0mgoal\u001b[0m\u001b[0;34m.\u001b[0m\u001b[0mtarget_pose\u001b[0m\u001b[0;34m.\u001b[0m\u001b[0mheader\u001b[0m\u001b[0;34m.\u001b[0m\u001b[0mframe_id\u001b[0m \u001b[0;34m=\u001b[0m \u001b[0;34m\"map\"\u001b[0m\u001b[0;34m\u001b[0m\u001b[0;34m\u001b[0m\u001b[0m\n\u001b[1;32m     10\u001b[0m         \u001b[0mmove\u001b[0m\u001b[0;34m.\u001b[0m\u001b[0mgoal\u001b[0m\u001b[0;34m.\u001b[0m\u001b[0mtarget_pose\u001b[0m\u001b[0;34m.\u001b[0m\u001b[0mpose\u001b[0m\u001b[0;34m.\u001b[0m\u001b[0morientation\u001b[0m\u001b[0;34m.\u001b[0m\u001b[0mw\u001b[0m \u001b[0;34m=\u001b[0m \u001b[0;36m1\u001b[0m\u001b[0;34m\u001b[0m\u001b[0;34m\u001b[0m\u001b[0m\n\u001b[0;32m---> 11\u001b[0;31m         \u001b[0mposition\u001b[0m \u001b[0;34m=\u001b[0m \u001b[0mrospy\u001b[0m\u001b[0;34m.\u001b[0m\u001b[0mwait_for_message\u001b[0m\u001b[0;34m(\u001b[0m\u001b[0;34m\"/odom\"\u001b[0m\u001b[0;34m,\u001b[0m\u001b[0mOdometry\u001b[0m\u001b[0;34m)\u001b[0m\u001b[0;34m\u001b[0m\u001b[0;34m\u001b[0m\u001b[0m\n\u001b[0m\u001b[1;32m     12\u001b[0m \u001b[0;34m\u001b[0m\u001b[0m\n\u001b[1;32m     13\u001b[0m \u001b[0;34m\u001b[0m\u001b[0m\n",
      "\u001b[0;32m/opt/ros/noetic/lib/python3/dist-packages/rospy/client.py\u001b[0m in \u001b[0;36mwait_for_message\u001b[0;34m(topic, topic_type, timeout)\u001b[0m\n\u001b[1;32m    421\u001b[0m         \u001b[0;32melse\u001b[0m\u001b[0;34m:\u001b[0m\u001b[0;34m\u001b[0m\u001b[0;34m\u001b[0m\u001b[0m\n\u001b[1;32m    422\u001b[0m             \u001b[0;32mwhile\u001b[0m \u001b[0;32mnot\u001b[0m \u001b[0mrospy\u001b[0m\u001b[0;34m.\u001b[0m\u001b[0mcore\u001b[0m\u001b[0;34m.\u001b[0m\u001b[0mis_shutdown\u001b[0m\u001b[0;34m(\u001b[0m\u001b[0;34m)\u001b[0m \u001b[0;32mand\u001b[0m \u001b[0mwfm\u001b[0m\u001b[0;34m.\u001b[0m\u001b[0mmsg\u001b[0m \u001b[0;32mis\u001b[0m \u001b[0;32mNone\u001b[0m\u001b[0;34m:\u001b[0m\u001b[0;34m\u001b[0m\u001b[0;34m\u001b[0m\u001b[0m\n\u001b[0;32m--> 423\u001b[0;31m                 \u001b[0mrospy\u001b[0m\u001b[0;34m.\u001b[0m\u001b[0mrostime\u001b[0m\u001b[0;34m.\u001b[0m\u001b[0mwallsleep\u001b[0m\u001b[0;34m(\u001b[0m\u001b[0;36m0.01\u001b[0m\u001b[0;34m)\u001b[0m\u001b[0;34m\u001b[0m\u001b[0;34m\u001b[0m\u001b[0m\n\u001b[0m\u001b[1;32m    424\u001b[0m     \u001b[0;32mfinally\u001b[0m\u001b[0;34m:\u001b[0m\u001b[0;34m\u001b[0m\u001b[0;34m\u001b[0m\u001b[0m\n\u001b[1;32m    425\u001b[0m         \u001b[0;32mif\u001b[0m \u001b[0ms\u001b[0m \u001b[0;32mis\u001b[0m \u001b[0;32mnot\u001b[0m \u001b[0;32mNone\u001b[0m\u001b[0;34m:\u001b[0m\u001b[0;34m\u001b[0m\u001b[0;34m\u001b[0m\u001b[0m\n",
      "\u001b[0;32m/opt/ros/noetic/lib/python3/dist-packages/rospy/rostime.py\u001b[0m in \u001b[0;36mwallsleep\u001b[0;34m(duration)\u001b[0m\n\u001b[1;32m    275\u001b[0m             \u001b[0;32mpass\u001b[0m\u001b[0;34m\u001b[0m\u001b[0;34m\u001b[0m\u001b[0m\n\u001b[1;32m    276\u001b[0m     \u001b[0;32melse\u001b[0m\u001b[0;34m:\u001b[0m\u001b[0;34m\u001b[0m\u001b[0;34m\u001b[0m\u001b[0m\n\u001b[0;32m--> 277\u001b[0;31m         \u001b[0mtime\u001b[0m\u001b[0;34m.\u001b[0m\u001b[0msleep\u001b[0m\u001b[0;34m(\u001b[0m\u001b[0mduration\u001b[0m\u001b[0;34m)\u001b[0m\u001b[0;34m\u001b[0m\u001b[0;34m\u001b[0m\u001b[0m\n\u001b[0m",
      "\u001b[0;31mKeyboardInterrupt\u001b[0m: "
     ]
    }
   ],
   "source": [
    "def todist(x,y,x_pos,y_pos):\n",
    "    return ((x-x_pos)**2-(y-y_pos)**2)**0.5\n",
    "\n",
    "def move_base():\n",
    "\n",
    "        pub_movebase = rospy.Publisher(\"/move_base/goal\", MoveBaseActionGoal, queue_size = 50)\n",
    "        rate = rospy.Rate(10)\n",
    "        move = MoveBaseActionGoal()\n",
    "        move.goal.target_pose.header.frame_id = \"map\"\n",
    "        move.goal.target_pose.pose.orientation.w = 1\n",
    "        position = rospy.wait_for_message(\"/odom\",Odometry)\n",
    "\n",
    "\n",
    "        #-------------------------------------\n",
    "        \n",
    "\n",
    "        count_target = []\n",
    "        \n",
    "        while(True):\n",
    "            \n",
    "                # headings\n",
    "                clear_output(wait = True)\n",
    "                display(HTML('<h3 style = \"position:relative; margin-left:0px;\"> Feedback</h3>'))\n",
    "                feedbackk = widgets.Output(layout={'border': '1px solid black'},style = \"position:relative; margin-left:2000px;\") \n",
    "                display(feedbackk)\n",
    "                display(HTML('<h3 style = \"position:relative; margin-left:0px;\"> Distance to goal</h3>'))\n",
    "                dtg = widgets.Output(layout={'border': '1px solid black'},style = \"position:relative; margin-left:2000px;\") \n",
    "                display(dtg)\n",
    "                \n",
    "                #coordinates\n",
    "                \n",
    "                display(HTML('<h3 style = \"position:relative; margin-left:0px;\">Coordinates:</h3>'))\n",
    "                \n",
    "\n",
    "                global x,y\n",
    "                \n",
    "                \n",
    "                \n",
    "                move.goal.target_pose.pose.position.x = x\n",
    "                move.goal.target_pose.pose.position.y = y\n",
    "                print(x,y)\n",
    "                \n",
    "                \n",
    "                pub_movebase.publish(move)\n",
    "                rate.sleep()\n",
    "                \n",
    "                goal_info = None\n",
    "                while(goal_info is None):\n",
    "                        goal_info = rospy.wait_for_message(\"move_base/status\",GoalStatusArray)\n",
    "                        rate.sleep()\n",
    "                status = int(goal_info.status_list[-1].status)  \n",
    "                            \n",
    "                while(True):\n",
    "        \n",
    "                        goal_info = rospy.wait_for_message(\"move_base/status\",GoalStatusArray)\n",
    "                        _id = goal_info.status_list[0].goal_id.id\n",
    "                        status = int(goal_info.status_list[-1].status)\n",
    "                    \n",
    "                    \n",
    "                        position = rospy.wait_for_message(\"/odom\",Odometry)\n",
    "                        x_pos = position.twist.twist.linear.x \n",
    "                        y_pos = position.twist.twist.linear.y \n",
    "                        \n",
    "                        #add Feedback distance, handle it , and print in text box\n",
    "                        \n",
    "                        dist = todist(x,y,x_pos,y_pos)\n",
    "                        \n",
    "                        #----------------------------------------------\n",
    "                        if(status == 1):\n",
    "                            \n",
    "                            #print in the text boxes\n",
    "                            with feedbackk:\n",
    "                                print('\\r                   ', end='', flush=True)\n",
    "                                print(f'\\rGoal Accepted', end='', flush=True)\n",
    "                            with dtg:\n",
    "                                print('\\r                   ', end='', flush=True)\n",
    "                                print(f'\\r{dist}', end='', flush=True)\n",
    "                            pass\n",
    "                        #----------------------------------------------\n",
    "                        elif(status == 2):\n",
    "                            \n",
    "                            #add 0 to count due target failed\n",
    "                            count_target.append(0)\n",
    "                            \n",
    "                            #print in the text boxes\n",
    "                            with feedbackk:\n",
    "                                print('\\r                   ', end='', flush=True)\n",
    "                                print(f'\\rGoal not reachable', end='', flush=True)\n",
    "                                \n",
    "                            continue\n",
    "                        \n",
    "                        #----------------------------------------------                       \n",
    "                                                \n",
    "                        elif(status == 3):\n",
    "                            \n",
    "                            #add 1 due target reached\n",
    "                            count_target.append(1)\n",
    "                            \n",
    "                            #print in the text boxes\n",
    "                            with feedbackk:\n",
    "                                print('\\r                   ', end='', flush=True)\n",
    "                                print(f'\\rGoal reached', end='', flush=True)\n",
    "                            \n",
    "                             \n",
    "                             \n",
    "                            print('\\n')\n",
    "                            \n",
    "                            # planning again \n",
    "                            \n",
    "                            button = state_show()\n",
    "       \n",
    "                            if(button == 'y'):\n",
    "                                clear_output(wait=True)\n",
    "                                move_base_show()\n",
    "                                break\n",
    "                    \n",
    "                            if(button == 'n'):\n",
    "                                publisher_cancel = rospy.Publisher(\"/move_base/cancel\", GoalID, queue_size = 1)\n",
    "                                cancel = GoalID()\n",
    "                                publisher_cancel.publish(cancel)\n",
    "                                clear_output(wait=True)\n",
    "                                return 1\n",
    "                            else:\n",
    "                                with feedbackk:\n",
    "                                    print('\\r                   ', end='', flush=True)\n",
    "                                    print(f'\\rCommand wrong', end='', flush=True)\n",
    "                            \n",
    "                             #----------------------------------------------\n",
    "\n",
    "                                \n",
    "                        \n",
    "                        elif(status == 4):\n",
    "                            \n",
    "                            #add 0 due target aborted\n",
    "                            \n",
    "                            count_target.append(0)\n",
    "                            \n",
    "                            #print in the text boxes\n",
    "                            with feedbackk:\n",
    "                                print('\\r                   ', end='', flush=True)\n",
    "                                print(f'\\rGoal Cancelled - No plan avaible', end='', flush=True)\n",
    "                            \n",
    "                            \n",
    "                            print('Exiting')\n",
    "                            time.sleep(1)\n",
    "                            \n",
    "                            # planning again\n",
    "                            move_base_show()\n",
    "                            \n",
    "                            \"\"\"button = state_show()\n",
    "       \n",
    "                            if(button == 'y'):\n",
    "                                clear_output(wait=True)\n",
    "                                move_base_show()\n",
    "                                break\n",
    "\n",
    "                            if(button == 'n'):\n",
    "                                publisher_cancel = rospy.Publisher(\"/move_base/cancel\", GoalID, queue_size = 1)\n",
    "                                cancel = GoalID()\n",
    "                                publisher_cancel.publish(cancel)\n",
    "                                clear_output(wait=True)\n",
    "                                return 1\n",
    "                            \n",
    "                            \n",
    "                            else:\n",
    "                                with feedbackk:\n",
    "                                    print('\\r                   ', end='', flush=True)\n",
    "                                    print(f'\\r{word}', end='', flush=True)\"\"\"\n",
    "                            #----------------------------------------------------\n",
    "                        \n",
    "                        rate.sleep()\n",
    "\n",
    "                        \n",
    "                        \"\"\" \n",
    "                        TODO:     -COUNT PLOT (already did)\n",
    "                                  - test planning again\n",
    "                                  - insert plot when user decide to no plan again (maybe with a function and three buttons)\n",
    "                        \"\"\"\n",
    "move_base()"
   ]
  },
  {
   "cell_type": "code",
   "execution_count": null,
   "metadata": {
    "ExecuteTime": {
     "end_time": "2022-04-29T10:16:18.147125Z",
     "start_time": "2022-04-29T10:16:18.138885Z"
    }
   },
   "outputs": [],
   "source": []
  },
  {
   "cell_type": "code",
   "execution_count": 8,
   "metadata": {
    "ExecuteTime": {
     "end_time": "2022-05-04T19:23:12.440735Z",
     "start_time": "2022-05-04T19:23:12.370003Z"
    },
    "scrolled": false
   },
   "outputs": [
    {
     "data": {
      "text/html": [
       "<h1 style = \"position:relative; margin-left:340px;\">Motion Planner Interface</h1>"
      ],
      "text/plain": [
       "<IPython.core.display.HTML object>"
      ]
     },
     "metadata": {},
     "output_type": "display_data"
    },
    {
     "name": "stdout",
     "output_type": "stream",
     "text": [
      "\n",
      "\n",
      "\n",
      "\n"
     ]
    },
    {
     "data": {
      "application/vnd.jupyter.widget-view+json": {
       "model_id": "ca8509e56afb42c6ace6820ef7282242",
       "version_major": 2,
       "version_minor": 0
      },
      "text/plain": [
       "GridBox(children=(Button(description='^', layout=Layout(grid_area='forward', width='auto'), style=ButtonStyle(…"
      ]
     },
     "metadata": {},
     "output_type": "display_data"
    }
   ],
   "source": [
    "def fforward(forward):\n",
    "    \n",
    "    [my_vel.linear.x, my_vel.angular.z] =[1 , 0] \n",
    "    vel_pub.publish(my_vel)\n",
    "\n",
    "def fleft(left):\n",
    "    [my_vel.linear.x, my_vel.angular.z] =[0 , 2]\n",
    "    vel_pub.publish(my_vel)\n",
    "    \n",
    "def fright(right):\n",
    "    [my_vel.linear.x, my_vel.angular.z] =[0, -2]\n",
    "    vel_pub.publish(my_vel)\n",
    "    \n",
    "def fbehind(behind):\n",
    "    [my_vel.linear.x, my_vel.angular.z] =[-1 , 0]\n",
    "    vel_pub.publish(my_vel)\n",
    "\n",
    "def fquit(quit):\n",
    "    global exit\n",
    "    exit = not exit\n",
    "    [my_vel.linear.x, my_vel.angular.z] =[0 , 0]\n",
    "    vel_pub.publish(my_vel)\n",
    "    into()\n",
    "\n",
    "    \n",
    "    \n",
    "\n",
    "def manual_show():\n",
    "        \n",
    "        global my_vel,vel_pub,exit, manual_bol\n",
    "        vel_pub = rospy.Publisher('/cmd_vel', Twist, queue_size = 50)\n",
    "        my_vel = Twist()\n",
    "        \n",
    "        display(HTML('<h1 style = \"position:relative; margin-left:340px;\">Motion Planner Interface</h1>'))\n",
    "        print('\\n')\n",
    "        print('\\n')\n",
    "\n",
    "        \"\"\" \n",
    "        v = ros3d.Viewer()\n",
    "        rc = ros3d.ROSConnection(url=\"ws://localhost:9090\") \n",
    "        tf_client = ros3d.TFClient(ros=rc, fixed_frame='map')\n",
    "        laser_view = ros3d.LaserScan(topic=\"/scan\", ros=rc, tf_client=tf_client) \n",
    "        g = ros3d.GridModel()\n",
    "        v.objects = [g, laser_view]\n",
    "        display(v)\"\"\"\n",
    "\n",
    "        forward = Button(description='^',layout=Layout(width='auto', grid_area='forward'), style=ButtonStyle(button_color='lightblue'))\n",
    "        left = Button(description='<', layout=Layout(width='auto', grid_area='left'), style=ButtonStyle(button_color='lightblue'))\n",
    "        right = Button(description='>', layout=Layout(width='auto', grid_area='right'), style=ButtonStyle(button_color='lightblue'))\n",
    "        behind = Button(description='v', layout=Layout(width='auto', grid_area='behind'), style=ButtonStyle(button_color='lightblue'))\n",
    "        quit = Button(description='quit', layout=Layout(width='auto', grid_area='quit'), style=ButtonStyle(button_color='red'))\n",
    "\n",
    "        box = GridBox(children=[forward,left,right,behind,quit], layout=Layout(width='auto',grid_template_rows='auto auto auto', grid_template_columns='auto auto auto', grid_template_areas='''\n",
    "        \" . forward . . .\" \n",
    "        \"left . right . .\"\n",
    "        \" . behind . . quit \"\n",
    "        ''')\n",
    "        )   \n",
    "        display(box)\n",
    "        forward.on_click(fforward)\n",
    "        left.on_click(fleft)\n",
    "        right.on_click(fright)\n",
    "        behind.on_click(fbehind)\n",
    "        quit.on_click(fquit)\n",
    "\n",
    "\n",
    "\n",
    "\n",
    "\n",
    "\n",
    "manual_show()\n",
    "\n"
   ]
  },
  {
   "cell_type": "code",
   "execution_count": 9,
   "metadata": {
    "ExecuteTime": {
     "end_time": "2022-05-04T19:23:14.435760Z",
     "start_time": "2022-05-04T19:23:14.430480Z"
    }
   },
   "outputs": [
    {
     "name": "stdout",
     "output_type": "stream",
     "text": [
      "None\n"
     ]
    }
   ],
   "source": [
    "print(exit)"
   ]
  },
  {
   "cell_type": "code",
   "execution_count": 10,
   "metadata": {
    "ExecuteTime": {
     "end_time": "2022-05-04T19:23:15.208244Z",
     "start_time": "2022-05-04T19:23:15.154607Z"
    }
   },
   "outputs": [
    {
     "data": {
      "text/html": [
       "<h1 style = \"position:relative; margin-left:340px;\">Motion Planner Interface</h1>"
      ],
      "text/plain": [
       "<IPython.core.display.HTML object>"
      ]
     },
     "metadata": {},
     "output_type": "display_data"
    },
    {
     "name": "stdout",
     "output_type": "stream",
     "text": [
      "\n",
      "\n",
      "\n",
      "\n"
     ]
    },
    {
     "data": {
      "application/vnd.jupyter.widget-view+json": {
       "model_id": "7c96aff63d85488fb12b1f8aa9fa5ab7",
       "version_major": 2,
       "version_minor": 0
      },
      "text/plain": [
       "GridBox(children=(Button(description='^', layout=Layout(grid_area='forward', width='auto'), style=ButtonStyle(…"
      ]
     },
     "metadata": {},
     "output_type": "display_data"
    }
   ],
   "source": [
    "#Come uscire fuori?\n",
    "\n",
    "def manual():\n",
    "    \n",
    "\n",
    "    manual_bol = False\n",
    "    exit = True\n",
    "    manual_show()\n",
    "    \n",
    "\n",
    "\n",
    "    \n",
    "\n",
    "\n",
    "        \n",
    "\n",
    "            \n",
    "\n",
    "\n",
    "manual()"
   ]
  },
  {
   "cell_type": "code",
   "execution_count": 11,
   "metadata": {
    "ExecuteTime": {
     "end_time": "2022-05-04T19:23:16.725570Z",
     "start_time": "2022-05-04T19:23:16.715592Z"
    }
   },
   "outputs": [],
   "source": [
    "def clbk_laser(msg):\n",
    "        min_fright = min(min(msg.ranges[144:287]), 5)\n",
    "        min_front =  min(min(msg.ranges[288:431]), 5)\n",
    "        min_fleft =  min(min(msg.ranges[432:575]), 5)\n",
    "        \n",
    "        return min_fright, min_front, min_fleft"
   ]
  },
  {
   "cell_type": "code",
   "execution_count": 12,
   "metadata": {
    "ExecuteTime": {
     "end_time": "2022-05-04T19:23:17.695399Z",
     "start_time": "2022-05-04T19:23:17.686294Z"
    }
   },
   "outputs": [],
   "source": [
    "def take_action(min_fright,min_front, min_fleft):\n",
    "    msg = Twist()\n",
    "    msg.linear.y = 0\n",
    "    msg.linear.z = 0\n",
    "    msg.angular.x = 0\n",
    "    msg.angular.y= 0\n",
    "    my_vel = rospy.Publisher('/cmd_vel', Twist, queue_size = 50)\n",
    "    state_description = ''\n",
    "    if min_front > 1 and min_fleft > 1 and min_fright > 1:\n",
    "        state_description = 'case 1 - nothing'\n",
    "        linear_x = 0.6\n",
    "        angular_z = 0\n",
    "    elif min_front < 1 and min_fleft > 1 and min_fright > 1:\n",
    "        state_description = 'case 2 - front'\n",
    "        linear_x = -2\n",
    "        angular_z = 0\n",
    "    elif min_front > 1 and min_fleft > 1 and min_fright < 1:\n",
    "        state_description = 'case 3 - fright'\n",
    "        linear_x = 0\n",
    "        angular_z = 1\n",
    "    elif min_front > 1 and min_fleft < 1 and min_fright > 1:\n",
    "        state_description = 'case 4 - fleft'\n",
    "        linear_x = 0\n",
    "        angular_z = -1\n",
    "    elif min_front < 1 and min_fleft > 1 and min_fright < 1:\n",
    "        state_description = 'case 5 - front and fright'\n",
    "        linear_x = 0\n",
    "        angular_z = 1\n",
    "    elif min_front < 1 and min_fleft < 1 and min_fright > 1:\n",
    "        state_description = 'case 6 - front and fleft'\n",
    "        linear_x = 0\n",
    "        angular_z = -1\n",
    "    elif min_front < 1 and min_fleft < 1 and min_fright < 1:\n",
    "        state_description = 'case 7 - front and fleft and fright'\n",
    "        linear_x = 0\n",
    "        angular_z = 2\n",
    "    elif min_front > 1 and min_fleft < 1 and min_fright < 1:\n",
    "        state_description = 'case 8 - fleft and fright'\n",
    "        linear_x = 0.3\n",
    "        angular_z = 0\n",
    "\n",
    "    #rospy.loginfo(state_description)\n",
    "    #print in the text box of motion planning\n",
    "    msg.linear.x = linear_x\n",
    "    msg.angular.z = angular_z\n",
    "    my_vel.publish(msg)\n",
    "        "
   ]
  },
  {
   "cell_type": "code",
   "execution_count": 27,
   "metadata": {
    "ExecuteTime": {
     "end_time": "2022-05-04T20:59:35.697107Z",
     "start_time": "2022-05-04T20:59:35.515951Z"
    }
   },
   "outputs": [
    {
     "data": {
      "text/html": [
       "<h1 style = \"position:relative; margin-left:370px;\">Assisted Motion Planner</h1>"
      ],
      "text/plain": [
       "<IPython.core.display.HTML object>"
      ]
     },
     "metadata": {},
     "output_type": "display_data"
    },
    {
     "name": "stdout",
     "output_type": "stream",
     "text": [
      "\n",
      "\n",
      "\n",
      "\n"
     ]
    },
    {
     "data": {
      "application/vnd.jupyter.widget-view+json": {
       "model_id": "d02b90ac8da14295a963586d510abb07",
       "version_major": 2,
       "version_minor": 0
      },
      "text/plain": [
       "Viewer(objects=[GridModel(), LaserScan(ros=ROSConnection(url='ws://localhost:9090'), tf_client=TFClient(fixed_…"
      ]
     },
     "metadata": {},
     "output_type": "display_data"
    },
    {
     "data": {
      "text/html": [
       "<h3 style = \"position:relative; margin-left:0px;\">Closest obstacle distance:</h3>"
      ],
      "text/plain": [
       "<IPython.core.display.HTML object>"
      ]
     },
     "metadata": {},
     "output_type": "display_data"
    },
    {
     "name": "stdout",
     "output_type": "stream",
     "text": [
      "\n",
      "\n"
     ]
    },
    {
     "data": {
      "application/vnd.jupyter.widget-view+json": {
       "model_id": "f158eb85626546c98beb4f9ccab5fa7b",
       "version_major": 2,
       "version_minor": 0
      },
      "text/plain": [
       "Output(layout=Layout(border='1px solid black'))"
      ]
     },
     "metadata": {},
     "output_type": "display_data"
    },
    {
     "data": {
      "text/html": [
       "<h3 style = \"position:relative; margin-left:0px;\">State:</h3>"
      ],
      "text/plain": [
       "<IPython.core.display.HTML object>"
      ]
     },
     "metadata": {},
     "output_type": "display_data"
    },
    {
     "name": "stdout",
     "output_type": "stream",
     "text": [
      "\n",
      "\n"
     ]
    },
    {
     "data": {
      "application/vnd.jupyter.widget-view+json": {
       "model_id": "670129f4347041458fa07ac7be9a6785",
       "version_major": 2,
       "version_minor": 0
      },
      "text/plain": [
       "Output(layout=Layout(border='1px solid black'))"
      ]
     },
     "metadata": {},
     "output_type": "display_data"
    },
    {
     "name": "stdout",
     "output_type": "stream",
     "text": [
      "\n",
      "\n"
     ]
    },
    {
     "data": {
      "application/vnd.jupyter.widget-view+json": {
       "model_id": "db1ae283b3504e0ead58455b46dca454",
       "version_major": 2,
       "version_minor": 0
      },
      "text/plain": [
       "GridBox(children=(Button(description='^', layout=Layout(grid_area='forward', width='auto'), style=ButtonStyle(…"
      ]
     },
     "metadata": {},
     "output_type": "display_data"
    }
   ],
   "source": [
    "def assisted_manual_show():\n",
    "    \n",
    "        \n",
    "        #attivare i bottoni solo se lontano dagli ostacoli\n",
    "        #in every button if near obstacles take_action() other wise directly publish\n",
    "        display(HTML('<h1 style = \"position:relative; margin-left:370px;\">Assisted Motion Planner</h1>'))\n",
    "        print('\\n')\n",
    "        print('\\n')\n",
    "        from jupyros import ros3d\n",
    "        v = ros3d.Viewer()\n",
    "        rc = ros3d.ROSConnection(url=\"ws://localhost:9090\") \n",
    "        tf_client = ros3d.TFClient(ros=rc, fixed_frame='map')\n",
    "        laser_view = ros3d.LaserScan(topic=\"/scan\", ros=rc, tf_client=tf_client) \n",
    "        g = ros3d.GridModel()\n",
    "        v.objects = [g, laser_view]\n",
    "        display(v)\n",
    "        \n",
    "        \n",
    "        display(HTML('<h3 style = \"position:relative; margin-left:0px;\">Closest obstacle distance:</h3>'))\n",
    "        print('\\n')\n",
    "        assisted_obstacle = widgets.Output(layout={'border': '1px solid black'},style = \"position:relative; margin-left:2000px;\") \n",
    "        display(assisted_obstacle)\n",
    "        display(HTML('<h3 style = \"position:relative; margin-left:0px;\">State:</h3>'))\n",
    "        print('\\n')\n",
    "        state = widgets.Output(layout={'border': '1px solid black'},style = \"position:relative; margin-left:2000px;\") \n",
    "        display(state)\n",
    "        print('\\n')\n",
    "\n",
    "        forward = Button(description='^',layout=Layout(width='auto', grid_area='forward'), style=ButtonStyle(button_color='lightblue'))\n",
    "        left = Button(description='<', layout=Layout(width='auto', grid_area='left'), style=ButtonStyle(button_color='moccasin'))\n",
    "        right = Button(description='>', layout=Layout(width='auto', grid_area='right'), style=ButtonStyle(button_color='salmon'))\n",
    "        behind = Button(description='v', layout=Layout(width='auto', grid_area='behind'), style=ButtonStyle(button_color='salmon'))\n",
    "        quit = Button(description='quit', layout=Layout(width='auto', grid_area='quit'), style=ButtonStyle(button_color='red'))\n",
    "        field = GridBox(children=[forward,left,right,behind,quit], layout=Layout(width='auto',grid_template_rows='auto auto auto', grid_template_columns='auto auto auto', grid_template_areas='''\n",
    "        \" . forward .\" \n",
    "        \"left . right\"\n",
    "        \" . behind . \"\n",
    "        ''')\n",
    "        )\n",
    "        display(field)\n",
    "        return state, assisted_obstacle\n",
    "\n",
    "state, assisted_obstacle = assisted_manual_show()\n",
    "    \n"
   ]
  },
  {
   "cell_type": "code",
   "execution_count": 30,
   "metadata": {
    "ExecuteTime": {
     "end_time": "2022-05-04T21:23:48.513232Z",
     "start_time": "2022-05-04T21:23:48.500235Z"
    }
   },
   "outputs": [],
   "source": [
    "#Advertise the assisted motion interface that an obstacle is near\n",
    "def assisted_print(word):\n",
    "    with assisted_obstacle:\n",
    "        print(f'\\r{word}', end='', flush=True)\n",
    "\n",
    "        \n",
    "\n",
    "word = \"state: moving\"\n",
    "assisted_print(word)\n",
    "        "
   ]
  },
  {
   "cell_type": "code",
   "execution_count": 15,
   "metadata": {
    "ExecuteTime": {
     "end_time": "2022-05-04T19:23:23.774308Z",
     "start_time": "2022-05-04T19:23:23.759646Z"
    }
   },
   "outputs": [],
   "source": [
    "def assisted_manual():\n",
    "        os.system(\"clear\")\n",
    "        assisted_manual_show()\n",
    "        vel_pub = rospy.Publisher(\"cmd_vel\", Twist, queue_size= 50)\n",
    "        \n",
    "        my_vel = Twist()\n",
    "        my_vel.linear.y = 0\n",
    "        my_vel.linear.z = 0\n",
    "        my_vel.angular.x = 0\n",
    "        my_vel.angular.y= 0\n",
    "        \n",
    "        \n",
    "        while True:\n",
    "        \n",
    "                laser = rospy.wait_for_message(\"/scan\", LaserScan)     \n",
    "                vel_pub = rospy.Publisher(\"cmd_vel\", Twist, queue_size= 50)\n",
    "                \n",
    "                [min_fright, min_front, min_fleft] = clbk_laser(laser)\n",
    "                \n",
    "                \n",
    "                if min_front < 1 or min_fleft < 1 or min_fright < 1:\n",
    "                        take_action(min_fright, min_front, min_fleft)\n",
    "                        \n",
    "                else:    \n",
    "                        arrow = input()\n",
    "                        if (arrow == 'w'):\n",
    "                                [my_vel.linear.x, my_vel.angular.z] =[1 , 0] \n",
    "                        elif (arrow == 'a'):\n",
    "                                [my_vel.linear.x, my_vel.angular.z] =[0 , 2]\n",
    "                        elif (arrow == 'd'):\n",
    "                                [my_vel.linear.x, my_vel.angular.z] =[0, -2]\n",
    "                        elif (arrow == 's'):\n",
    "                                [my_vel.linear.x, my_vel.angular.z] =[-1 , 0]\n",
    "                        elif (arrow == 'q'):\n",
    "                                [my_vel.linear.x, my_vel.angular.z] =[0 , 0]\n",
    "                                vel_pub.publish(my_vel)\n",
    "                                break\n",
    "                        else:\n",
    "                                print(\"Wrong button\")\n",
    "                                \n",
    "                        vel_pub.publish(my_vel)\n",
    "                        \n",
    "        return 1"
   ]
  },
  {
   "cell_type": "code",
   "execution_count": 16,
   "metadata": {
    "ExecuteTime": {
     "end_time": "2022-05-04T19:23:24.798277Z",
     "start_time": "2022-05-04T19:23:24.751680Z"
    }
   },
   "outputs": [
    {
     "name": "stdout",
     "output_type": "stream",
     "text": [
      "\u001b[H\u001b[2J"
     ]
    },
    {
     "data": {
      "text/html": [
       "<h1 style = \"position:relative; margin-left:460px;\">      MENU</h1>"
      ],
      "text/plain": [
       "<IPython.core.display.HTML object>"
      ]
     },
     "metadata": {},
     "output_type": "display_data"
    },
    {
     "name": "stdout",
     "output_type": "stream",
     "text": [
      "\n",
      "\n",
      "\n",
      "\n"
     ]
    },
    {
     "data": {
      "application/vnd.jupyter.widget-view+json": {
       "model_id": "1b94a235ae614e819b806222e2a7ba75",
       "version_major": 2,
       "version_minor": 0
      },
      "text/plain": [
       "VBox(children=(Button(description='Planning', layout=Layout(grid_area='forward', height='100px', width='1000px…"
      ]
     },
     "metadata": {},
     "output_type": "display_data"
    }
   ],
   "source": [
    "def man(b):\n",
    "\n",
    "    global manual_bol,exit\n",
    "    manual_bol = True\n",
    "    exit = True\n",
    "    into()\n",
    "    \n",
    "def pla(b):\n",
    "    global plan_bol\n",
    "    plan_bol_bol = True\n",
    "    into()\n",
    "    \n",
    "    \n",
    "def amm(b):\n",
    "    assisted_manual()\n",
    "    into()\n",
    "    \n",
    "def intro():\n",
    "        os.system(\"clear\")\n",
    "        display(HTML('<h1 style = \"position:relative; margin-left:460px;\">      MENU</h1>'))\n",
    "        print('\\n')\n",
    "        print('\\n')\n",
    "        plan = Button(description='Planning',layout=Layout(width=\"1000px\",height= \"100px\", grid_area='forward'), style=ButtonStyle(button_color='lightblue'))\n",
    "        manual_motion = Button(description='Manual Motion',layout=Layout(width=\"1000px\",height= \"100px\", grid_area='forward'), style=ButtonStyle(button_color='lightblue'))\n",
    "        assisted_manual_motion = Button(description=' Assisted Manual Motion',layout=Layout(width=\"1000px\",height= \"100px\", grid_area='forward'), style=ButtonStyle(button_color='lightblue'))\n",
    "\n",
    "        boxI = VBox([plan,manual_motion, assisted_manual_motion])\n",
    "        manual_motion.on_click(man)\n",
    "        plan.on_click(pla)\n",
    "        assisted_manual_motion.on_click(amm)\n",
    "        display (boxI)\n",
    "\n",
    "\n",
    "intro()"
   ]
  },
  {
   "cell_type": "code",
   "execution_count": 76,
   "metadata": {
    "ExecuteTime": {
     "end_time": "2022-05-05T08:21:05.143979Z",
     "start_time": "2022-05-05T08:21:05.098992Z"
    }
   },
   "outputs": [
    {
     "name": "stdout",
     "output_type": "stream",
     "text": [
      "\u001b[H\u001b[2J"
     ]
    },
    {
     "data": {
      "text/html": [
       "<h1 style = \"position:relative; margin-left:460px;\">      MENU</h1>"
      ],
      "text/plain": [
       "<IPython.core.display.HTML object>"
      ]
     },
     "metadata": {},
     "output_type": "display_data"
    },
    {
     "name": "stdout",
     "output_type": "stream",
     "text": [
      "\n",
      "\n",
      "\n",
      "\n"
     ]
    },
    {
     "data": {
      "application/vnd.jupyter.widget-view+json": {
       "model_id": "287e7c26ba7f4957913d51690666394d",
       "version_major": 2,
       "version_minor": 0
      },
      "text/plain": [
       "VBox(children=(Button(description='Planning', layout=Layout(grid_area='forward', height='100px', width='1000px…"
      ]
     },
     "metadata": {},
     "output_type": "display_data"
    },
    {
     "name": "stdout",
     "output_type": "stream",
     "text": [
      "\u001b[H\u001b[2J"
     ]
    },
    {
     "data": {
      "text/html": [
       "<h1 style = \"position:relative; margin-left:370px;\">Assisted Motion Planner</h1>"
      ],
      "text/plain": [
       "<IPython.core.display.HTML object>"
      ]
     },
     "metadata": {},
     "output_type": "display_data"
    },
    {
     "name": "stdout",
     "output_type": "stream",
     "text": [
      "\n",
      "\n",
      "\n",
      "\n"
     ]
    },
    {
     "data": {
      "application/vnd.jupyter.widget-view+json": {
       "model_id": "6e0743df347f415db0128d0e632cc9e9",
       "version_major": 2,
       "version_minor": 0
      },
      "text/plain": [
       "GridBox(children=(Button(description='^', layout=Layout(grid_area='forw', width='auto'), style=ButtonStyle(but…"
      ]
     },
     "metadata": {},
     "output_type": "display_data"
    },
    {
     "name": "stdout",
     "output_type": "stream",
     "text": [
      "\n",
      "\n"
     ]
    },
    {
     "data": {
      "text/html": [
       "<h3 style = \"position:relative; margin-left:0px;\">Closest obstacle distance:</h3>"
      ],
      "text/plain": [
       "<IPython.core.display.HTML object>"
      ]
     },
     "metadata": {},
     "output_type": "display_data"
    },
    {
     "name": "stdout",
     "output_type": "stream",
     "text": [
      "\n",
      "\n"
     ]
    },
    {
     "data": {
      "application/vnd.jupyter.widget-view+json": {
       "model_id": "085682ba77b647daa1fc11cd7aab5c68",
       "version_major": 2,
       "version_minor": 0
      },
      "text/plain": [
       "Output(layout=Layout(border='1px solid black'))"
      ]
     },
     "metadata": {},
     "output_type": "display_data"
    },
    {
     "data": {
      "text/html": [
       "<h3 style = \"position:relative; margin-left:0px;\">State:</h3>"
      ],
      "text/plain": [
       "<IPython.core.display.HTML object>"
      ]
     },
     "metadata": {},
     "output_type": "display_data"
    },
    {
     "name": "stdout",
     "output_type": "stream",
     "text": [
      "\n",
      "\n"
     ]
    },
    {
     "data": {
      "application/vnd.jupyter.widget-view+json": {
       "model_id": "e3bf0f52f5b94db5867b2e94a025fd6e",
       "version_major": 2,
       "version_minor": 0
      },
      "text/plain": [
       "Output(layout=Layout(border='1px solid black'))"
      ]
     },
     "metadata": {},
     "output_type": "display_data"
    },
    {
     "name": "stdout",
     "output_type": "stream",
     "text": [
      "\n",
      "\n"
     ]
    },
    {
     "data": {
      "application/vnd.jupyter.widget-view+json": {
       "model_id": "3ea8a5f97a27498db57a0cf870e95b16",
       "version_major": 2,
       "version_minor": 0
      },
      "text/plain": [
       "Button(description='Plot Target', layout=Layout(margin='0px 0px 0px 700px', width='100'), style=ButtonStyle(bu…"
      ]
     },
     "metadata": {},
     "output_type": "display_data"
    },
    {
     "data": {
      "application/vnd.jupyter.widget-view+json": {
       "model_id": "3afc51653c2040ebba914b9b8a92f6c5",
       "version_major": 2,
       "version_minor": 0
      },
      "text/plain": [
       "Button(description='Exit', layout=Layout(margin='0px 0px 0px 700px', width='100'), style=ButtonStyle(button_co…"
      ]
     },
     "metadata": {},
     "output_type": "display_data"
    },
    {
     "ename": "ROSInterruptException",
     "evalue": "rospy shutdown",
     "output_type": "error",
     "traceback": [
      "\u001b[0;31m---------------------------------------------------------------------------\u001b[0m",
      "\u001b[0;31mROSInterruptException\u001b[0m                     Traceback (most recent call last)",
      "\u001b[0;32m/tmp/ipykernel_745/191998171.py\u001b[0m in \u001b[0;36mamm\u001b[0;34m(b)\u001b[0m\n\u001b[1;32m     13\u001b[0m \u001b[0;34m\u001b[0m\u001b[0m\n\u001b[1;32m     14\u001b[0m \u001b[0;32mdef\u001b[0m \u001b[0mamm\u001b[0m\u001b[0;34m(\u001b[0m\u001b[0mb\u001b[0m\u001b[0;34m)\u001b[0m\u001b[0;34m:\u001b[0m\u001b[0;34m\u001b[0m\u001b[0;34m\u001b[0m\u001b[0m\n\u001b[0;32m---> 15\u001b[0;31m     \u001b[0massisted_manual\u001b[0m\u001b[0;34m(\u001b[0m\u001b[0;34m)\u001b[0m\u001b[0;34m\u001b[0m\u001b[0;34m\u001b[0m\u001b[0m\n\u001b[0m\u001b[1;32m     16\u001b[0m     \u001b[0minto\u001b[0m\u001b[0;34m(\u001b[0m\u001b[0;34m)\u001b[0m\u001b[0;34m\u001b[0m\u001b[0;34m\u001b[0m\u001b[0m\n\u001b[1;32m     17\u001b[0m \u001b[0;34m\u001b[0m\u001b[0m\n",
      "\u001b[0;32m/tmp/ipykernel_745/2505316591.py\u001b[0m in \u001b[0;36massisted_manual\u001b[0;34m()\u001b[0m\n\u001b[1;32m     13\u001b[0m         \u001b[0;32mwhile\u001b[0m \u001b[0;32mTrue\u001b[0m\u001b[0;34m:\u001b[0m\u001b[0;34m\u001b[0m\u001b[0;34m\u001b[0m\u001b[0m\n\u001b[1;32m     14\u001b[0m \u001b[0;34m\u001b[0m\u001b[0m\n\u001b[0;32m---> 15\u001b[0;31m                 \u001b[0mlaser\u001b[0m \u001b[0;34m=\u001b[0m \u001b[0mrospy\u001b[0m\u001b[0;34m.\u001b[0m\u001b[0mwait_for_message\u001b[0m\u001b[0;34m(\u001b[0m\u001b[0;34m\"/scan\"\u001b[0m\u001b[0;34m,\u001b[0m \u001b[0mLaserScan\u001b[0m\u001b[0;34m)\u001b[0m\u001b[0;34m\u001b[0m\u001b[0;34m\u001b[0m\u001b[0m\n\u001b[0m\u001b[1;32m     16\u001b[0m                 \u001b[0mvel_pub\u001b[0m \u001b[0;34m=\u001b[0m \u001b[0mrospy\u001b[0m\u001b[0;34m.\u001b[0m\u001b[0mPublisher\u001b[0m\u001b[0;34m(\u001b[0m\u001b[0;34m\"cmd_vel\"\u001b[0m\u001b[0;34m,\u001b[0m \u001b[0mTwist\u001b[0m\u001b[0;34m,\u001b[0m \u001b[0mqueue_size\u001b[0m\u001b[0;34m=\u001b[0m \u001b[0;36m50\u001b[0m\u001b[0;34m)\u001b[0m\u001b[0;34m\u001b[0m\u001b[0;34m\u001b[0m\u001b[0m\n\u001b[1;32m     17\u001b[0m \u001b[0;34m\u001b[0m\u001b[0m\n",
      "\u001b[0;32m/opt/ros/noetic/lib/python3/dist-packages/rospy/client.py\u001b[0m in \u001b[0;36mwait_for_message\u001b[0;34m(topic, topic_type, timeout)\u001b[0m\n\u001b[1;32m    426\u001b[0m             \u001b[0ms\u001b[0m\u001b[0;34m.\u001b[0m\u001b[0munregister\u001b[0m\u001b[0;34m(\u001b[0m\u001b[0;34m)\u001b[0m\u001b[0;34m\u001b[0m\u001b[0;34m\u001b[0m\u001b[0m\n\u001b[1;32m    427\u001b[0m     \u001b[0;32mif\u001b[0m \u001b[0mrospy\u001b[0m\u001b[0;34m.\u001b[0m\u001b[0mcore\u001b[0m\u001b[0;34m.\u001b[0m\u001b[0mis_shutdown\u001b[0m\u001b[0;34m(\u001b[0m\u001b[0;34m)\u001b[0m\u001b[0;34m:\u001b[0m\u001b[0;34m\u001b[0m\u001b[0;34m\u001b[0m\u001b[0m\n\u001b[0;32m--> 428\u001b[0;31m         \u001b[0;32mraise\u001b[0m \u001b[0mrospy\u001b[0m\u001b[0;34m.\u001b[0m\u001b[0mexceptions\u001b[0m\u001b[0;34m.\u001b[0m\u001b[0mROSInterruptException\u001b[0m\u001b[0;34m(\u001b[0m\u001b[0;34m\"rospy shutdown\"\u001b[0m\u001b[0;34m)\u001b[0m\u001b[0;34m\u001b[0m\u001b[0;34m\u001b[0m\u001b[0m\n\u001b[0m\u001b[1;32m    429\u001b[0m     \u001b[0;32mreturn\u001b[0m \u001b[0mwfm\u001b[0m\u001b[0;34m.\u001b[0m\u001b[0mmsg\u001b[0m\u001b[0;34m\u001b[0m\u001b[0;34m\u001b[0m\u001b[0m\n\u001b[1;32m    430\u001b[0m \u001b[0;34m\u001b[0m\u001b[0m\n",
      "\u001b[0;31mROSInterruptException\u001b[0m: rospy shutdown"
     ]
    }
   ],
   "source": [
    "\n",
    "def into():\n",
    "        #clear_output(wait=True)\n",
    "        global manual_bol, exit, plan_bol\n",
    "        print(exit)\n",
    "\n",
    "             \n",
    "        if(manual_bol):\n",
    "            manual_bol = False\n",
    "            print(manual_bol)\n",
    "            clear_output(wait=True)\n",
    "            manual_show()\n",
    "            #into()\n",
    "        elif(plan_bol):\n",
    "            plan_bol = False\n",
    "            move_base_show()\n",
    "            \n",
    "        elif(not exit):\n",
    "            exit = True\n",
    "            main()\n",
    "\n",
    "    \n",
    "def main():\n",
    "        global exit, plan_bol,manual_bol\n",
    "        manual_bol = None\n",
    "        plan_bol = None\n",
    "        exit = None\n",
    "        \n",
    "        clear_output(wait=True)\n",
    "        rospy.init_node('controller')\n",
    "        intro()\n",
    "        \n",
    "        \n",
    "        #while (not rospy.is_shutdown() ):\n",
    "                \n",
    "                #intro()\n",
    "                #command = int(input(\"Insert choice\"))\n",
    "\n",
    "        #into()\n",
    "                \n",
    "\n",
    "        \"\"\"if(command == 1):\n",
    "                                clear_output(wait=True)\n",
    "                                move_base()\n",
    "                                break\n",
    "                        \n",
    "                        if(command == 2):\n",
    "                                    global giuda \n",
    "                                    giuda = True\n",
    "                                    global exit\n",
    "                                    exit = True\n",
    "                                    while(exit):\n",
    "\n",
    "                                        if(giuda):   \n",
    "                                            clear_output(wait=True)\n",
    "                                            manual()\n",
    "                                        time.sleep(0.1)\n",
    "                                            \n",
    "                                    print(\"Uscito\")\n",
    "                                 \n",
    "                           \n",
    "                        \n",
    "                        if(command == 3):\n",
    "                                clear_output(wait=True)\n",
    "                                assisted_manual()\n",
    "                                break\n",
    "                        \n",
    "                        if(command == 4):\n",
    "                                clear_output(wait=True)\n",
    "                                return 1\n",
    "                   \n",
    "                        \n",
    "                        else:\n",
    "                                clear_output(wait=True)\n",
    "                                print(\"Command incorrect\")\n",
    "                                break\n",
    "                        \n",
    "                        time.sleep(10)\"\"\"\n",
    "main()"
   ]
  },
  {
   "cell_type": "code",
   "execution_count": 18,
   "metadata": {
    "ExecuteTime": {
     "end_time": "2022-05-04T19:23:27.077756Z",
     "start_time": "2022-05-04T19:23:27.071509Z"
    }
   },
   "outputs": [
    {
     "name": "stdout",
     "output_type": "stream",
     "text": [
      "None\n"
     ]
    }
   ],
   "source": [
    "print(exit)"
   ]
  },
  {
   "cell_type": "code",
   "execution_count": null,
   "metadata": {},
   "outputs": [],
   "source": []
  },
  {
   "cell_type": "code",
   "execution_count": 71,
   "metadata": {
    "ExecuteTime": {
     "end_time": "2022-05-05T08:12:09.270265Z",
     "start_time": "2022-05-05T08:12:09.212496Z"
    }
   },
   "outputs": [
    {
     "data": {
      "text/html": [
       "<h1 style = \"position:relative; margin-left:340px;\">Motion Planner Interface</h1>"
      ],
      "text/plain": [
       "<IPython.core.display.HTML object>"
      ]
     },
     "metadata": {},
     "output_type": "display_data"
    },
    {
     "name": "stdout",
     "output_type": "stream",
     "text": [
      "\n",
      "\n",
      "\n",
      "\n"
     ]
    },
    {
     "data": {
      "application/vnd.jupyter.widget-view+json": {
       "model_id": "e67c0b031c5b420ebd474c686a7f2de6",
       "version_major": 2,
       "version_minor": 0
      },
      "text/plain": [
       "GridBox(children=(Button(description='^', layout=Layout(grid_area='forward', width='auto'), style=ButtonStyle(…"
      ]
     },
     "metadata": {},
     "output_type": "display_data"
    }
   ],
   "source": [
    "def forw(forward):\n",
    "    [my_vel.linear.x, my_vel.angular.z] =[1 , 0] \n",
    "    vel_pub.publish(my_vel)\n",
    "\n",
    "def lef(left):\n",
    "    [my_vel.linear.x, my_vel.angular.z] =[0 , 2]\n",
    "    vel_pub.publish(my_vel)\n",
    "    \n",
    "def rig(right):\n",
    "    [my_vel.linear.x, my_vel.angular.z] =[0, -2]\n",
    "    vel_pub.publish(my_vel)\n",
    "    \n",
    "def beh(behind):\n",
    "    [my_vel.linear.x, my_vel.angular.z] =[-1 , 0]\n",
    "    vel_pub.publish(my_vel)\n",
    "\n",
    "def quit(quit):\n",
    "    global exit\n",
    "    exit = False\n",
    "    [my_vel.linear.x, my_vel.angular.z] =[0 , 0]\n",
    "    vel_pub.publish(my_vel)\n",
    "    into()\n",
    "\n",
    "    \n",
    "    \n",
    "\n",
    "def manual_show():\n",
    "    \n",
    "        global my_vel,vel_pub,exit, manual_bol\n",
    "        vel_pub = rospy.Publisher('/cmd_vel', Twist, queue_size = 50)\n",
    "        my_vel = Twist()\n",
    "        \n",
    "        display(HTML('<h1 style = \"position:relative; margin-left:340px;\">Motion Planner Interface</h1>'))\n",
    "        print('\\n')\n",
    "        print('\\n')\n",
    "\n",
    "        forward = Button(description='^',layout=Layout(width='auto', grid_area='forward'), style=ButtonStyle(button_color='lightblue'))\n",
    "        left = Button(description='<', layout=Layout(width='auto', grid_area='left'), style=ButtonStyle(button_color='lightblue'))\n",
    "        right = Button(description='>', layout=Layout(width='auto', grid_area='right'), style=ButtonStyle(button_color='lightblue'))\n",
    "        behind = Button(description='v', layout=Layout(width='auto', grid_area='behind'), style=ButtonStyle(button_color='lightblue'))\n",
    "        quit = Button(description='quit', layout=Layout(width='auto', grid_area='quit'), style=ButtonStyle(button_color='red'))\n",
    "\n",
    "        box = GridBox(children=[forward,left,right,behind,quit], layout=Layout(width='auto',grid_template_rows='auto auto auto', grid_template_columns='auto auto auto', grid_template_areas='''\n",
    "        \" . forward . . .\" \n",
    "        \"left . right . .\"\n",
    "        \" . behind . . quit \"\n",
    "        ''')\n",
    "        )   \n",
    "        \n",
    "        display(box)\n",
    "        forward.on_click(fforward)\n",
    "        left.on_click(fleft)\n",
    "        right.on_click(fright)\n",
    "        behind.on_click(fbehind)\n",
    "        quit.on_click(fquit)\n",
    "\n",
    "\n",
    "\n",
    "\n",
    "\n",
    "\n",
    "manual_show()\n",
    "\n"
   ]
  },
  {
   "cell_type": "code",
   "execution_count": 89,
   "metadata": {
    "ExecuteTime": {
     "end_time": "2022-05-05T08:46:00.641621Z",
     "start_time": "2022-05-05T08:46:00.538459Z"
    }
   },
   "outputs": [
    {
     "data": {
      "text/html": [
       "<h1 style = \"position:relative; margin-left:370px;\">Assisted Motion Planner</h1>"
      ],
      "text/plain": [
       "<IPython.core.display.HTML object>"
      ]
     },
     "metadata": {},
     "output_type": "display_data"
    },
    {
     "name": "stdout",
     "output_type": "stream",
     "text": [
      "\n",
      "\n",
      "\n",
      "\n"
     ]
    },
    {
     "data": {
      "application/vnd.jupyter.widget-view+json": {
       "model_id": "4a059aba05684358b96d076615238531",
       "version_major": 2,
       "version_minor": 0
      },
      "text/plain": [
       "GridBox(children=(Button(description='^', layout=Layout(grid_area='forw', width='auto'), style=ButtonStyle(but…"
      ]
     },
     "metadata": {},
     "output_type": "display_data"
    },
    {
     "name": "stdout",
     "output_type": "stream",
     "text": [
      "\n",
      "\n"
     ]
    },
    {
     "data": {
      "text/html": [
       "<h3 style = \"position:relative; margin-left:0px;\">Closest obstacle distance:</h3>"
      ],
      "text/plain": [
       "<IPython.core.display.HTML object>"
      ]
     },
     "metadata": {},
     "output_type": "display_data"
    },
    {
     "name": "stdout",
     "output_type": "stream",
     "text": [
      "\n",
      "\n"
     ]
    },
    {
     "data": {
      "application/vnd.jupyter.widget-view+json": {
       "model_id": "d8b7d5b283b04c9ca21b46234f1a5587",
       "version_major": 2,
       "version_minor": 0
      },
      "text/plain": [
       "Output(layout=Layout(border='1px solid black'))"
      ]
     },
     "metadata": {},
     "output_type": "display_data"
    },
    {
     "data": {
      "text/html": [
       "<h3 style = \"position:relative; margin-left:0px;\">State:</h3>"
      ],
      "text/plain": [
       "<IPython.core.display.HTML object>"
      ]
     },
     "metadata": {},
     "output_type": "display_data"
    },
    {
     "name": "stdout",
     "output_type": "stream",
     "text": [
      "\n",
      "\n"
     ]
    },
    {
     "data": {
      "application/vnd.jupyter.widget-view+json": {
       "model_id": "e982f888b9684fde848496962213312e",
       "version_major": 2,
       "version_minor": 0
      },
      "text/plain": [
       "Output(layout=Layout(border='1px solid black'))"
      ]
     },
     "metadata": {},
     "output_type": "display_data"
    },
    {
     "name": "stdout",
     "output_type": "stream",
     "text": [
      "\n",
      "\n"
     ]
    },
    {
     "data": {
      "application/vnd.jupyter.widget-view+json": {
       "model_id": "88e4afdc90fd45508ebd7f3580b24da3",
       "version_major": 2,
       "version_minor": 0
      },
      "text/plain": [
       "Button(description='Plot position', layout=Layout(margin='0px 0px 0px 700px', width='100'), style=ButtonStyle(…"
      ]
     },
     "metadata": {},
     "output_type": "display_data"
    },
    {
     "data": {
      "application/vnd.jupyter.widget-view+json": {
       "model_id": "bf53b596be1c4b1fadc6a722ba352dd7",
       "version_major": 2,
       "version_minor": 0
      },
      "text/plain": [
       "Button(description='Exit', layout=Layout(margin='0px 0px 0px 700px', width='100'), style=ButtonStyle(button_co…"
      ]
     },
     "metadata": {},
     "output_type": "display_data"
    }
   ],
   "source": [
    "def plt(a):\n",
    "    print(\"ok\")\n",
    "    \n",
    "def frw(a):\n",
    "    print('ok')\n",
    "    \n",
    "def be(a):\n",
    "    print('ok')\n",
    "    \n",
    "def le(a):\n",
    "    print('ok')\n",
    "    \n",
    "def ri(a):\n",
    "    print('ok')\n",
    "    \n",
    "def exm(a):\n",
    "    print('ok')\n",
    "    \n",
    "    \n",
    "def assisted_manual_show():\n",
    "    \n",
    "        \n",
    "        #attivare i bottoni solo se lontano dagli ostacoli\n",
    "        #in every button if near obstacles take_action() other wise directly publish\n",
    "        display(HTML('<h1 style = \"position:relative; margin-left:370px;\">Assisted Motion Planner</h1>'))\n",
    "        print('\\n')\n",
    "        print('\\n')\n",
    "        from jupyros import ros3d\n",
    "\n",
    "        forw = Button(description='^',layout=Layout(width='auto', grid_area='forw'), style=ButtonStyle(button_color='lightblue'))\n",
    "        lef = Button(description='<', layout=Layout(width='auto', grid_area='lef'), style=ButtonStyle(button_color='lightblue'))\n",
    "        rig = Button(description='>', layout=Layout(width='auto', grid_area='rig'), style=ButtonStyle(button_color='lightblue'))\n",
    "        beh = Button(description='v', layout=Layout(width='auto', grid_area='beh'), style=ButtonStyle(button_color='lightblue'))\n",
    "\n",
    "        field = GridBox(children=[forw,lef,rig,beh], layout=Layout(width='auto',grid_template_rows='auto auto auto', grid_template_columns='auto auto auto', grid_template_areas='''\n",
    "        \" . forw . \" \n",
    "        \"lef . rig \"\n",
    "        \" . beh . \"\n",
    "        ''')\n",
    "        )\n",
    "        \n",
    "        display(field)\n",
    "        print('\\n')\n",
    "        display(HTML('<h3 style = \"position:relative; margin-left:0px;\">Closest obstacle distance:</h3>'))\n",
    "        print('\\n')\n",
    "        min_assfront = widgets.Output(layout={'border': '1px solid black'},style = \"position:relative; margin-left:2000px;\") \n",
    "        display(min_assfront)\n",
    "        display(HTML('<h3 style = \"position:relative; margin-left:0px;\">State:</h3>'))\n",
    "        print('\\n')\n",
    "        state = widgets.Output(layout={'border': '1px solid black'},style = \"position:relative; margin-left:2000px;\") \n",
    "        display(state)\n",
    "        print('\\n')\n",
    "        \n",
    "        plt_pos = Button(description='Plot position', layout=Layout(width='100', margin= '0px 0px 0px 700px'), style=ButtonStyle(button_color='orange'))\n",
    "        display(plt_pos)\n",
    "        \n",
    "        exitm = Button(description='Exit', layout=Layout(width='100', margin= '0px 0px 0px 700px'), style=ButtonStyle(button_color='red'))\n",
    "        display(exitm)\n",
    "        \n",
    "        exitm.on_click(exm)\n",
    "        plt_pos.on_click(plt)\n",
    "        forw.on_click(frw)\n",
    "        lef.on_click(le)\n",
    "        rig.on_click(ri)\n",
    "        beh.on_click(be)\n",
    "        return state,min_assfront\n",
    "\n",
    "state, min_assfront = assisted_manual_show()\n",
    "    \n"
   ]
  },
  {
   "cell_type": "code",
   "execution_count": 90,
   "metadata": {
    "ExecuteTime": {
     "end_time": "2022-05-05T08:46:11.008928Z",
     "start_time": "2022-05-05T08:46:10.996994Z"
    }
   },
   "outputs": [],
   "source": [
    "with min_assfront:\n",
    "    print(\"cazzo guardi\")"
   ]
  },
  {
   "cell_type": "code",
   "execution_count": null,
   "metadata": {},
   "outputs": [],
   "source": []
  }
 ],
 "metadata": {
  "celltoolbar": "Raw Cell Format",
  "hide_input": false,
  "kernelspec": {
   "display_name": "Python 3 (ipykernel)",
   "language": "python",
   "name": "python3"
  },
  "language_info": {
   "codemirror_mode": {
    "name": "ipython",
    "version": 3
   },
   "file_extension": ".py",
   "mimetype": "text/x-python",
   "name": "python",
   "nbconvert_exporter": "python",
   "pygments_lexer": "ipython3",
   "version": "3.8.5"
  },
  "toc": {
   "base_numbering": 1,
   "nav_menu": {},
   "number_sections": true,
   "sideBar": true,
   "skip_h1_title": false,
   "title_cell": "Table of Contents",
   "title_sidebar": "Contents",
   "toc_cell": false,
   "toc_position": {
    "height": "calc(100% - 180px)",
    "left": "10px",
    "top": "150px",
    "width": "480px"
   },
   "toc_section_display": true,
   "toc_window_display": false
  },
  "varInspector": {
   "cols": {
    "lenName": 16,
    "lenType": 16,
    "lenVar": 40
   },
   "kernels_config": {
    "python": {
     "delete_cmd_postfix": "",
     "delete_cmd_prefix": "del ",
     "library": "var_list.py",
     "varRefreshCmd": "print(var_dic_list())"
    },
    "r": {
     "delete_cmd_postfix": ") ",
     "delete_cmd_prefix": "rm(",
     "library": "var_list.r",
     "varRefreshCmd": "cat(var_dic_list()) "
    }
   },
   "oldHeight": 645.35,
   "position": {
    "height": "667.85px",
    "left": "1192.5px",
    "right": "20px",
    "top": "240px",
    "width": "353.5px"
   },
   "types_to_exclude": [
    "module",
    "function",
    "builtin_function_or_method",
    "instance",
    "_Feature"
   ],
   "varInspector_section_display": "block",
   "window_display": false
  }
 },
 "nbformat": 4,
 "nbformat_minor": 2
}
