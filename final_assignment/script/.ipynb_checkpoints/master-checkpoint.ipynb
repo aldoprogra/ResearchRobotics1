{
 "cells": [
  {
   "cell_type": "code",
   "execution_count": null,
   "metadata": {
    "ExecuteTime": {
     "end_time": "2022-04-24T12:05:03.893877Z",
     "start_time": "2022-04-24T12:05:03.876080Z"
    }
   },
   "outputs": [],
   "source": [
    "#! /usr/bin/env python"
   ]
  },
  {
   "cell_type": "code",
   "execution_count": 7,
   "metadata": {
    "ExecuteTime": {
     "end_time": "2022-04-25T16:31:31.965305Z",
     "start_time": "2022-04-25T16:31:31.884246Z"
    }
   },
   "outputs": [],
   "source": [
    "import jupyros\n",
    "import rospy\n",
    "import os\n",
    "from move_base_msgs.msg import MoveBaseActionFeedback\n",
    "from move_base_msgs.msg import MoveBaseActionGoal\n",
    "from nav_msgs.msg import Odometry\n",
    "from geometry_msgs.msg import Twist\n",
    "from actionlib_msgs.msg import GoalID\n",
    "from actionlib_msgs.msg import GoalStatusArray\n",
    "import termios\n",
    "import sys, tty\n",
    "from sensor_msgs.msg import LaserScan\n",
    "from IPython.core.display import display, HTML\n",
    "import ipywidgets as widgets\n",
    "from ipywidgets import AppLayout, Button, Layout\n",
    "from ipywidgets import Button, Layout, ButtonStyle, GridBox, VBox, HBox \n",
    "import ipywidgets as widgets\n",
    "from IPython.display import display\n",
    "import ipywidgets as widgets\n",
    "from ipywidgets import interact, interactive, fixed, interact_manual, interactive_output\n",
    "import time\n",
    "from ipywidgets import Button, Layout, ButtonStyle, GridBox, VBox, HBox \n",
    "import ipywidgets as widgets\n",
    "from jupyros import ros3d\n",
    "from IPython.display import clear_output"
   ]
  },
  {
   "cell_type": "code",
   "execution_count": 3,
   "metadata": {
    "ExecuteTime": {
     "end_time": "2022-04-25T16:30:05.664795Z",
     "start_time": "2022-04-25T16:30:05.397653Z"
    }
   },
   "outputs": [
    {
     "name": "stdout",
     "output_type": "stream",
     "text": [
      "\u001b[H\u001b[2J"
     ]
    },
    {
     "data": {
      "text/html": [
       "<h1 style = \"position:relative; margin-left:200px;\">      MENU</h1>"
      ],
      "text/plain": [
       "<IPython.core.display.HTML object>"
      ]
     },
     "metadata": {},
     "output_type": "display_data"
    },
    {
     "name": "stdout",
     "output_type": "stream",
     "text": [
      "\n",
      "\n",
      "\n",
      "\n"
     ]
    },
    {
     "data": {
      "text/html": [
       "<h3 style = \"position:relative; margin-left:0px;\">1) Planning motion</h3>"
      ],
      "text/plain": [
       "<IPython.core.display.HTML object>"
      ]
     },
     "metadata": {},
     "output_type": "display_data"
    },
    {
     "data": {
      "text/html": [
       "<h3 style = \"position:relative; margin-left:0px;\">2) Manual motion </h3>"
      ],
      "text/plain": [
       "<IPython.core.display.HTML object>"
      ]
     },
     "metadata": {},
     "output_type": "display_data"
    },
    {
     "data": {
      "text/html": [
       "<h3 style = \"position:relative; margin-left:0px;\">3) Assisted manual motion</h3>"
      ],
      "text/plain": [
       "<IPython.core.display.HTML object>"
      ]
     },
     "metadata": {},
     "output_type": "display_data"
    }
   ],
   "source": [
    "def intro():\n",
    "        os.system(\"clear\")\n",
    "        display(HTML('<h1 style = \"position:relative; margin-left:200px;\">      MENU</h1>'))\n",
    "        print('\\n')\n",
    "        print('\\n')\n",
    "        display(HTML('<h3 style = \"position:relative; margin-left:0px;\">1) Planning motion</h3>'))\n",
    "        display(HTML('<h3 style = \"position:relative; margin-left:0px;\">2) Manual motion </h3>'))\n",
    "        display(HTML('<h3 style = \"position:relative; margin-left:0px;\">3) Assisted manual motion</h3>'))\n",
    "\n",
    "\n",
    "intro()"
   ]
  },
  {
   "cell_type": "code",
   "execution_count": 4,
   "metadata": {
    "ExecuteTime": {
     "end_time": "2022-04-25T16:30:19.064474Z",
     "start_time": "2022-04-25T16:30:16.989547Z"
    }
   },
   "outputs": [
    {
     "data": {
      "text/html": [
       "<h4 style = \"position:relative; margin-left:0px;\">Do you want a new goal? [y] or [n]</h4>"
      ],
      "text/plain": [
       "<IPython.core.display.HTML object>"
      ]
     },
     "metadata": {},
     "output_type": "display_data"
    },
    {
     "name": "stdout",
     "output_type": "stream",
     "text": [
      "n\n"
     ]
    }
   ],
   "source": [
    "# Maybe better without button deploying input?\n",
    "\n",
    "def state_show():\n",
    "    \n",
    "    display(HTML('<h4 style = \"position:relative; margin-left:0px;\">Do you want a new goal? [y] or [n]</h4>'))\n",
    "    answer = input()\n",
    "    return answer\n",
    "\n",
    "\n",
    "answer = state_show()\n",
    "\n"
   ]
  },
  {
   "cell_type": "code",
   "execution_count": null,
   "metadata": {
    "ExecuteTime": {
     "end_time": "2022-04-25T15:15:34.148555Z",
     "start_time": "2022-04-25T15:15:34.140124Z"
    },
    "scrolled": false
   },
   "outputs": [],
   "source": [
    "def move_base_show():\n",
    " \n",
    "       \n",
    "       os.system(\"clear\")\n",
    "       display(HTML('<h1 style = \"position:relative; margin-left:300px;\">      PLANNING MOTION INTERFACE</h1>'))\n",
    "       print('\\n')\n",
    "       print('\\n')\n",
    "       v = ros3d.Viewer()\n",
    "       rc = ros3d.ROSConnection(url=\"ws://localhost:9090\") \n",
    "       tf_client = ros3d.TFClient(ros=rc, fixed_frame='map')\n",
    "       laser_view = ros3d.LaserScan(topic=\"/scan\", ros=rc, tf_client=tf_client) \n",
    "       g = ros3d.GridModel()\n",
    "       v.objects = [g, laser_view]\n",
    "       display(v)\n",
    "       #move_base()\n",
    "#move_base_show()"
   ]
  },
  {
   "cell_type": "code",
   "execution_count": null,
   "metadata": {
    "ExecuteTime": {
     "start_time": "2022-04-25T16:37:06.561Z"
    },
    "scrolled": true
   },
   "outputs": [
    {
     "data": {
      "text/html": [
       "<h3 style = \"position:relative; margin-left:0px;\"> Feedback</h3>"
      ],
      "text/plain": [
       "<IPython.core.display.HTML object>"
      ]
     },
     "metadata": {},
     "output_type": "display_data"
    },
    {
     "data": {
      "application/vnd.jupyter.widget-view+json": {
       "model_id": "b154ea2249b1472a901d02185d09094e",
       "version_major": 2,
       "version_minor": 0
      },
      "text/plain": [
       "Output(layout=Layout(border='1px solid black'))"
      ]
     },
     "metadata": {},
     "output_type": "display_data"
    },
    {
     "data": {
      "text/html": [
       "<h3 style = \"position:relative; margin-left:0px;\"> Distance to goal</h3>"
      ],
      "text/plain": [
       "<IPython.core.display.HTML object>"
      ]
     },
     "metadata": {},
     "output_type": "display_data"
    },
    {
     "data": {
      "application/vnd.jupyter.widget-view+json": {
       "model_id": "92d33e6cd7b5438da6542d2668c064bf",
       "version_major": 2,
       "version_minor": 0
      },
      "text/plain": [
       "Output(layout=Layout(border='1px solid black'))"
      ]
     },
     "metadata": {},
     "output_type": "display_data"
    },
    {
     "name": "stdout",
     "output_type": "stream",
     "text": [
      "\u001b[H\u001b[2J"
     ]
    },
    {
     "data": {
      "text/html": [
       "<h3 style = \"position:relative; margin-left:0px;\">Insert coordinates:</h3>"
      ],
      "text/plain": [
       "<IPython.core.display.HTML object>"
      ]
     },
     "metadata": {},
     "output_type": "display_data"
    },
    {
     "name": "stdout",
     "output_type": "stream",
     "text": [
      "\n",
      "\n",
      "x = 1\n",
      "y = 0\n",
      "\u001b[H\u001b[2J\u001b[H\u001b[2J\u001b[H\u001b[2J\u001b[H\u001b[2J\u001b[H\u001b[2J\u001b[H\u001b[2J\u001b[H\u001b[2J\u001b[H\u001b[2J\u001b[H\u001b[2J\u001b[H\u001b[2J\u001b[H\u001b[2J\u001b[H\u001b[2J\u001b[H\u001b[2J\u001b[H\u001b[2J\u001b[H\u001b[2J\u001b[H\u001b[2J\u001b[H\u001b[2J\u001b[H\u001b[2J\u001b[H\u001b[2J\u001b[H\u001b[2J\u001b[H\u001b[2J\u001b[H\u001b[2J\u001b[H\u001b[2J\u001b[H\u001b[2J\u001b[H\u001b[2J\u001b[H\u001b[2J\u001b[H\u001b[2J\u001b[H\u001b[2J\u001b[H\u001b[2J\u001b[H\u001b[2J\u001b[H\u001b[2J\u001b[H\u001b[2J\u001b[H\u001b[2J\u001b[H\u001b[2J\u001b[H\u001b[2J\u001b[H\u001b[2J\u001b[H\u001b[2J\u001b[H\u001b[2J\u001b[H\u001b[2J\u001b[H\u001b[2J\u001b[H\u001b[2J\u001b[H\u001b[2J\u001b[H\u001b[2J\u001b[H\u001b[2J\u001b[H\u001b[2J\u001b[H\u001b[2J\u001b[H\u001b[2J\u001b[H\u001b[2J\u001b[H\u001b[2J\u001b[H\u001b[2J\u001b[H\u001b[2J\u001b[H\u001b[2J\u001b[H\u001b[2J\u001b[H\u001b[2J\u001b[H\u001b[2J\u001b[H\u001b[2J\u001b[H\u001b[2J\u001b[H\u001b[2J\u001b[H\u001b[2J\u001b[H\u001b[2J\u001b[H\u001b[2J\u001b[H\u001b[2J\u001b[H\u001b[2J\u001b[H\u001b[2J\u001b[H\u001b[2J\u001b[H\u001b[2J\u001b[H\u001b[2J\u001b[H\u001b[2J\u001b[H\u001b[2J\u001b[H\u001b[2J\u001b[H\u001b[2J\u001b[H\u001b[2J\u001b[H\u001b[2J\u001b[H\u001b[2J\u001b[H\u001b[2J\u001b[H\u001b[2J\u001b[H\u001b[2J\u001b[H\u001b[2J\u001b[H\u001b[2J\u001b[H\u001b[2J\u001b[H\u001b[2J\u001b[H\u001b[2J\u001b[H\u001b[2J\u001b[H\u001b[2J\u001b[H\u001b[2J\u001b[H\u001b[2J\u001b[H\u001b[2J\u001b[H\u001b[2J\u001b[H\u001b[2J\u001b[H\u001b[2J\u001b[H\u001b[2J\u001b[H\u001b[2J\u001b[H\u001b[2J\u001b[H\u001b[2J\u001b[H\u001b[2J\u001b[H\u001b[2J\u001b[H\u001b[2J\u001b[H\u001b[2J\u001b[H\u001b[2J\u001b[H\u001b[2J\u001b[H\u001b[2J\u001b[H\u001b[2J\u001b[H\u001b[2J\u001b[H\u001b[2J\u001b[H\u001b[2J\u001b[H\u001b[2J\u001b[H\u001b[2J\u001b[H\u001b[2J\u001b[H\u001b[2J\u001b[H\u001b[2J\u001b[H\u001b[2J\u001b[H\u001b[2J\u001b[H\u001b[2J\u001b[H\u001b[2J\u001b[H\u001b[2J\u001b[H\u001b[2J\u001b[H\u001b[2J\u001b[H\u001b[2J\u001b[H\u001b[2J\u001b[H\u001b[2J\u001b[H\u001b[2J\u001b[H\u001b[2J\u001b[H\u001b[2J\u001b[H\u001b[2J\u001b[H\u001b[2J\u001b[H\u001b[2J\u001b[H\u001b[2J\u001b[H\u001b[2J\u001b[H\u001b[2J\u001b[H\u001b[2J\u001b[H\u001b[2J\u001b[H\u001b[2J\u001b[H\u001b[2J\u001b[H\u001b[2J\u001b[H\u001b[2J\u001b[H\u001b[2J\u001b[H\u001b[2J\u001b[H\u001b[2J\u001b[H\u001b[2J\u001b[H\u001b[2J\u001b[H\u001b[2J\u001b[H\u001b[2J\u001b[H\u001b[2J\u001b[H\u001b[2J\u001b[H\u001b[2J\u001b[H\u001b[2J\u001b[H\u001b[2J\u001b[H\u001b[2J\u001b[H\u001b[2J\u001b[H\u001b[2J\u001b[H\u001b[2J\u001b[H\u001b[2J\u001b[H\u001b[2J\u001b[H\u001b[2J\u001b[H\u001b[2J\u001b[H\u001b[2J\u001b[H\u001b[2J\u001b[H\u001b[2J\u001b[H\u001b[2J\u001b[H\u001b[2J\u001b[H\u001b[2J\u001b[H\u001b[2J\u001b[H\u001b[2J\u001b[H\u001b[2J\u001b[H\u001b[2J\u001b[H\u001b[2J\u001b[H\u001b[2J\u001b[H\u001b[2J\u001b[H\u001b[2J\u001b[H\u001b[2J\u001b[H\u001b[2J\u001b[H\u001b[2J\u001b[H\u001b[2J\u001b[H\u001b[2J\u001b[H\u001b[2J\u001b[H\u001b[2J\u001b[H\u001b[2J\u001b[H\u001b[2J\u001b[H\u001b[2J\u001b[H\u001b[2J\u001b[H\u001b[2J\u001b[H\u001b[2J\u001b[H\u001b[2J\u001b[H\u001b[2J\u001b[H\u001b[2J\u001b[H\u001b[2J\u001b[H\u001b[2J\u001b[H\u001b[2J\u001b[H\u001b[2J\u001b[H\u001b[2J\u001b[H\u001b[2J\u001b[H\u001b[2J\u001b[H\u001b[2J\u001b[H\u001b[2J\u001b[H\u001b[2J\u001b[H\u001b[2J\u001b[H\u001b[2J\u001b[H\u001b[2J\u001b[H\u001b[2J\u001b[H\u001b[2J\u001b[H\u001b[2J\u001b[H\u001b[2J\u001b[H\u001b[2J\u001b[H\u001b[2J\u001b[H\u001b[2J\u001b[H\u001b[2J\u001b[H\u001b[2J\u001b[H\u001b[2J\u001b[H\u001b[2J\u001b[H\u001b[2J\u001b[H\u001b[2J\u001b[H\u001b[2J\u001b[H\u001b[2J\u001b[H\u001b[2J\u001b[H\u001b[2J\u001b[H\u001b[2J\u001b[H\u001b[2J\u001b[H\u001b[2J\u001b[H\u001b[2J\u001b[H\u001b[2J\u001b[H\u001b[2J\u001b[H\u001b[2J\u001b[H\u001b[2J\u001b[H\u001b[2J\u001b[H\u001b[2J\u001b[H\u001b[2J\u001b[H\u001b[2J\u001b[H\u001b[2J\u001b[H\u001b[2J\u001b[H\u001b[2J\u001b[H\u001b[2J\u001b[H\u001b[2J\u001b[H\u001b[2J\u001b[H\u001b[2J\u001b[H\u001b[2J\u001b[H\u001b[2J\u001b[H\u001b[2J\u001b[H\u001b[2J\u001b[H\u001b[2J\u001b[H\u001b[2J\u001b[H\u001b[2J\u001b[H\u001b[2J\u001b[H\u001b[2J\u001b[H\u001b[2J"
     ]
    }
   ],
   "source": [
    "def todist(x,y,x_pos,y_pos):\n",
    "    return ((x-x_pos)**2-(y-y_pos)**2)**0.5\n",
    "\n",
    "def move_base():\n",
    "\n",
    "        pub_movebase = rospy.Publisher(\"/move_base/goal\", MoveBaseActionGoal, queue_size = 50)\n",
    "        rate = rospy.Rate(10)\n",
    "        move = MoveBaseActionGoal()\n",
    "        move.goal.target_pose.header.frame_id = \"map\"\n",
    "        move.goal.target_pose.pose.orientation.w = 1\n",
    "        position = rospy.wait_for_message(\"/odom\",Odometry)\n",
    "\n",
    "\n",
    "        #-------------------------------------\n",
    "        \n",
    "        rate.sleep()\n",
    "        #move_base_show()\n",
    "        display(HTML('<h3 style = \"position:relative; margin-left:0px;\"> Feedback</h3>'))\n",
    "        feedbackk = widgets.Output(layout={'border': '1px solid black'},style = \"position:relative; margin-left:2000px;\") \n",
    "        display(feedbackk)\n",
    "        display(HTML('<h3 style = \"position:relative; margin-left:0px;\"> Distance to goal</h3>'))\n",
    "        dtg = widgets.Output(layout={'border': '1px solid black'},style = \"position:relative; margin-left:2000px;\") \n",
    "        display(dtg)\n",
    "        \n",
    "        while(True):\n",
    "          \n",
    "                os.system(\"clear\")\n",
    "                display(HTML('<h3 style = \"position:relative; margin-left:0px;\">Insert coordinates:</h3>'))\n",
    "                print('\\n')\n",
    "\n",
    "                x = float(input('x = ') )\n",
    "                y = float(input('y = ') )\n",
    "                \n",
    "                \n",
    "                \n",
    "                move.goal.target_pose.pose.position.x = x\n",
    "                move.goal.target_pose.pose.position.y = y\n",
    "                \n",
    "                pub_movebase.publish(move)\n",
    "                rate.sleep()\n",
    "                \n",
    "                goal_info = None\n",
    "                while(goal_info is None):\n",
    "                        goal_info = rospy.wait_for_message(\"move_base/status\",GoalStatusArray)\n",
    "                        rate.sleep()\n",
    "                status = int(goal_info.status_list[-1].status)  \n",
    "                            \n",
    "                while(True):\n",
    "        \n",
    "                        goal_info = rospy.wait_for_message(\"move_base/status\",GoalStatusArray)\n",
    "                        _id = goal_info.status_list[0].goal_id.id\n",
    "                        status = int(goal_info.status_list[-1].status)\n",
    "                    \n",
    "                        x_pos = position.twist.twist.linear.x \n",
    "                        y_pos = position.twist.twist.linear.y \n",
    "                        #add Feedback distance, handle it , and print in text box\n",
    "                        dist = todist(x,y,x_pos,y_pos)\n",
    "                        if(status == 1):\n",
    "                            #print in the text boxes\n",
    "                            with feedbackk:\n",
    "                                print('\\r                   ', end='', flush=True)\n",
    "                                print(f'\\rGoal Accepted', end='', flush=True)\n",
    "                            with dtg:\n",
    "                                print('\\r                   ', end='', flush=True)\n",
    "                                print(f'\\r{dist}', end='', flush=True)\n",
    "                            pass\n",
    "                        \n",
    "                        elif(status == 2):\n",
    "                            #print in the text boxes\n",
    "                            with feedbackk:\n",
    "                                print('\\r                   ', end='', flush=True)\n",
    "                                print(f'\\rGoal not reachable', end='', flush=True)\n",
    "                                count_nr = count_nr + 1\n",
    "                            continue\n",
    "                        \n",
    "                                                    \n",
    "                                                \n",
    "                        elif(status == 3):\n",
    "                            #print in the text boxes\n",
    "                            with feedbackk:\n",
    "                                print('\\r                   ', end='', flush=True)\n",
    "                                print(f'\\rGoal reached', end='', flush=True)\n",
    "                            clear_output(wait=True)    \n",
    "                            button = state_show()\n",
    "       \n",
    "                            if(button == 'y'):\n",
    "                                break\n",
    "                    \n",
    "                            if(button == 'n'):\n",
    "                                publisher_cancel = rospy.Publisher(\"/move_base/cancel\", GoalID, queue_size = 1)\n",
    "                                cancel = GoalID()\n",
    "                                publisher_cancel.publish(cancel)\n",
    "                                return 1\n",
    "                            else:\n",
    "                                with feedbackk:\n",
    "                                    print('\\r                   ', end='', flush=True)\n",
    "                                    print(f'\\rCommand wrong', end='', flush=True)\n",
    "                                continue\n",
    "\n",
    "                                \n",
    "                        \n",
    "                        elif(status == 4):\n",
    "                            #print in the text boxes\n",
    "                            with feedbackk:\n",
    "                                print('\\r                   ', end='', flush=True)\n",
    "                                print(f'\\rGoal aborted', end='', flush=True)\n",
    "                            continue\n",
    "                            print('\\n')\n",
    "                            button = state_show()\n",
    "       \n",
    "                            if(button == 'y'):\n",
    "                                clear_output(wait=True)\n",
    "                                break\n",
    "\n",
    "                            if(button == 'n'):\n",
    "                                publisher_cancel = rospy.Publisher(\"/move_base/cancel\", GoalID, queue_size = 1)\n",
    "                                cancel = GoalID()\n",
    "                                publisher_cancel.publish(cancel)\n",
    "                                return 1\n",
    "                            else:\n",
    "                                with feedbackk:\n",
    "                                    print('\\r                   ', end='', flush=True)\n",
    "                                    print(f'\\r{word}', end='', flush=True)\n",
    "                        \n",
    "                        rate.sleep()\n",
    "                        os.system(\"clear\")\n",
    "                        \n",
    "                        \"\"\" \n",
    "                        TODO:     -COUNT PLOT\n",
    "                        \"\"\"\n",
    "move_base()"
   ]
  },
  {
   "cell_type": "code",
   "execution_count": 5,
   "metadata": {
    "ExecuteTime": {
     "end_time": "2022-04-25T15:24:57.795711Z",
     "start_time": "2022-04-25T15:24:57.718034Z"
    },
    "scrolled": false
   },
   "outputs": [
    {
     "data": {
      "text/html": [
       "<h1 style = \"position:relative; margin-left:340px;\">Motion Planner Interface</h1>"
      ],
      "text/plain": [
       "<IPython.core.display.HTML object>"
      ]
     },
     "metadata": {},
     "output_type": "display_data"
    },
    {
     "name": "stdout",
     "output_type": "stream",
     "text": [
      "\n",
      "\n",
      "\n",
      "\n",
      "\n",
      "\n",
      "\n",
      "\n"
     ]
    },
    {
     "data": {
      "application/vnd.jupyter.widget-view+json": {
       "model_id": "d49859e269f44305911194b46effc257",
       "version_major": 2,
       "version_minor": 0
      },
      "text/plain": [
       "GridBox(children=(Button(description='^', layout=Layout(grid_area='forward', width='auto'), style=ButtonStyle(…"
      ]
     },
     "metadata": {},
     "output_type": "display_data"
    },
    {
     "name": "stdout",
     "output_type": "stream",
     "text": [
      "\n",
      "\n",
      "\n",
      "\n",
      "True\n"
     ]
    },
    {
     "ename": "NameError",
     "evalue": "name 'my_vel' is not defined",
     "output_type": "error",
     "traceback": [
      "\u001b[0;31m---------------------------------------------------------------------------\u001b[0m",
      "\u001b[0;31mNameError\u001b[0m                                 Traceback (most recent call last)",
      "\u001b[0;32m/tmp/ipykernel_52326/187133028.py\u001b[0m in \u001b[0;36mfquit\u001b[0;34m(quit)\u001b[0m\n\u001b[1;32m     21\u001b[0m     \u001b[0mexit\u001b[0m \u001b[0;34m=\u001b[0m \u001b[0;32mTrue\u001b[0m\u001b[0;34m\u001b[0m\u001b[0;34m\u001b[0m\u001b[0m\n\u001b[1;32m     22\u001b[0m     \u001b[0mprint\u001b[0m\u001b[0;34m(\u001b[0m\u001b[0mexit\u001b[0m\u001b[0;34m)\u001b[0m\u001b[0;34m\u001b[0m\u001b[0;34m\u001b[0m\u001b[0m\n\u001b[0;32m---> 23\u001b[0;31m     \u001b[0;34m[\u001b[0m\u001b[0mmy_vel\u001b[0m\u001b[0;34m.\u001b[0m\u001b[0mlinear\u001b[0m\u001b[0;34m.\u001b[0m\u001b[0mx\u001b[0m\u001b[0;34m,\u001b[0m \u001b[0mmy_vel\u001b[0m\u001b[0;34m.\u001b[0m\u001b[0mangular\u001b[0m\u001b[0;34m.\u001b[0m\u001b[0mz\u001b[0m\u001b[0;34m]\u001b[0m \u001b[0;34m=\u001b[0m\u001b[0;34m[\u001b[0m\u001b[0;36m0\u001b[0m \u001b[0;34m,\u001b[0m \u001b[0;36m0\u001b[0m\u001b[0;34m]\u001b[0m\u001b[0;34m\u001b[0m\u001b[0;34m\u001b[0m\u001b[0m\n\u001b[0m\u001b[1;32m     24\u001b[0m     \u001b[0mvel_pub\u001b[0m\u001b[0;34m.\u001b[0m\u001b[0mpublish\u001b[0m\u001b[0;34m(\u001b[0m\u001b[0mmy_vel\u001b[0m\u001b[0;34m)\u001b[0m\u001b[0;34m\u001b[0m\u001b[0;34m\u001b[0m\u001b[0m\n\u001b[1;32m     25\u001b[0m \u001b[0;34m\u001b[0m\u001b[0m\n",
      "\u001b[0;31mNameError\u001b[0m: name 'my_vel' is not defined"
     ]
    },
    {
     "name": "stdout",
     "output_type": "stream",
     "text": [
      "True\n"
     ]
    },
    {
     "ename": "NameError",
     "evalue": "name 'my_vel' is not defined",
     "output_type": "error",
     "traceback": [
      "\u001b[0;31m---------------------------------------------------------------------------\u001b[0m",
      "\u001b[0;31mNameError\u001b[0m                                 Traceback (most recent call last)",
      "\u001b[0;32m/tmp/ipykernel_52326/187133028.py\u001b[0m in \u001b[0;36mfquit\u001b[0;34m(quit)\u001b[0m\n\u001b[1;32m     21\u001b[0m     \u001b[0mexit\u001b[0m \u001b[0;34m=\u001b[0m \u001b[0;32mTrue\u001b[0m\u001b[0;34m\u001b[0m\u001b[0;34m\u001b[0m\u001b[0m\n\u001b[1;32m     22\u001b[0m     \u001b[0mprint\u001b[0m\u001b[0;34m(\u001b[0m\u001b[0mexit\u001b[0m\u001b[0;34m)\u001b[0m\u001b[0;34m\u001b[0m\u001b[0;34m\u001b[0m\u001b[0m\n\u001b[0;32m---> 23\u001b[0;31m     \u001b[0;34m[\u001b[0m\u001b[0mmy_vel\u001b[0m\u001b[0;34m.\u001b[0m\u001b[0mlinear\u001b[0m\u001b[0;34m.\u001b[0m\u001b[0mx\u001b[0m\u001b[0;34m,\u001b[0m \u001b[0mmy_vel\u001b[0m\u001b[0;34m.\u001b[0m\u001b[0mangular\u001b[0m\u001b[0;34m.\u001b[0m\u001b[0mz\u001b[0m\u001b[0;34m]\u001b[0m \u001b[0;34m=\u001b[0m\u001b[0;34m[\u001b[0m\u001b[0;36m0\u001b[0m \u001b[0;34m,\u001b[0m \u001b[0;36m0\u001b[0m\u001b[0;34m]\u001b[0m\u001b[0;34m\u001b[0m\u001b[0;34m\u001b[0m\u001b[0m\n\u001b[0m\u001b[1;32m     24\u001b[0m     \u001b[0mvel_pub\u001b[0m\u001b[0;34m.\u001b[0m\u001b[0mpublish\u001b[0m\u001b[0;34m(\u001b[0m\u001b[0mmy_vel\u001b[0m\u001b[0;34m)\u001b[0m\u001b[0;34m\u001b[0m\u001b[0;34m\u001b[0m\u001b[0m\n\u001b[1;32m     25\u001b[0m \u001b[0;34m\u001b[0m\u001b[0m\n",
      "\u001b[0;31mNameError\u001b[0m: name 'my_vel' is not defined"
     ]
    }
   ],
   "source": [
    "def fforward(forward):\n",
    "    print(\"cazzo\")\n",
    "    [my_vel.linear.x, my_vel.angular.z] =[1 , 0] \n",
    "    vel_pub.publish(my_vel)\n",
    "    \n",
    "    \n",
    "def fleft(left):\n",
    "    [my_vel.linear.x, my_vel.angular.z] =[0 , 2]\n",
    "    vel_pub.publish(my_vel)\n",
    "    \n",
    "def fright(right):\n",
    "    [my_vel.linear.x, my_vel.angular.z] =[0, -2]\n",
    "    vel_pub.publish(my_vel)\n",
    "    \n",
    "def fbehind(behind):\n",
    "    [my_vel.linear.x, my_vel.angular.z] =[-1 , 0]\n",
    "    vel_pub.publish(my_vel)\n",
    "\n",
    "def fquit(quit):\n",
    "\n",
    "    exit = True\n",
    "    print(exit)\n",
    "    [my_vel.linear.x, my_vel.angular.z] =[0 , 0]\n",
    "    vel_pub.publish(my_vel)\n",
    "\n",
    "    \n",
    "    \n",
    "\n",
    "def manual_show():\n",
    "    display(HTML('<h1 style = \"position:relative; margin-left:340px;\">Motion Planner Interface</h1>'))\n",
    "    print('\\n')\n",
    "    print('\\n')\n",
    "\n",
    "    \"\"\" \n",
    "    v = ros3d.Viewer()\n",
    "    rc = ros3d.ROSConnection(url=\"ws://localhost:9090\") \n",
    "    tf_client = ros3d.TFClient(ros=rc, fixed_frame='map')\n",
    "    laser_view = ros3d.LaserScan(topic=\"/scan\", ros=rc, tf_client=tf_client) \n",
    "    g = ros3d.GridModel()\n",
    "    v.objects = [g, laser_view]\n",
    "    display(v)\"\"\"\n",
    "    \n",
    "    forward = Button(description='^',layout=Layout(width='auto', grid_area='forward'), style=ButtonStyle(button_color='lightblue'))\n",
    "    left = Button(description='<', layout=Layout(width='auto', grid_area='left'), style=ButtonStyle(button_color='lightblue'))\n",
    "    right = Button(description='>', layout=Layout(width='auto', grid_area='right'), style=ButtonStyle(button_color='lightblue'))\n",
    "    behind = Button(description='v', layout=Layout(width='auto', grid_area='behind'), style=ButtonStyle(button_color='lightblue'))\n",
    "    quit = Button(description='quit', layout=Layout(width='auto', grid_area='quit'), style=ButtonStyle(button_color='red'))\n",
    "    \n",
    "    box = GridBox(children=[forward,left,right,behind,quit], layout=Layout(width='auto',grid_template_rows='auto auto auto', grid_template_columns='auto auto auto', grid_template_areas='''\n",
    "    \" . forward . . .\" \n",
    "    \"left . right . .\"\n",
    "    \" . behind . . quit \"\n",
    "    ''')\n",
    "    )   \n",
    "    print('\\n')\n",
    "    print('\\n')\n",
    "    \n",
    "    display(box)\n",
    "    print('\\n')\n",
    "    print('\\n')\n",
    "    \n",
    "    #print(exit)\n",
    "    forward.on_click(fforward)\n",
    "    left.on_click(fleft)\n",
    "    right.on_click(fright)\n",
    "    behind.on_click(fbehind)\n",
    "    quit.on_click(fquit)\n",
    "    \n",
    "\n",
    "\n",
    "\n",
    "\n",
    "manual_show()\n",
    "\n"
   ]
  },
  {
   "cell_type": "code",
   "execution_count": null,
   "metadata": {
    "ExecuteTime": {
     "start_time": "2022-04-25T15:25:32.814Z"
    }
   },
   "outputs": [],
   "source": [
    "#Come uscire fuori?\n",
    "def manual():\n",
    "        global my_vel,vel_pub\n",
    "        manual_show()\n",
    "        exit = False\n",
    "        while(not exit):\n",
    "\n",
    "            os.system(\"clear\")\n",
    "            vel_pub = rospy.Publisher(\"/cmd_vel\", Twist, queue_size= 50)\n",
    "            my_vel = Twist()\n",
    "            my_vel.linear.y = 0\n",
    "            my_vel.linear.z = 0\n",
    "            my_vel.angular.x = 0\n",
    "            my_vel.angular.y= 0\n",
    "\n",
    "\n",
    "            \n",
    "\n",
    "           # print(exit)\n",
    "            \n",
    "        \n",
    "        clear_output(wait=True)\n",
    "        [my_vel.linear.x, my_vel.angular.z] =[0 , 0]\n",
    "        vel_pub.publish(my_vel)\n",
    "        print(exit)\n",
    "\n",
    "\n",
    "                      \n",
    "\n",
    "#manual()"
   ]
  },
  {
   "cell_type": "code",
   "execution_count": null,
   "metadata": {
    "ExecuteTime": {
     "end_time": "2022-04-25T13:19:17.620731Z",
     "start_time": "2022-04-25T13:19:17.615029Z"
    }
   },
   "outputs": [],
   "source": [
    "def clbk_laser(msg):\n",
    "        min_fright = min(min(msg.ranges[144:287]), 5)\n",
    "        min_front =  min(min(msg.ranges[288:431]), 5)\n",
    "        min_fleft =  min(min(msg.ranges[432:575]), 5)\n",
    "        \n",
    "        return min_fright, min_front, min_fleft"
   ]
  },
  {
   "cell_type": "code",
   "execution_count": null,
   "metadata": {
    "ExecuteTime": {
     "start_time": "2022-04-25T15:17:15.185Z"
    }
   },
   "outputs": [],
   "source": [
    "def take_action(min_fright,min_front, min_fleft):\n",
    "    msg = Twist()\n",
    "    msg.linear.y = 0\n",
    "    msg.linear.z = 0\n",
    "    msg.angular.x = 0\n",
    "    msg.angular.y= 0\n",
    "    my_vel = rospy.Publisher('/cmd_vel', Twist, queue_size = 50)\n",
    "    state_description = ''\n",
    "    if min_front > 1 and min_fleft > 1 and min_fright > 1:\n",
    "        state_description = 'case 1 - nothing'\n",
    "        linear_x = 0.6\n",
    "        angular_z = 0\n",
    "    elif min_front < 1 and min_fleft > 1 and min_fright > 1:\n",
    "        state_description = 'case 2 - front'\n",
    "        linear_x = -2\n",
    "        angular_z = 0\n",
    "    elif min_front > 1 and min_fleft > 1 and min_fright < 1:\n",
    "        state_description = 'case 3 - fright'\n",
    "        linear_x = 0\n",
    "        angular_z = 1\n",
    "    elif min_front > 1 and min_fleft < 1 and min_fright > 1:\n",
    "        state_description = 'case 4 - fleft'\n",
    "        linear_x = 0\n",
    "        angular_z = -1\n",
    "    elif min_front < 1 and min_fleft > 1 and min_fright < 1:\n",
    "        state_description = 'case 5 - front and fright'\n",
    "        linear_x = 0\n",
    "        angular_z = 1\n",
    "    elif min_front < 1 and min_fleft < 1 and min_fright > 1:\n",
    "        state_description = 'case 6 - front and fleft'\n",
    "        linear_x = 0\n",
    "        angular_z = -1\n",
    "    elif min_front < 1 and min_fleft < 1 and min_fright < 1:\n",
    "        state_description = 'case 7 - front and fleft and fright'\n",
    "        linear_x = 0\n",
    "        angular_z = 2\n",
    "    elif min_front > 1 and min_fleft < 1 and min_fright < 1:\n",
    "        state_description = 'case 8 - fleft and fright'\n",
    "        linear_x = 0.3\n",
    "        angular_z = 0\n",
    "\n",
    "    #rospy.loginfo(state_description)\n",
    "    #print in the text box of motion planning\n",
    "    msg.linear.x = linear_x\n",
    "    msg.angular.z = angular_z\n",
    "    my_vel.publish(msg)\n",
    "        "
   ]
  },
  {
   "cell_type": "code",
   "execution_count": null,
   "metadata": {
    "ExecuteTime": {
     "end_time": "2022-04-25T11:03:36.812040Z",
     "start_time": "2022-04-25T11:03:36.748872Z"
    }
   },
   "outputs": [],
   "source": [
    "def assisted_manual_show():\n",
    "    \n",
    "        \n",
    "        #attivare i bottoni solo se lontano dagli ostacoli\n",
    "        #in every button if near obstacles take_action() other wise directly publish\n",
    "        display(HTML('<h1 style = \"position:relative; margin-left:370px;\">Assisted Motion Planner</h1>'))\n",
    "        print('\\n')\n",
    "        print('\\n')\n",
    "        from jupyros import ros3d\n",
    "        v = ros3d.Viewer()\n",
    "        rc = ros3d.ROSConnection(url=\"ws://localhost:9090\") \n",
    "        tf_client = ros3d.TFClient(ros=rc, fixed_frame='map')\n",
    "        laser_view = ros3d.LaserScan(topic=\"/scan\", ros=rc, tf_client=tf_client) \n",
    "        g = ros3d.GridModel()\n",
    "        v.objects = [g, laser_view]\n",
    "        display(v)\n",
    "        \n",
    "        \n",
    "        display(HTML('<h3 style = \"position:relative; margin-left:0px;\">Closest obstacle distance:</h3>'))\n",
    "        print('\\n')\n",
    "        assisted_obstacle = widgets.Output(layout={'border': '1px solid black'},style = \"position:relative; margin-left:2000px;\") \n",
    "        display(closest_obstacle)\n",
    "        display(HTML('<h3 style = \"position:relative; margin-left:0px;\">State:</h3>'))\n",
    "        print('\\n')\n",
    "        state = widgets.Output(layout={'border': '1px solid black'},style = \"position:relative; margin-left:2000px;\") \n",
    "        display(state)\n",
    "        print('\\n')\n",
    "        print('\\n')\n",
    "        print('\\n')\n",
    "        print('\\n')\n",
    "        print('\\n')\n",
    "        forward = Button(description='^',layout=Layout(width='auto', grid_area='forward'), style=ButtonStyle(button_color='lightblue'))\n",
    "        left = Button(description='<', layout=Layout(width='auto', grid_area='left'), style=ButtonStyle(button_color='moccasin'))\n",
    "        right = Button(description='>', layout=Layout(width='auto', grid_area='right'), style=ButtonStyle(button_color='salmon'))\n",
    "        behind = Button(description='v', layout=Layout(width='auto', grid_area='behind'), style=ButtonStyle(button_color='salmon'))\n",
    "        quit = Button(description='quit', layout=Layout(width='auto', grid_area='quit'), style=ButtonStyle(button_color='red'))\n",
    "        #display(forward,left,right,behind)\n",
    "        field = GridBox(children=[forward,left,right,behind,quit], layout=Layout(width='auto',grid_template_rows='auto auto auto', grid_template_columns='auto auto auto', grid_template_areas='''\n",
    "        \" . forward .\" \n",
    "        \"left . right\"\n",
    "        \" . behind .\"\n",
    "        ''')\n",
    "        )\n",
    "        display(field)\n",
    "        return state, assisted_obstacle\n",
    "\n",
    "#state, assisted_obstacle = assisted_manual_show()\n",
    "    \n"
   ]
  },
  {
   "cell_type": "code",
   "execution_count": null,
   "metadata": {
    "ExecuteTime": {
     "start_time": "2022-04-25T15:19:24.344Z"
    }
   },
   "outputs": [],
   "source": [
    "#Advertise the assisted motion interface that an obstacle is near\n",
    "def assisted_print(word):\n",
    "    with assisted_obstacle:\n",
    "        clear()\n",
    "        print(f'\\r{word}', end='', flush=True)\n",
    "\n",
    "        \n",
    "\n",
    "word = \"state: moving\"\n",
    "assisted_print(word)\n",
    "        "
   ]
  },
  {
   "cell_type": "code",
   "execution_count": null,
   "metadata": {
    "ExecuteTime": {
     "end_time": "2022-04-25T10:50:26.902389Z",
     "start_time": "2022-04-25T10:50:26.887666Z"
    }
   },
   "outputs": [],
   "source": [
    "def assisted_manual():\n",
    "        os.system(\"clear\")\n",
    "        assisted_manual_show()\n",
    "        vel_pub = rospy.Publisher(\"cmd_vel\", Twist, queue_size= 50)\n",
    "        \n",
    "        my_vel = Twist()\n",
    "        my_vel.linear.y = 0\n",
    "        my_vel.linear.z = 0\n",
    "        my_vel.angular.x = 0\n",
    "        my_vel.angular.y= 0\n",
    "        \n",
    "        \n",
    "        while True:\n",
    "        \n",
    "                laser = rospy.wait_for_message(\"/scan\", LaserScan)     \n",
    "                vel_pub = rospy.Publisher(\"cmd_vel\", Twist, queue_size= 50)\n",
    "                \n",
    "                [min_fright, min_front, min_fleft] = clbk_laser(laser)\n",
    "                \n",
    "                \n",
    "                if min_front < 1 or min_fleft < 1 or min_fright < 1:\n",
    "                        take_action(min_fright, min_front, min_fleft)\n",
    "                        \n",
    "                else:    \n",
    "                        arrow = input()\n",
    "                        if (arrow == 'w'):\n",
    "                                [my_vel.linear.x, my_vel.angular.z] =[1 , 0] \n",
    "                        elif (arrow == 'a'):\n",
    "                                [my_vel.linear.x, my_vel.angular.z] =[0 , 2]\n",
    "                        elif (arrow == 'd'):\n",
    "                                [my_vel.linear.x, my_vel.angular.z] =[0, -2]\n",
    "                        elif (arrow == 's'):\n",
    "                                [my_vel.linear.x, my_vel.angular.z] =[-1 , 0]\n",
    "                        elif (arrow == 'q'):\n",
    "                                [my_vel.linear.x, my_vel.angular.z] =[0 , 0]\n",
    "                                vel_pub.publish(my_vel)\n",
    "                                break\n",
    "                        else:\n",
    "                                print(\"Wrong button\")\n",
    "                                \n",
    "                        vel_pub.publish(my_vel)\n",
    "                        \n",
    "        return 1"
   ]
  },
  {
   "cell_type": "code",
   "execution_count": 5,
   "metadata": {
    "ExecuteTime": {
     "end_time": "2022-04-25T16:30:38.760207Z",
     "start_time": "2022-04-25T16:30:28.740816Z"
    }
   },
   "outputs": [
    {
     "name": "stdout",
     "output_type": "stream",
     "text": [
      "\u001b[H\u001b[2J"
     ]
    },
    {
     "data": {
      "text/html": [
       "<h1 style = \"position:relative; margin-left:200px;\">      MENU</h1>"
      ],
      "text/plain": [
       "<IPython.core.display.HTML object>"
      ]
     },
     "metadata": {},
     "output_type": "display_data"
    },
    {
     "name": "stdout",
     "output_type": "stream",
     "text": [
      "\n",
      "\n",
      "\n",
      "\n"
     ]
    },
    {
     "data": {
      "text/html": [
       "<h3 style = \"position:relative; margin-left:0px;\">1) Planning motion</h3>"
      ],
      "text/plain": [
       "<IPython.core.display.HTML object>"
      ]
     },
     "metadata": {},
     "output_type": "display_data"
    },
    {
     "data": {
      "text/html": [
       "<h3 style = \"position:relative; margin-left:0px;\">2) Manual motion </h3>"
      ],
      "text/plain": [
       "<IPython.core.display.HTML object>"
      ]
     },
     "metadata": {},
     "output_type": "display_data"
    },
    {
     "data": {
      "text/html": [
       "<h3 style = \"position:relative; margin-left:0px;\">3) Assisted manual motion</h3>"
      ],
      "text/plain": [
       "<IPython.core.display.HTML object>"
      ]
     },
     "metadata": {},
     "output_type": "display_data"
    },
    {
     "name": "stdout",
     "output_type": "stream",
     "text": [
      "Insert choicen\n"
     ]
    },
    {
     "ename": "ValueError",
     "evalue": "invalid literal for int() with base 10: 'n'",
     "output_type": "error",
     "traceback": [
      "\u001b[0;31m---------------------------------------------------------------------------\u001b[0m",
      "\u001b[0;31mValueError\u001b[0m                                Traceback (most recent call last)",
      "\u001b[0;32m/tmp/ipykernel_94503/2921749324.py\u001b[0m in \u001b[0;36m<module>\u001b[0;34m\u001b[0m\n\u001b[1;32m     41\u001b[0m \u001b[0;34m\u001b[0m\u001b[0m\n\u001b[1;32m     42\u001b[0m \u001b[0;34m\u001b[0m\u001b[0m\n\u001b[0;32m---> 43\u001b[0;31m \u001b[0mmain\u001b[0m\u001b[0;34m(\u001b[0m\u001b[0;34m)\u001b[0m\u001b[0;34m\u001b[0m\u001b[0;34m\u001b[0m\u001b[0m\n\u001b[0m",
      "\u001b[0;32m/tmp/ipykernel_94503/2921749324.py\u001b[0m in \u001b[0;36mmain\u001b[0;34m()\u001b[0m\n\u001b[1;32m      9\u001b[0m \u001b[0;34m\u001b[0m\u001b[0m\n\u001b[1;32m     10\u001b[0m                 \u001b[0mintro\u001b[0m\u001b[0;34m(\u001b[0m\u001b[0;34m)\u001b[0m\u001b[0;34m\u001b[0m\u001b[0;34m\u001b[0m\u001b[0m\n\u001b[0;32m---> 11\u001b[0;31m                 \u001b[0mcommand\u001b[0m \u001b[0;34m=\u001b[0m \u001b[0mint\u001b[0m\u001b[0;34m(\u001b[0m\u001b[0minput\u001b[0m\u001b[0;34m(\u001b[0m\u001b[0;34m\"Insert choice\"\u001b[0m\u001b[0;34m)\u001b[0m\u001b[0;34m)\u001b[0m\u001b[0;34m\u001b[0m\u001b[0;34m\u001b[0m\u001b[0m\n\u001b[0m\u001b[1;32m     12\u001b[0m \u001b[0;34m\u001b[0m\u001b[0m\n\u001b[1;32m     13\u001b[0m \u001b[0;34m\u001b[0m\u001b[0m\n",
      "\u001b[0;31mValueError\u001b[0m: invalid literal for int() with base 10: 'n'"
     ]
    }
   ],
   "source": [
    "def main():\n",
    "        exit = True\n",
    "        rospy.init_node('controller')\n",
    "  \n",
    "        #intro()\n",
    "        \n",
    "        \n",
    "        while (not rospy.is_shutdown() ):\n",
    "                \n",
    "                intro()\n",
    "                command = int(input(\"Insert choice\"))\n",
    "\n",
    "                \n",
    "                \n",
    "                while (True):\n",
    " \n",
    "                        if(command == 1):\n",
    "                                clear_output(wait=True)\n",
    "                                move_base()\n",
    "                                break\n",
    "                        \n",
    "                        if(command == 2):\n",
    "                                clear_output(wait=True)\n",
    "                                manual()\n",
    "                                break\n",
    "                        \n",
    "                        if(command == 3):\n",
    "                                clear_output(wait=True)\n",
    "                                assisted_manual()\n",
    "                                break\n",
    "                        \n",
    "                        if(command == 4):\n",
    "                                clear_output(wait=True)\n",
    "                                return 1\n",
    "                   \n",
    "                        \n",
    "                        else:\n",
    "                                clear_output(wait=True)\n",
    "                                print(\"Command incorrect\")\n",
    "                                break\n",
    "                        \n",
    "                     \n",
    "main()"
   ]
  },
  {
   "cell_type": "code",
   "execution_count": null,
   "metadata": {},
   "outputs": [],
   "source": []
  }
 ],
 "metadata": {
  "celltoolbar": "Raw Cell Format",
  "hide_input": false,
  "kernelspec": {
   "display_name": "Python 3 (ipykernel)",
   "language": "python",
   "name": "python3"
  },
  "language_info": {
   "codemirror_mode": {
    "name": "ipython",
    "version": 3
   },
   "file_extension": ".py",
   "mimetype": "text/x-python",
   "name": "python",
   "nbconvert_exporter": "python",
   "pygments_lexer": "ipython3",
   "version": "3.8.5"
  },
  "toc": {
   "base_numbering": 1,
   "nav_menu": {},
   "number_sections": true,
   "sideBar": true,
   "skip_h1_title": false,
   "title_cell": "Table of Contents",
   "title_sidebar": "Contents",
   "toc_cell": false,
   "toc_position": {
    "height": "calc(100% - 180px)",
    "left": "10px",
    "top": "150px",
    "width": "480px"
   },
   "toc_section_display": true,
   "toc_window_display": false
  },
  "varInspector": {
   "cols": {
    "lenName": 16,
    "lenType": 16,
    "lenVar": 40
   },
   "kernels_config": {
    "python": {
     "delete_cmd_postfix": "",
     "delete_cmd_prefix": "del ",
     "library": "var_list.py",
     "varRefreshCmd": "print(var_dic_list())"
    },
    "r": {
     "delete_cmd_postfix": ") ",
     "delete_cmd_prefix": "rm(",
     "library": "var_list.r",
     "varRefreshCmd": "cat(var_dic_list()) "
    }
   },
   "oldHeight": 645.35,
   "position": {
    "height": "667.85px",
    "left": "1192.5px",
    "right": "20px",
    "top": "240px",
    "width": "353.5px"
   },
   "types_to_exclude": [
    "module",
    "function",
    "builtin_function_or_method",
    "instance",
    "_Feature"
   ],
   "varInspector_section_display": "block",
   "window_display": false
  }
 },
 "nbformat": 4,
 "nbformat_minor": 2
}
